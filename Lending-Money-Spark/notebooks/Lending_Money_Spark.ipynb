{
 "cells": [
  {
   "cell_type": "markdown",
   "metadata": {},
   "source": [
    "# Lending Money with Spark"
   ]
  },
  {
   "cell_type": "code",
   "execution_count": 1,
   "metadata": {},
   "outputs": [],
   "source": [
    "# Importing Libraries\n",
    "import os\n",
    "import sys\n",
    "import math\n",
    "import re\n",
    "import urllib\n",
    "\n",
    "import numpy as np\n",
    "import matplotlib.pyplot as plt\n",
    "\n",
    "from pyspark.sql import SparkSession\n",
    "\n",
    "from pyspark.sql.functions import regexp_replace, regexp_extract\n",
    "from pyspark.sql.functions import col\n",
    "from pyspark.sql.functions import count, mean, stddev_pop, min, max, avg\n",
    "from pyspark.sql.functions import isnan, when, count, col\n",
    "from pyspark.sql.functions import lit\n",
    "from pyspark.sql.functions import coalesce\n",
    "from pyspark.sql.functions import isnan, when, count, col, log\n",
    "from pyspark.sql.types import FloatType"
   ]
  },
  {
   "cell_type": "code",
   "execution_count": 2,
   "metadata": {},
   "outputs": [],
   "source": [
    "# Creating Spark Session\n",
    "spark = SparkSession.builder.appName(\"LendingMoneySpark\").getOrCreate()"
   ]
  },
  {
   "cell_type": "code",
   "execution_count": 3,
   "metadata": {},
   "outputs": [],
   "source": [
    "# Importing Data\n",
    "\n",
    "# File location and type\n",
    "file_location = '../../../../Projects/lending_club/data/34_1110834_bundle_archive/loan.csv'\n",
    "file_type = 'csv'\n",
    "\n",
    "# CSV options\n",
    "infer_schema = 'true'\n",
    "first_row_is_header = 'true'\n",
    "delimiter = ','\n",
    "\n",
    "df = spark.read.format(file_type) \\\n",
    "    .option(\"multiline\", \"true\") \\\n",
    "    .option(\"quote\", \"\\\"\") \\\n",
    "    .option(\"escape\", \"\\\"\") \\\n",
    "\t.option('inferSchema', infer_schema) \\\n",
    "\t.option('header', first_row_is_header) \\\n",
    "\t.option('sep', delimiter) \\\n",
    "\t.load(file_location)"
   ]
  },
  {
   "cell_type": "code",
   "execution_count": 4,
   "metadata": {},
   "outputs": [
    {
     "name": "stdout",
     "output_type": "stream",
     "text": [
      "+----+---------+---------+-----------+---------------+----------+--------+-----------+-----+---------+---------+----------+--------------+----------+-------------------+--------+-----------+----------+----+----+------------------+------------------+--------+----------+-----+-----------+----------------+--------------+----------------------+----------------------+--------+-------+---------+----------+---------+-------------------+---------+-------------+-----------+---------------+---------------+-------------+------------------+----------+-----------------------+------------+---------------+------------+------------------+--------------------------+---------------------------+-----------+----------------+----------------+---------+-------------------------+--------------+------------+-----------+-----------+-----------+-----------+-----------+------------------+------------+-------+-----------+-----------+----------+--------+----------------+------+-----------+------------+--------------------+-----------+--------------+-------+------------------------+-----------+------------------+--------------------+---------------------+--------------+--------+--------------------+------------------------+---------------------+------------------------------+---------------------+--------------+---------------+-----------+---------+---------+-------------+-------------+-------------------+--------+----------------+------------+------------------+------------------+--------------+----------------+--------------------+---------+---------------+-----------------+--------------+--------------------------+---------------+------------------------+----------------------+----------------+----------------+------------------+-------------------+---------------------+--------------------------------+----------------------------------+-----------------------------------+-------------+-------------+---------------+---------------+-------------+---------------+-------------------+-----------------+-----------------------+---------------+------------+--------------------+------------------------------------------+------------------------------+----------------------------+-------------------+--------------------+-------------------------+-----------------+---------------+-----------------+---------------------+----------------+\n",
      "|  id|member_id|loan_amnt|funded_amnt|funded_amnt_inv|      term|int_rate|installment|grade|sub_grade|emp_title|emp_length|home_ownership|annual_inc|verification_status| issue_d|loan_status|pymnt_plan| url|desc|           purpose|             title|zip_code|addr_state|  dti|delinq_2yrs|earliest_cr_line|inq_last_6mths|mths_since_last_delinq|mths_since_last_record|open_acc|pub_rec|revol_bal|revol_util|total_acc|initial_list_status|out_prncp|out_prncp_inv|total_pymnt|total_pymnt_inv|total_rec_prncp|total_rec_int|total_rec_late_fee|recoveries|collection_recovery_fee|last_pymnt_d|last_pymnt_amnt|next_pymnt_d|last_credit_pull_d|collections_12_mths_ex_med|mths_since_last_major_derog|policy_code|application_type|annual_inc_joint|dti_joint|verification_status_joint|acc_now_delinq|tot_coll_amt|tot_cur_bal|open_acc_6m|open_act_il|open_il_12m|open_il_24m|mths_since_rcnt_il|total_bal_il|il_util|open_rv_12m|open_rv_24m|max_bal_bc|all_util|total_rev_hi_lim|inq_fi|total_cu_tl|inq_last_12m|acc_open_past_24mths|avg_cur_bal|bc_open_to_buy|bc_util|chargeoff_within_12_mths|delinq_amnt|mo_sin_old_il_acct|mo_sin_old_rev_tl_op|mo_sin_rcnt_rev_tl_op|mo_sin_rcnt_tl|mort_acc|mths_since_recent_bc|mths_since_recent_bc_dlq|mths_since_recent_inq|mths_since_recent_revol_delinq|num_accts_ever_120_pd|num_actv_bc_tl|num_actv_rev_tl|num_bc_sats|num_bc_tl|num_il_tl|num_op_rev_tl|num_rev_accts|num_rev_tl_bal_gt_0|num_sats|num_tl_120dpd_2m|num_tl_30dpd|num_tl_90g_dpd_24m|num_tl_op_past_12m|pct_tl_nvr_dlq|percent_bc_gt_75|pub_rec_bankruptcies|tax_liens|tot_hi_cred_lim|total_bal_ex_mort|total_bc_limit|total_il_high_credit_limit|revol_bal_joint|sec_app_earliest_cr_line|sec_app_inq_last_6mths|sec_app_mort_acc|sec_app_open_acc|sec_app_revol_util|sec_app_open_act_il|sec_app_num_rev_accts|sec_app_chargeoff_within_12_mths|sec_app_collections_12_mths_ex_med|sec_app_mths_since_last_major_derog|hardship_flag|hardship_type|hardship_reason|hardship_status|deferral_term|hardship_amount|hardship_start_date|hardship_end_date|payment_plan_start_date|hardship_length|hardship_dpd|hardship_loan_status|orig_projected_additional_accrued_interest|hardship_payoff_balance_amount|hardship_last_payment_amount|disbursement_method|debt_settlement_flag|debt_settlement_flag_date|settlement_status|settlement_date|settlement_amount|settlement_percentage|settlement_term\n",
      "+----+---------+---------+-----------+---------------+----------+--------+-----------+-----+---------+---------+----------+--------------+----------+-------------------+--------+-----------+----------+----+----+------------------+------------------+--------+----------+-----+-----------+----------------+--------------+----------------------+----------------------+--------+-------+---------+----------+---------+-------------------+---------+-------------+-----------+---------------+---------------+-------------+------------------+----------+-----------------------+------------+---------------+------------+------------------+--------------------------+---------------------------+-----------+----------------+----------------+---------+-------------------------+--------------+------------+-----------+-----------+-----------+-----------+-----------+------------------+------------+-------+-----------+-----------+----------+--------+----------------+------+-----------+------------+--------------------+-----------+--------------+-------+------------------------+-----------+------------------+--------------------+---------------------+--------------+--------+--------------------+------------------------+---------------------+------------------------------+---------------------+--------------+---------------+-----------+---------+---------+-------------+-------------+-------------------+--------+----------------+------------+------------------+------------------+--------------+----------------+--------------------+---------+---------------+-----------------+--------------+--------------------------+---------------+------------------------+----------------------+----------------+----------------+------------------+-------------------+---------------------+--------------------------------+----------------------------------+-----------------------------------+-------------+-------------+---------------+---------------+-------------+---------------+-------------------+-----------------+-----------------------+---------------+------------+--------------------+------------------------------------------+------------------------------+----------------------------+-------------------+--------------------+-------------------------+-----------------+---------------+-----------------+---------------------+----------------+\n",
      "|null|     null|     2500|       2500|         2500.0| 36 months|   13.56|      84.92|    C|       C1|     Chef| 10+ years|          RENT|   55000.0|       Not Verified|Dec-2018|    Current|         n|null|null|debt_consolidation|Debt consolidation|   109xx|        NY|18.24|          0|        Apr-2001|             1|                  null|                    45|       9|      1|     4341|      10.3|       34|                  w|  2386.02|      2386.02|     167.02|         167.02|         113.98|        53.04|               0.0|       0.0|                    0.0|    Feb-2019|          84.92|    Mar-2019|          Feb-2019|                         0|                       null|          1|      Individual|            null|     null|                     null|             0|           0|      16901|          2|          2|          1|          2|                 2|       12560|     69|          2|          7|      2137|      28|           42000|     1|         11|           2|                   9|       1878|         34360|    5.9|                       0|          0|               140|                 212|                    1|             1|       0|                   1|                    null|                    2|                          null|                    0|             2|              5|          3|        3|       16|            7|           18|                  5|       9|               0|           0|                 0|                 3|         100.0|             0.0|                   1|        0|          60124|            16901|         36500|                     18124|           null|                    null|                  null|            null|            null|              null|               null|                 null|                            null|                              null|                               null|            N|         null|           null|           null|         null|           null|               null|             null|                   null|           null|        null|                null|                                      null|                          null|                        null|               Cash|                   N|                     null|             null|           null|             null|                 null|               \n",
      "+----+---------+---------+-----------+---------------+----------+--------+-----------+-----+---------+---------+----------+--------------+----------+-------------------+--------+-----------+----------+----+----+------------------+------------------+--------+----------+-----+-----------+----------------+--------------+----------------------+----------------------+--------+-------+---------+----------+---------+-------------------+---------+-------------+-----------+---------------+---------------+-------------+------------------+----------+-----------------------+------------+---------------+------------+------------------+--------------------------+---------------------------+-----------+----------------+----------------+---------+-------------------------+--------------+------------+-----------+-----------+-----------+-----------+-----------+------------------+------------+-------+-----------+-----------+----------+--------+----------------+------+-----------+------------+--------------------+-----------+--------------+-------+------------------------+-----------+------------------+--------------------+---------------------+--------------+--------+--------------------+------------------------+---------------------+------------------------------+---------------------+--------------+---------------+-----------+---------+---------+-------------+-------------+-------------------+--------+----------------+------------+------------------+------------------+--------------+----------------+--------------------+---------+---------------+-----------------+--------------+--------------------------+---------------+------------------------+----------------------+----------------+----------------+------------------+-------------------+---------------------+--------------------------------+----------------------------------+-----------------------------------+-------------+-------------+---------------+---------------+-------------+---------------+-------------------+-----------------+-----------------------+---------------+------------+--------------------+------------------------------------------+------------------------------+----------------------------+-------------------+--------------------+-------------------------+-----------------+---------------+-----------------+---------------------+----------------+\n",
      "only showing top 1 row\n",
      "\n"
     ]
    }
   ],
   "source": [
    "df.show(1) # Displaying first row"
   ]
  },
  {
   "cell_type": "code",
   "execution_count": null,
   "metadata": {},
   "outputs": [],
   "source": []
  },
  {
   "cell_type": "code",
   "execution_count": 5,
   "metadata": {},
   "outputs": [
    {
     "name": "stdout",
     "output_type": "stream",
     "text": [
      "root\n",
      " |-- id: string (nullable = true)\n",
      " |-- member_id: string (nullable = true)\n",
      " |-- loan_amnt: integer (nullable = true)\n",
      " |-- funded_amnt: integer (nullable = true)\n",
      " |-- funded_amnt_inv: double (nullable = true)\n",
      " |-- term: string (nullable = true)\n",
      " |-- int_rate: double (nullable = true)\n",
      " |-- installment: double (nullable = true)\n",
      " |-- grade: string (nullable = true)\n",
      " |-- sub_grade: string (nullable = true)\n",
      " |-- emp_title: string (nullable = true)\n",
      " |-- emp_length: string (nullable = true)\n",
      " |-- home_ownership: string (nullable = true)\n",
      " |-- annual_inc: double (nullable = true)\n",
      " |-- verification_status: string (nullable = true)\n",
      " |-- issue_d: string (nullable = true)\n",
      " |-- loan_status: string (nullable = true)\n",
      " |-- pymnt_plan: string (nullable = true)\n",
      " |-- url: string (nullable = true)\n",
      " |-- desc: string (nullable = true)\n",
      " |-- purpose: string (nullable = true)\n",
      " |-- title: string (nullable = true)\n",
      " |-- zip_code: string (nullable = true)\n",
      " |-- addr_state: string (nullable = true)\n",
      " |-- dti: double (nullable = true)\n",
      " |-- delinq_2yrs: integer (nullable = true)\n",
      " |-- earliest_cr_line: string (nullable = true)\n",
      " |-- inq_last_6mths: integer (nullable = true)\n",
      " |-- mths_since_last_delinq: integer (nullable = true)\n",
      " |-- mths_since_last_record: integer (nullable = true)\n",
      " |-- open_acc: integer (nullable = true)\n",
      " |-- pub_rec: integer (nullable = true)\n",
      " |-- revol_bal: integer (nullable = true)\n",
      " |-- revol_util: double (nullable = true)\n",
      " |-- total_acc: integer (nullable = true)\n",
      " |-- initial_list_status: string (nullable = true)\n",
      " |-- out_prncp: double (nullable = true)\n",
      " |-- out_prncp_inv: double (nullable = true)\n",
      " |-- total_pymnt: double (nullable = true)\n",
      " |-- total_pymnt_inv: double (nullable = true)\n",
      " |-- total_rec_prncp: double (nullable = true)\n",
      " |-- total_rec_int: double (nullable = true)\n",
      " |-- total_rec_late_fee: double (nullable = true)\n",
      " |-- recoveries: double (nullable = true)\n",
      " |-- collection_recovery_fee: double (nullable = true)\n",
      " |-- last_pymnt_d: string (nullable = true)\n",
      " |-- last_pymnt_amnt: double (nullable = true)\n",
      " |-- next_pymnt_d: string (nullable = true)\n",
      " |-- last_credit_pull_d: string (nullable = true)\n",
      " |-- collections_12_mths_ex_med: integer (nullable = true)\n",
      " |-- mths_since_last_major_derog: integer (nullable = true)\n",
      " |-- policy_code: integer (nullable = true)\n",
      " |-- application_type: string (nullable = true)\n",
      " |-- annual_inc_joint: double (nullable = true)\n",
      " |-- dti_joint: double (nullable = true)\n",
      " |-- verification_status_joint: string (nullable = true)\n",
      " |-- acc_now_delinq: integer (nullable = true)\n",
      " |-- tot_coll_amt: integer (nullable = true)\n",
      " |-- tot_cur_bal: integer (nullable = true)\n",
      " |-- open_acc_6m: integer (nullable = true)\n",
      " |-- open_act_il: integer (nullable = true)\n",
      " |-- open_il_12m: integer (nullable = true)\n",
      " |-- open_il_24m: integer (nullable = true)\n",
      " |-- mths_since_rcnt_il: integer (nullable = true)\n",
      " |-- total_bal_il: integer (nullable = true)\n",
      " |-- il_util: integer (nullable = true)\n",
      " |-- open_rv_12m: integer (nullable = true)\n",
      " |-- open_rv_24m: integer (nullable = true)\n",
      " |-- max_bal_bc: integer (nullable = true)\n",
      " |-- all_util: integer (nullable = true)\n",
      " |-- total_rev_hi_lim: integer (nullable = true)\n",
      " |-- inq_fi: integer (nullable = true)\n",
      " |-- total_cu_tl: integer (nullable = true)\n",
      " |-- inq_last_12m: integer (nullable = true)\n",
      " |-- acc_open_past_24mths: integer (nullable = true)\n",
      " |-- avg_cur_bal: integer (nullable = true)\n",
      " |-- bc_open_to_buy: integer (nullable = true)\n",
      " |-- bc_util: double (nullable = true)\n",
      " |-- chargeoff_within_12_mths: integer (nullable = true)\n",
      " |-- delinq_amnt: integer (nullable = true)\n",
      " |-- mo_sin_old_il_acct: integer (nullable = true)\n",
      " |-- mo_sin_old_rev_tl_op: integer (nullable = true)\n",
      " |-- mo_sin_rcnt_rev_tl_op: integer (nullable = true)\n",
      " |-- mo_sin_rcnt_tl: integer (nullable = true)\n",
      " |-- mort_acc: integer (nullable = true)\n",
      " |-- mths_since_recent_bc: integer (nullable = true)\n",
      " |-- mths_since_recent_bc_dlq: integer (nullable = true)\n",
      " |-- mths_since_recent_inq: integer (nullable = true)\n",
      " |-- mths_since_recent_revol_delinq: integer (nullable = true)\n",
      " |-- num_accts_ever_120_pd: integer (nullable = true)\n",
      " |-- num_actv_bc_tl: integer (nullable = true)\n",
      " |-- num_actv_rev_tl: integer (nullable = true)\n",
      " |-- num_bc_sats: integer (nullable = true)\n",
      " |-- num_bc_tl: integer (nullable = true)\n",
      " |-- num_il_tl: integer (nullable = true)\n",
      " |-- num_op_rev_tl: integer (nullable = true)\n",
      " |-- num_rev_accts: integer (nullable = true)\n",
      " |-- num_rev_tl_bal_gt_0: integer (nullable = true)\n",
      " |-- num_sats: integer (nullable = true)\n",
      " |-- num_tl_120dpd_2m: integer (nullable = true)\n",
      " |-- num_tl_30dpd: integer (nullable = true)\n",
      " |-- num_tl_90g_dpd_24m: integer (nullable = true)\n",
      " |-- num_tl_op_past_12m: integer (nullable = true)\n",
      " |-- pct_tl_nvr_dlq: double (nullable = true)\n",
      " |-- percent_bc_gt_75: double (nullable = true)\n",
      " |-- pub_rec_bankruptcies: integer (nullable = true)\n",
      " |-- tax_liens: integer (nullable = true)\n",
      " |-- tot_hi_cred_lim: integer (nullable = true)\n",
      " |-- total_bal_ex_mort: integer (nullable = true)\n",
      " |-- total_bc_limit: integer (nullable = true)\n",
      " |-- total_il_high_credit_limit: integer (nullable = true)\n",
      " |-- revol_bal_joint: integer (nullable = true)\n",
      " |-- sec_app_earliest_cr_line: string (nullable = true)\n",
      " |-- sec_app_inq_last_6mths: integer (nullable = true)\n",
      " |-- sec_app_mort_acc: integer (nullable = true)\n",
      " |-- sec_app_open_acc: integer (nullable = true)\n",
      " |-- sec_app_revol_util: double (nullable = true)\n",
      " |-- sec_app_open_act_il: integer (nullable = true)\n",
      " |-- sec_app_num_rev_accts: integer (nullable = true)\n",
      " |-- sec_app_chargeoff_within_12_mths: integer (nullable = true)\n",
      " |-- sec_app_collections_12_mths_ex_med: integer (nullable = true)\n",
      " |-- sec_app_mths_since_last_major_derog: integer (nullable = true)\n",
      " |-- hardship_flag: string (nullable = true)\n",
      " |-- hardship_type: string (nullable = true)\n",
      " |-- hardship_reason: string (nullable = true)\n",
      " |-- hardship_status: string (nullable = true)\n",
      " |-- deferral_term: integer (nullable = true)\n",
      " |-- hardship_amount: double (nullable = true)\n",
      " |-- hardship_start_date: string (nullable = true)\n",
      " |-- hardship_end_date: string (nullable = true)\n",
      " |-- payment_plan_start_date: string (nullable = true)\n",
      " |-- hardship_length: integer (nullable = true)\n",
      " |-- hardship_dpd: integer (nullable = true)\n",
      " |-- hardship_loan_status: string (nullable = true)\n",
      " |-- orig_projected_additional_accrued_interest: double (nullable = true)\n",
      " |-- hardship_payoff_balance_amount: double (nullable = true)\n",
      " |-- hardship_last_payment_amount: double (nullable = true)\n",
      " |-- disbursement_method: string (nullable = true)\n",
      " |-- debt_settlement_flag: string (nullable = true)\n",
      " |-- debt_settlement_flag_date: string (nullable = true)\n",
      " |-- settlement_status: string (nullable = true)\n",
      " |-- settlement_date: string (nullable = true)\n",
      " |-- settlement_amount: double (nullable = true)\n",
      " |-- settlement_percentage: double (nullable = true)\n",
      ": string (nullable = true)\n",
      "\n"
     ]
    }
   ],
   "source": [
    "df.printSchema() "
   ]
  },
  {
   "cell_type": "code",
   "execution_count": 6,
   "metadata": {},
   "outputs": [
    {
     "data": {
      "text/plain": [
       "2260668"
      ]
     },
     "execution_count": 6,
     "metadata": {},
     "output_type": "execute_result"
    }
   ],
   "source": [
    "df.count()"
   ]
  },
  {
   "cell_type": "code",
   "execution_count": 7,
   "metadata": {},
   "outputs": [],
   "source": [
    "# Dropping irrelevant columns\n",
    "columns_to_drop = ['id', 'member_id', 'emp_title', 'url', 'desc', 'zip_code', 'title']\n",
    "df = df.drop(*columns_to_drop)"
   ]
  },
  {
   "cell_type": "code",
   "execution_count": 8,
   "metadata": {},
   "outputs": [
    {
     "name": "stdout",
     "output_type": "stream",
     "text": [
      "root\n",
      " |-- loan_amnt: integer (nullable = true)\n",
      " |-- funded_amnt: integer (nullable = true)\n",
      " |-- funded_amnt_inv: double (nullable = true)\n",
      " |-- term: string (nullable = true)\n",
      " |-- int_rate: double (nullable = true)\n",
      " |-- installment: double (nullable = true)\n",
      " |-- grade: string (nullable = true)\n",
      " |-- sub_grade: string (nullable = true)\n",
      " |-- emp_length: string (nullable = true)\n",
      " |-- home_ownership: string (nullable = true)\n",
      " |-- annual_inc: double (nullable = true)\n",
      " |-- verification_status: string (nullable = true)\n",
      " |-- issue_d: string (nullable = true)\n",
      " |-- loan_status: string (nullable = true)\n",
      " |-- pymnt_plan: string (nullable = true)\n",
      " |-- purpose: string (nullable = true)\n",
      " |-- addr_state: string (nullable = true)\n",
      " |-- dti: double (nullable = true)\n",
      " |-- delinq_2yrs: integer (nullable = true)\n",
      " |-- earliest_cr_line: string (nullable = true)\n",
      " |-- inq_last_6mths: integer (nullable = true)\n",
      " |-- mths_since_last_delinq: integer (nullable = true)\n",
      " |-- mths_since_last_record: integer (nullable = true)\n",
      " |-- open_acc: integer (nullable = true)\n",
      " |-- pub_rec: integer (nullable = true)\n",
      " |-- revol_bal: integer (nullable = true)\n",
      " |-- revol_util: double (nullable = true)\n",
      " |-- total_acc: integer (nullable = true)\n",
      " |-- initial_list_status: string (nullable = true)\n",
      " |-- out_prncp: double (nullable = true)\n",
      " |-- out_prncp_inv: double (nullable = true)\n",
      " |-- total_pymnt: double (nullable = true)\n",
      " |-- total_pymnt_inv: double (nullable = true)\n",
      " |-- total_rec_prncp: double (nullable = true)\n",
      " |-- total_rec_int: double (nullable = true)\n",
      " |-- total_rec_late_fee: double (nullable = true)\n",
      " |-- recoveries: double (nullable = true)\n",
      " |-- collection_recovery_fee: double (nullable = true)\n",
      " |-- last_pymnt_d: string (nullable = true)\n",
      " |-- last_pymnt_amnt: double (nullable = true)\n",
      " |-- next_pymnt_d: string (nullable = true)\n",
      " |-- last_credit_pull_d: string (nullable = true)\n",
      " |-- collections_12_mths_ex_med: integer (nullable = true)\n",
      " |-- mths_since_last_major_derog: integer (nullable = true)\n",
      " |-- policy_code: integer (nullable = true)\n",
      " |-- application_type: string (nullable = true)\n",
      " |-- annual_inc_joint: double (nullable = true)\n",
      " |-- dti_joint: double (nullable = true)\n",
      " |-- verification_status_joint: string (nullable = true)\n",
      " |-- acc_now_delinq: integer (nullable = true)\n",
      " |-- tot_coll_amt: integer (nullable = true)\n",
      " |-- tot_cur_bal: integer (nullable = true)\n",
      " |-- open_acc_6m: integer (nullable = true)\n",
      " |-- open_act_il: integer (nullable = true)\n",
      " |-- open_il_12m: integer (nullable = true)\n",
      " |-- open_il_24m: integer (nullable = true)\n",
      " |-- mths_since_rcnt_il: integer (nullable = true)\n",
      " |-- total_bal_il: integer (nullable = true)\n",
      " |-- il_util: integer (nullable = true)\n",
      " |-- open_rv_12m: integer (nullable = true)\n",
      " |-- open_rv_24m: integer (nullable = true)\n",
      " |-- max_bal_bc: integer (nullable = true)\n",
      " |-- all_util: integer (nullable = true)\n",
      " |-- total_rev_hi_lim: integer (nullable = true)\n",
      " |-- inq_fi: integer (nullable = true)\n",
      " |-- total_cu_tl: integer (nullable = true)\n",
      " |-- inq_last_12m: integer (nullable = true)\n",
      " |-- acc_open_past_24mths: integer (nullable = true)\n",
      " |-- avg_cur_bal: integer (nullable = true)\n",
      " |-- bc_open_to_buy: integer (nullable = true)\n",
      " |-- bc_util: double (nullable = true)\n",
      " |-- chargeoff_within_12_mths: integer (nullable = true)\n",
      " |-- delinq_amnt: integer (nullable = true)\n",
      " |-- mo_sin_old_il_acct: integer (nullable = true)\n",
      " |-- mo_sin_old_rev_tl_op: integer (nullable = true)\n",
      " |-- mo_sin_rcnt_rev_tl_op: integer (nullable = true)\n",
      " |-- mo_sin_rcnt_tl: integer (nullable = true)\n",
      " |-- mort_acc: integer (nullable = true)\n",
      " |-- mths_since_recent_bc: integer (nullable = true)\n",
      " |-- mths_since_recent_bc_dlq: integer (nullable = true)\n",
      " |-- mths_since_recent_inq: integer (nullable = true)\n",
      " |-- mths_since_recent_revol_delinq: integer (nullable = true)\n",
      " |-- num_accts_ever_120_pd: integer (nullable = true)\n",
      " |-- num_actv_bc_tl: integer (nullable = true)\n",
      " |-- num_actv_rev_tl: integer (nullable = true)\n",
      " |-- num_bc_sats: integer (nullable = true)\n",
      " |-- num_bc_tl: integer (nullable = true)\n",
      " |-- num_il_tl: integer (nullable = true)\n",
      " |-- num_op_rev_tl: integer (nullable = true)\n",
      " |-- num_rev_accts: integer (nullable = true)\n",
      " |-- num_rev_tl_bal_gt_0: integer (nullable = true)\n",
      " |-- num_sats: integer (nullable = true)\n",
      " |-- num_tl_120dpd_2m: integer (nullable = true)\n",
      " |-- num_tl_30dpd: integer (nullable = true)\n",
      " |-- num_tl_90g_dpd_24m: integer (nullable = true)\n",
      " |-- num_tl_op_past_12m: integer (nullable = true)\n",
      " |-- pct_tl_nvr_dlq: double (nullable = true)\n",
      " |-- percent_bc_gt_75: double (nullable = true)\n",
      " |-- pub_rec_bankruptcies: integer (nullable = true)\n",
      " |-- tax_liens: integer (nullable = true)\n",
      " |-- tot_hi_cred_lim: integer (nullable = true)\n",
      " |-- total_bal_ex_mort: integer (nullable = true)\n",
      " |-- total_bc_limit: integer (nullable = true)\n",
      " |-- total_il_high_credit_limit: integer (nullable = true)\n",
      " |-- revol_bal_joint: integer (nullable = true)\n",
      " |-- sec_app_earliest_cr_line: string (nullable = true)\n",
      " |-- sec_app_inq_last_6mths: integer (nullable = true)\n",
      " |-- sec_app_mort_acc: integer (nullable = true)\n",
      " |-- sec_app_open_acc: integer (nullable = true)\n",
      " |-- sec_app_revol_util: double (nullable = true)\n",
      " |-- sec_app_open_act_il: integer (nullable = true)\n",
      " |-- sec_app_num_rev_accts: integer (nullable = true)\n",
      " |-- sec_app_chargeoff_within_12_mths: integer (nullable = true)\n",
      " |-- sec_app_collections_12_mths_ex_med: integer (nullable = true)\n",
      " |-- sec_app_mths_since_last_major_derog: integer (nullable = true)\n",
      " |-- hardship_flag: string (nullable = true)\n",
      " |-- hardship_type: string (nullable = true)\n",
      " |-- hardship_reason: string (nullable = true)\n",
      " |-- hardship_status: string (nullable = true)\n",
      " |-- deferral_term: integer (nullable = true)\n",
      " |-- hardship_amount: double (nullable = true)\n",
      " |-- hardship_start_date: string (nullable = true)\n",
      " |-- hardship_end_date: string (nullable = true)\n",
      " |-- payment_plan_start_date: string (nullable = true)\n",
      " |-- hardship_length: integer (nullable = true)\n",
      " |-- hardship_dpd: integer (nullable = true)\n",
      " |-- hardship_loan_status: string (nullable = true)\n",
      " |-- orig_projected_additional_accrued_interest: double (nullable = true)\n",
      " |-- hardship_payoff_balance_amount: double (nullable = true)\n",
      " |-- hardship_last_payment_amount: double (nullable = true)\n",
      " |-- disbursement_method: string (nullable = true)\n",
      " |-- debt_settlement_flag: string (nullable = true)\n",
      " |-- debt_settlement_flag_date: string (nullable = true)\n",
      " |-- settlement_status: string (nullable = true)\n",
      " |-- settlement_date: string (nullable = true)\n",
      " |-- settlement_amount: double (nullable = true)\n",
      " |-- settlement_percentage: double (nullable = true)\n",
      ": string (nullable = true)\n",
      "\n"
     ]
    }
   ],
   "source": [
    "df.printSchema()"
   ]
  },
  {
   "cell_type": "code",
   "execution_count": 9,
   "metadata": {},
   "outputs": [],
   "source": [
    "# Register the DataFrame as a SQL temporary view\n",
    "temp_table = \"loan\"\n",
    "df.createOrReplaceTempView(temp_table)"
   ]
  },
  {
   "cell_type": "code",
   "execution_count": 13,
   "metadata": {},
   "outputs": [
    {
     "name": "stdout",
     "output_type": "stream",
     "text": [
      "+-------+------------------+\n",
      "|summary|         loan_amnt|\n",
      "+-------+------------------+\n",
      "|  count|           2260668|\n",
      "|   mean|15046.931227849467|\n",
      "| stddev| 9190.245488233122|\n",
      "|    min|               500|\n",
      "|    max|             40000|\n",
      "+-------+------------------+\n",
      "\n"
     ]
    }
   ],
   "source": [
    "df.describe('loan_amnt').show()"
   ]
  },
  {
   "cell_type": "code",
   "execution_count": 14,
   "metadata": {},
   "outputs": [
    {
     "data": {
      "text/plain": [
       "[8000.0, 12900.0, 20000.0, 30000.0]"
      ]
     },
     "execution_count": 14,
     "metadata": {},
     "output_type": "execute_result"
    }
   ],
   "source": [
    "quantileProbs = [0.25, 0.5, 0.75, 0.9]\n",
    "relError = 0.00\n",
    "df.stat.approxQuantile(\"loan_amnt\", quantileProbs, relError)\n",
    "# This indicates most of the loans were between 12900 and 20000"
   ]
  },
  {
   "cell_type": "code",
   "execution_count": 15,
   "metadata": {},
   "outputs": [
    {
     "data": {
      "text/plain": [
       "[8000.0, 12875.0, 20000.0, 30000.0]"
      ]
     },
     "execution_count": 15,
     "metadata": {},
     "output_type": "execute_result"
    }
   ],
   "source": [
    "quantileProbs = [0.25, 0.5, 0.75, 0.9]\n",
    "relError = 0.00\n",
    "df.stat.approxQuantile(\"funded_amnt\", quantileProbs, relError)"
   ]
  },
  {
   "cell_type": "code",
   "execution_count": 16,
   "metadata": {},
   "outputs": [
    {
     "data": {
      "text/plain": [
       "[8000.0, 12800.0, 20000.0, 30000.0]"
      ]
     },
     "execution_count": 16,
     "metadata": {},
     "output_type": "execute_result"
    }
   ],
   "source": [
    "quantileProbs = [0.25, 0.5, 0.75, 0.9]\n",
    "relError = 0.00\n",
    "df.stat.approxQuantile(\"funded_amnt_inv\", quantileProbs, relError)"
   ]
  },
  {
   "cell_type": "code",
   "execution_count": 47,
   "metadata": {},
   "outputs": [
    {
     "name": "stdout",
     "output_type": "stream",
     "text": [
      "+----+--------+\n",
      "|year|count(1)|\n",
      "+----+--------+\n",
      "|2018|  495242|\n",
      "|2017|  443579|\n",
      "|2016|  434407|\n",
      "|2015|  421095|\n",
      "|2014|  235629|\n",
      "|2013|  134814|\n",
      "|2012|   53367|\n",
      "|2011|   21721|\n",
      "|2010|   12537|\n",
      "|2009|    5281|\n",
      "|2008|    2393|\n",
      "|2007|     603|\n",
      "+----+--------+\n",
      "\n"
     ]
    }
   ],
   "source": [
    "spark.sql(\"\"\"\n",
    "          SELECT YEAR(CAST(FROM_UNIXTIME(UNIX_TIMESTAMP(issue_d, 'MMM-yyyy')) AS date)) AS year, \n",
    "          COUNT(*) FROM loan GROUP BY year ORDER BY 2 DESC\"\"\"\n",
    "         ).show()\n",
    "\n",
    "# So, as you can see maximum loans were issued in 2018\n",
    "# Also, loans were issued in incremental order\n",
    "# I think we cannot claim this --> The loans applied by potential borrowers, the amount issued to the borrowers and the amount funded by investors are similarly distributed, meaning that it is most likely that qualified borrowers are going to get the loan they had applied for."
   ]
  },
  {
   "cell_type": "code",
   "execution_count": 48,
   "metadata": {},
   "outputs": [],
   "source": [
    "#spark.sql(\"SELECT CAST(FROM_UNIXTIME(UNIX_TIMESTAMP(issue_d, 'MMM-yyyy')) AS date) AS issue_date FROM loan\").show()"
   ]
  },
  {
   "cell_type": "code",
   "execution_count": 51,
   "metadata": {},
   "outputs": [
    {
     "name": "stdout",
     "output_type": "stream",
     "text": [
      "+---------------------------------------------------+--------+\n",
      "|loan_status                                        |count(1)|\n",
      "+---------------------------------------------------+--------+\n",
      "|Fully Paid                                         |1041952 |\n",
      "|Current                                            |919695  |\n",
      "|Charged Off                                        |261655  |\n",
      "|Late (31-120 days)                                 |21897   |\n",
      "|In Grace Period                                    |8952    |\n",
      "|Late (16-30 days)                                  |3737    |\n",
      "|Does not meet the credit policy. Status:Fully Paid |1988    |\n",
      "|Does not meet the credit policy. Status:Charged Off|761     |\n",
      "|Default                                            |31      |\n",
      "+---------------------------------------------------+--------+\n",
      "\n"
     ]
    }
   ],
   "source": [
    "spark.sql(\"SELECT loan_status, COUNT(*) FROM loan GROUP BY loan_status ORDER BY 2 DESC\").show(truncate=False)"
   ]
  },
  {
   "cell_type": "code",
   "execution_count": 54,
   "metadata": {},
   "outputs": [],
   "source": [
    "df=df.withColumn(\n",
    "    \"bad_loan\", \n",
    "    when(df.loan_status.isin([\"Charged Off\", \"Default\", \n",
    "                                  \"Does not meet the credit policy. Status:Charged Off\", \"In Grace Period\", \n",
    "                                  \"Late (16-30 days)\", \"Late (31-120 days)\"\n",
    "    ]),'Yes').otherwise('No')\n",
    ")"
   ]
  },
  {
   "cell_type": "code",
   "execution_count": 55,
   "metadata": {},
   "outputs": [],
   "source": [
    "temp_table = \"loan\"\n",
    "df.createOrReplaceTempView(temp_table)"
   ]
  },
  {
   "cell_type": "code",
   "execution_count": 57,
   "metadata": {},
   "outputs": [],
   "source": [
    "#df.printSchema()"
   ]
  },
  {
   "cell_type": "code",
   "execution_count": 61,
   "metadata": {},
   "outputs": [
    {
     "name": "stdout",
     "output_type": "stream",
     "text": [
      "+--------+------------------+\n",
      "|bad_loan|           per_bad|\n",
      "+--------+------------------+\n",
      "|      No|0.8686083051558212|\n",
      "|     Yes|0.1313916948441788|\n",
      "+--------+------------------+\n",
      "\n"
     ]
    }
   ],
   "source": [
    "spark.sql(\"SELECT bad_loan, COUNT(*)/(SELECT COUNT(*) FROM loan) AS per_bad FROM loan GROUP BY bad_loan\").show()\n",
    "# Total 13% bad loan and 87% good loan\n",
    "# Remember we have considered current as good loan which can be removed for ML model"
   ]
  },
  {
   "cell_type": "code",
   "execution_count": 94,
   "metadata": {},
   "outputs": [
    {
     "name": "stdout",
     "output_type": "stream",
     "text": [
      "+--------+-------+\n",
      "|bad_loan|per_bad|\n",
      "+--------+-------+\n",
      "|      No|1963635|\n",
      "|     Yes| 297033|\n",
      "+--------+-------+\n",
      "\n"
     ]
    }
   ],
   "source": [
    "spark.sql(\"SELECT bad_loan, COUNT(*) AS per_bad FROM loan GROUP BY bad_loan\").show()"
   ]
  },
  {
   "cell_type": "code",
   "execution_count": 62,
   "metadata": {},
   "outputs": [],
   "source": [
    "west = ['CA', 'OR', 'UT','WA', 'CO', 'NV', 'AK', 'MT', 'HI', 'WY', 'ID']\n",
    "south_west = ['AZ', 'TX', 'NM', 'OK']\n",
    "south_east = ['GA', 'NC', 'VA', 'FL', 'KY', 'SC', 'LA', 'AL', 'WV', 'DC', 'AR', 'DE', 'MS', 'TN' ]\n",
    "mid_west = ['IL', 'MO', 'MN', 'OH', 'WI', 'KS', 'MI', 'SD', 'IA', 'NE', 'IN', 'ND']\n",
    "north_east = ['CT', 'NY', 'PA', 'NJ', 'RI','MA', 'MD', 'VT', 'NH', 'ME']"
   ]
  },
  {
   "cell_type": "code",
   "execution_count": 64,
   "metadata": {},
   "outputs": [],
   "source": [
    "df=df.withColumn(\n",
    "    \"region\", \n",
    "    when(df.addr_state.isin(*west),'West')\n",
    "    .when(df.addr_state.isin(*south_west),'SouthWest')\n",
    "    .when(df.addr_state.isin(*south_east),'SouthEast')\n",
    "    .when(df.addr_state.isin(*mid_west),'MidWest')\n",
    "    .when(df.addr_state.isin(*north_east),'north_east')\n",
    ")"
   ]
  },
  {
   "cell_type": "code",
   "execution_count": 66,
   "metadata": {},
   "outputs": [
    {
     "name": "stdout",
     "output_type": "stream",
     "text": [
      "+---------+-----------+---------------+----+--------+-----------+-----+---------+----------+--------------+----------+-------------------+-------+-----------+----------+-------+----------+----+-----------+----------------+--------------+----------------------+----------------------+--------+-------+---------+----------+---------+-------------------+---------+-------------+-----------+---------------+---------------+-------------+------------------+----------+-----------------------+------------+---------------+------------+------------------+--------------------------+---------------------------+-----------+----------------+----------------+---------+-------------------------+--------------+------------+-----------+-----------+-----------+-----------+-----------+------------------+------------+-------+-----------+-----------+----------+--------+----------------+------+-----------+------------+--------------------+-----------+--------------+-------+------------------------+-----------+------------------+--------------------+---------------------+--------------+--------+--------------------+------------------------+---------------------+------------------------------+---------------------+--------------+---------------+-----------+---------+---------+-------------+-------------+-------------------+--------+----------------+------------+------------------+------------------+--------------+----------------+--------------------+---------+---------------+-----------------+--------------+--------------------------+---------------+------------------------+----------------------+----------------+----------------+------------------+-------------------+---------------------+--------------------------------+----------------------------------+-----------------------------------+-------------+-------------+---------------+---------------+-------------+---------------+-------------------+-----------------+-----------------------+---------------+------------+--------------------+------------------------------------------+------------------------------+----------------------------+-------------------+--------------------+-------------------------+-----------------+---------------+-----------------+---------------------+----------------+--------+------+\n",
      "|bad_loan|region|_amnt|funded_amnt_inv|term|int_rate|installment|grade|sub_grade|emp_length|home_ownership|annual_inc|verification_status|issue_d|loan_status|pymnt_plan|purpose|addr_state| dti|delinq_2yrs|earliest_cr_line|inq_last_6mths|mths_since_last_delinq|mths_since_last_record|open_acc|pub_rec|revol_bal|revol_util|total_acc|initial_list_status|out_prncp|out_prncp_inv|total_pymnt|total_pymnt_inv|total_rec_prncp|total_rec_int|total_rec_late_fee|recoveries|collection_recovery_fee|last_pymnt_d|last_pymnt_amnt|next_pymnt_d|last_credit_pull_d|collections_12_mths_ex_med|mths_since_last_major_derog|policy_code|application_type|annual_inc_joint|dti_joint|verification_status_joint|acc_now_delinq|tot_coll_amt|tot_cur_bal|open_acc_6m|open_act_il|open_il_12m|open_il_24m|mths_since_rcnt_il|total_bal_il|il_util|open_rv_12m|open_rv_24m|max_bal_bc|all_util|total_rev_hi_lim|inq_fi|total_cu_tl|inq_last_12m|acc_open_past_24mths|avg_cur_bal|bc_open_to_buy|bc_util|chargeoff_within_12_mths|delinq_amnt|mo_sin_old_il_acct|mo_sin_old_rev_tl_op|mo_sin_rcnt_rev_tl_op|mo_sin_rcnt_tl|mort_acc|mths_since_recent_bc|mths_since_recent_bc_dlq|mths_since_recent_inq|mths_since_recent_revol_delinq|num_accts_ever_120_pd|num_actv_bc_tl|num_actv_rev_tl|num_bc_sats|num_bc_tl|num_il_tl|num_op_rev_tl|num_rev_accts|num_rev_tl_bal_gt_0|num_sats|num_tl_120dpd_2m|num_tl_30dpd|num_tl_90g_dpd_24m|num_tl_op_past_12m|pct_tl_nvr_dlq|percent_bc_gt_75|pub_rec_bankruptcies|tax_liens|tot_hi_cred_lim|total_bal_ex_mort|total_bc_limit|total_il_high_credit_limit|revol_bal_joint|sec_app_earliest_cr_line|sec_app_inq_last_6mths|sec_app_mort_acc|sec_app_open_acc|sec_app_revol_util|sec_app_open_act_il|sec_app_num_rev_accts|sec_app_chargeoff_within_12_mths|sec_app_collections_12_mths_ex_med|sec_app_mths_since_last_major_derog|hardship_flag|hardship_type|hardship_reason|hardship_status|deferral_term|hardship_amount|hardship_start_date|hardship_end_date|payment_plan_start_date|hardship_length|hardship_dpd|hardship_loan_status|orig_projected_additional_accrued_interest|hardship_payoff_balance_amount|hardship_last_payment_amount|disbursement_method|debt_settlement_flag|debt_settlement_flag_date|settlement_status|settlement_date|settlement_amount|settlement_percentage|settlement_term\n",
      "+---------+-----------+---------------+----+--------+-----------+-----+---------+----------+--------------+----------+-------------------+-------+-----------+----------+-------+----------+----+-----------+----------------+--------------+----------------------+----------------------+--------+-------+---------+----------+---------+-------------------+---------+-------------+-----------+---------------+---------------+-------------+------------------+----------+-----------------------+------------+---------------+------------+------------------+--------------------------+---------------------------+-----------+----------------+----------------+---------+-------------------------+--------------+------------+-----------+-----------+-----------+-----------+-----------+------------------+------------+-------+-----------+-----------+----------+--------+----------------+------+-----------+------------+--------------------+-----------+--------------+-------+------------------------+-----------+------------------+--------------------+---------------------+--------------+--------+--------------------+------------------------+---------------------+------------------------------+---------------------+--------------+---------------+-----------+---------+---------+-------------+-------------+-------------------+--------+----------------+------------+------------------+------------------+--------------+----------------+--------------------+---------+---------------+-----------------+--------------+--------------------------+---------------+------------------------+----------------------+----------------+----------------+------------------+-------------------+---------------------+--------------------------------+----------------------------------+-----------------------------------+-------------+-------------+---------------+---------------+-------------+---------------+-------------------+-----------------+-----------------------+---------------+------------+--------------------+------------------------------------------+------------------------------+----------------------------+-------------------+--------------------+-------------------------+-----------------+---------------+-----------------+---------------------+----------------+--------+------+\n",
      "|        0|          0|              0|   0|       0|          0|    0|        0|         0|             0|         4|                  0|      0|          0|         0|      0|         0|1711|         29|              29|            30|               1158502|               1901512|      29|     29|        0|      1802|       29|                  0|        0|            0|          0|              0|              0|            0|                 0|         0|                      0|        2426|              0|     1303607|                73|                       145|                    1679893|          0|               0|         2139958|  2139962|                  2144938|            29|       70276|      70276|     866130|     866129|     866129|     866129|            909924|      866129|1068850|     866129|     866129|    866129|  866348|           70276|866129|     866130|      866130|               50030|      70346|         74935|  76071|                     145|         29|            139071|               70277|                70277|         70276|   50030|               73412|                 1740967|               295435|                       1520309|                70276|         70276|          70276|      58590|    70276|    70276|        70276|        70277|              70276|   58590|          153657|       70276|             70276|             70276|         70431|           75379|                1365|      105|          70276|            50030|         50030|                     70276|        2152648|                 2152647|               2152647|         2152647|         2152647|           2154484|            2152647|              2152647|                         2152647|                           2152647|                            2224726|            0|      2250055|        2250055|        2250055|      2250055|        2250055|            2250055|          2250055|                2250055|        2250055|     2250055|             2250055|                                   2252242|                       2250055|                     2250055|                  0|                   0|                  2227612|          2227612|        2227612|          2227612|              2227612|               0|       0|     0|\n",
      "+---------+-----------+---------------+----+--------+-----------+-----+---------+----------+--------------+----------+-------------------+-------+-----------+----------+-------+----------+----+-----------+----------------+--------------+----------------------+----------------------+--------+-------+---------+----------+---------+-------------------+---------+-------------+-----------+---------------+---------------+-------------+------------------+----------+-----------------------+------------+---------------+------------+------------------+--------------------------+---------------------------+-----------+----------------+----------------+---------+-------------------------+--------------+------------+-----------+-----------+-----------+-----------+-----------+------------------+------------+-------+-----------+-----------+----------+--------+----------------+------+-----------+------------+--------------------+-----------+--------------+-------+------------------------+-----------+------------------+--------------------+---------------------+--------------+--------+--------------------+------------------------+---------------------+------------------------------+---------------------+--------------+---------------+-----------+---------+---------+-------------+-------------+-------------------+--------+----------------+------------+------------------+------------------+--------------+----------------+--------------------+---------+---------------+-----------------+--------------+--------------------------+---------------+------------------------+----------------------+----------------+----------------+------------------+-------------------+---------------------+--------------------------------+----------------------------------+-----------------------------------+-------------+-------------+---------------+---------------+-------------+---------------+-------------------+-----------------+-----------------------+---------------+------------+--------------------+------------------------------------------+------------------------------+----------------------------+-------------------+--------------------+-------------------------+-----------------+---------------+-----------------+---------------------+----------------+--------+------+\n",
      "\n"
     ]
    }
   ],
   "source": [
    "df.select([count(when(isnan(c) | col(c).isNull(), c)).alias(c) for c in df.columns]).show()"
   ]
  },
  {
   "cell_type": "code",
   "execution_count": 73,
   "metadata": {},
   "outputs": [],
   "source": [
    "df=df.withColumn(\"term_cleaned\",regexp_replace(col(\"term\"), \"months\", \"\")) \\\n",
    "             .withColumn(\"emplen_cleaned\",regexp_extract(col(\"emp_length\"), \"\\\\d+\", 0))"
   ]
  },
  {
   "cell_type": "code",
   "execution_count": 74,
   "metadata": {},
   "outputs": [
    {
     "name": "stdout",
     "output_type": "stream",
     "text": [
      "root\n",
      " |-- loan_amnt: integer (nullable = true)\n",
      " |-- funded_amnt: integer (nullable = true)\n",
      " |-- funded_amnt_inv: double (nullable = true)\n",
      " |-- term: string (nullable = true)\n",
      " |-- int_rate: double (nullable = true)\n",
      " |-- installment: double (nullable = true)\n",
      " |-- grade: string (nullable = true)\n",
      " |-- sub_grade: string (nullable = true)\n",
      " |-- emp_length: string (nullable = true)\n",
      " |-- home_ownership: string (nullable = true)\n",
      " |-- annual_inc: double (nullable = true)\n",
      " |-- verification_status: string (nullable = true)\n",
      " |-- issue_d: string (nullable = true)\n",
      " |-- loan_status: string (nullable = true)\n",
      " |-- pymnt_plan: string (nullable = true)\n",
      " |-- purpose: string (nullable = true)\n",
      " |-- addr_state: string (nullable = true)\n",
      " |-- dti: double (nullable = true)\n",
      " |-- delinq_2yrs: integer (nullable = true)\n",
      " |-- earliest_cr_line: string (nullable = true)\n",
      " |-- inq_last_6mths: integer (nullable = true)\n",
      " |-- mths_since_last_delinq: integer (nullable = true)\n",
      " |-- mths_since_last_record: integer (nullable = true)\n",
      " |-- open_acc: integer (nullable = true)\n",
      " |-- pub_rec: integer (nullable = true)\n",
      " |-- revol_bal: integer (nullable = true)\n",
      " |-- revol_util: double (nullable = true)\n",
      " |-- total_acc: integer (nullable = true)\n",
      " |-- initial_list_status: string (nullable = true)\n",
      " |-- out_prncp: double (nullable = true)\n",
      " |-- out_prncp_inv: double (nullable = true)\n",
      " |-- total_pymnt: double (nullable = true)\n",
      " |-- total_pymnt_inv: double (nullable = true)\n",
      " |-- total_rec_prncp: double (nullable = true)\n",
      " |-- total_rec_int: double (nullable = true)\n",
      " |-- total_rec_late_fee: double (nullable = true)\n",
      " |-- recoveries: double (nullable = true)\n",
      " |-- collection_recovery_fee: double (nullable = true)\n",
      " |-- last_pymnt_d: string (nullable = true)\n",
      " |-- last_pymnt_amnt: double (nullable = true)\n",
      " |-- next_pymnt_d: string (nullable = true)\n",
      " |-- last_credit_pull_d: string (nullable = true)\n",
      " |-- collections_12_mths_ex_med: integer (nullable = true)\n",
      " |-- mths_since_last_major_derog: integer (nullable = true)\n",
      " |-- policy_code: integer (nullable = true)\n",
      " |-- application_type: string (nullable = true)\n",
      " |-- annual_inc_joint: double (nullable = true)\n",
      " |-- dti_joint: double (nullable = true)\n",
      " |-- verification_status_joint: string (nullable = true)\n",
      " |-- acc_now_delinq: integer (nullable = true)\n",
      " |-- tot_coll_amt: integer (nullable = true)\n",
      " |-- tot_cur_bal: integer (nullable = true)\n",
      " |-- open_acc_6m: integer (nullable = true)\n",
      " |-- open_act_il: integer (nullable = true)\n",
      " |-- open_il_12m: integer (nullable = true)\n",
      " |-- open_il_24m: integer (nullable = true)\n",
      " |-- mths_since_rcnt_il: integer (nullable = true)\n",
      " |-- total_bal_il: integer (nullable = true)\n",
      " |-- il_util: integer (nullable = true)\n",
      " |-- open_rv_12m: integer (nullable = true)\n",
      " |-- open_rv_24m: integer (nullable = true)\n",
      " |-- max_bal_bc: integer (nullable = true)\n",
      " |-- all_util: integer (nullable = true)\n",
      " |-- total_rev_hi_lim: integer (nullable = true)\n",
      " |-- inq_fi: integer (nullable = true)\n",
      " |-- total_cu_tl: integer (nullable = true)\n",
      " |-- inq_last_12m: integer (nullable = true)\n",
      " |-- acc_open_past_24mths: integer (nullable = true)\n",
      " |-- avg_cur_bal: integer (nullable = true)\n",
      " |-- bc_open_to_buy: integer (nullable = true)\n",
      " |-- bc_util: double (nullable = true)\n",
      " |-- chargeoff_within_12_mths: integer (nullable = true)\n",
      " |-- delinq_amnt: integer (nullable = true)\n",
      " |-- mo_sin_old_il_acct: integer (nullable = true)\n",
      " |-- mo_sin_old_rev_tl_op: integer (nullable = true)\n",
      " |-- mo_sin_rcnt_rev_tl_op: integer (nullable = true)\n",
      " |-- mo_sin_rcnt_tl: integer (nullable = true)\n",
      " |-- mort_acc: integer (nullable = true)\n",
      " |-- mths_since_recent_bc: integer (nullable = true)\n",
      " |-- mths_since_recent_bc_dlq: integer (nullable = true)\n",
      " |-- mths_since_recent_inq: integer (nullable = true)\n",
      " |-- mths_since_recent_revol_delinq: integer (nullable = true)\n",
      " |-- num_accts_ever_120_pd: integer (nullable = true)\n",
      " |-- num_actv_bc_tl: integer (nullable = true)\n",
      " |-- num_actv_rev_tl: integer (nullable = true)\n",
      " |-- num_bc_sats: integer (nullable = true)\n",
      " |-- num_bc_tl: integer (nullable = true)\n",
      " |-- num_il_tl: integer (nullable = true)\n",
      " |-- num_op_rev_tl: integer (nullable = true)\n",
      " |-- num_rev_accts: integer (nullable = true)\n",
      " |-- num_rev_tl_bal_gt_0: integer (nullable = true)\n",
      " |-- num_sats: integer (nullable = true)\n",
      " |-- num_tl_120dpd_2m: integer (nullable = true)\n",
      " |-- num_tl_30dpd: integer (nullable = true)\n",
      " |-- num_tl_90g_dpd_24m: integer (nullable = true)\n",
      " |-- num_tl_op_past_12m: integer (nullable = true)\n",
      " |-- pct_tl_nvr_dlq: double (nullable = true)\n",
      " |-- percent_bc_gt_75: double (nullable = true)\n",
      " |-- pub_rec_bankruptcies: integer (nullable = true)\n",
      " |-- tax_liens: integer (nullable = true)\n",
      " |-- tot_hi_cred_lim: integer (nullable = true)\n",
      " |-- total_bal_ex_mort: integer (nullable = true)\n",
      " |-- total_bc_limit: integer (nullable = true)\n",
      " |-- total_il_high_credit_limit: integer (nullable = true)\n",
      " |-- revol_bal_joint: integer (nullable = true)\n",
      " |-- sec_app_earliest_cr_line: string (nullable = true)\n",
      " |-- sec_app_inq_last_6mths: integer (nullable = true)\n",
      " |-- sec_app_mort_acc: integer (nullable = true)\n",
      " |-- sec_app_open_acc: integer (nullable = true)\n",
      " |-- sec_app_revol_util: double (nullable = true)\n",
      " |-- sec_app_open_act_il: integer (nullable = true)\n",
      " |-- sec_app_num_rev_accts: integer (nullable = true)\n",
      " |-- sec_app_chargeoff_within_12_mths: integer (nullable = true)\n",
      " |-- sec_app_collections_12_mths_ex_med: integer (nullable = true)\n",
      " |-- sec_app_mths_since_last_major_derog: integer (nullable = true)\n",
      " |-- hardship_flag: string (nullable = true)\n",
      " |-- hardship_type: string (nullable = true)\n",
      " |-- hardship_reason: string (nullable = true)\n",
      " |-- hardship_status: string (nullable = true)\n",
      " |-- deferral_term: integer (nullable = true)\n",
      " |-- hardship_amount: double (nullable = true)\n",
      " |-- hardship_start_date: string (nullable = true)\n",
      " |-- hardship_end_date: string (nullable = true)\n",
      " |-- payment_plan_start_date: string (nullable = true)\n",
      " |-- hardship_length: integer (nullable = true)\n",
      " |-- hardship_dpd: integer (nullable = true)\n",
      " |-- hardship_loan_status: string (nullable = true)\n",
      " |-- orig_projected_additional_accrued_interest: double (nullable = true)\n",
      " |-- hardship_payoff_balance_amount: double (nullable = true)\n",
      " |-- hardship_last_payment_amount: double (nullable = true)\n",
      " |-- disbursement_method: string (nullable = true)\n",
      " |-- debt_settlement_flag: string (nullable = true)\n",
      " |-- debt_settlement_flag_date: string (nullable = true)\n",
      " |-- settlement_status: string (nullable = true)\n",
      " |-- settlement_date: string (nullable = true)\n",
      " |-- settlement_amount: double (nullable = true)\n",
      " |-- settlement_percentage: double (nullable = true)\n",
      ": string (nullable = true)\n",
      " |-- bad_loan: string (nullable = false)\n",
      " |-- region: string (nullable = true)\n",
      " |-- term_cleaned: string (nullable = true)\n",
      " |-- emplen_cleaned: string (nullable = true)\n",
      "\n"
     ]
    }
   ],
   "source": [
    "df.printSchema()"
   ]
  },
  {
   "cell_type": "code",
   "execution_count": 76,
   "metadata": {},
   "outputs": [],
   "source": [
    "df = df.withColumn(\"term_cleaned\",df[\"term_cleaned\"].cast(\"int\")) \\\n",
    "       .withColumn(\"emplen_cleaned\",df[\"emplen_cleaned\"].cast(\"int\"))"
   ]
  },
  {
   "cell_type": "code",
   "execution_count": 77,
   "metadata": {},
   "outputs": [],
   "source": [
    "temp_table = \"loan\"\n",
    "df.createOrReplaceTempView(temp_table)"
   ]
  },
  {
   "cell_type": "code",
   "execution_count": 78,
   "metadata": {},
   "outputs": [
    {
     "name": "stdout",
     "output_type": "stream",
     "text": [
      "+----------+------------+----------+--------------+\n",
      "|      term|term_cleaned|emp_length|emplen_cleaned|\n",
      "+----------+------------+----------+--------------+\n",
      "| 36 months|          36| 10+ years|            10|\n",
      "| 60 months|          60| 10+ years|            10|\n",
      "| 36 months|          36|   6 years|             6|\n",
      "| 36 months|          36| 10+ years|            10|\n",
      "| 60 months|          60| 10+ years|            10|\n",
      "| 36 months|          36| 10+ years|            10|\n",
      "| 36 months|          36|   4 years|             4|\n",
      "| 36 months|          36| 10+ years|            10|\n",
      "| 36 months|          36| 10+ years|            10|\n",
      "| 36 months|          36|  < 1 year|             1|\n",
      "| 36 months|          36|  < 1 year|             1|\n",
      "| 60 months|          60|   2 years|             2|\n",
      "| 36 months|          36| 10+ years|            10|\n",
      "| 36 months|          36|   4 years|             4|\n",
      "| 60 months|          60| 10+ years|            10|\n",
      "| 36 months|          36| 10+ years|            10|\n",
      "| 36 months|          36|   4 years|             4|\n",
      "| 60 months|          60| 10+ years|            10|\n",
      "| 60 months|          60|   4 years|             4|\n",
      "| 60 months|          60| 10+ years|            10|\n",
      "+----------+------------+----------+--------------+\n",
      "only showing top 20 rows\n",
      "\n"
     ]
    }
   ],
   "source": [
    "spark.sql(\"SELECT term, term_cleaned, emp_length, emplen_cleaned FROM loan\").show()"
   ]
  },
  {
   "cell_type": "code",
   "execution_count": 79,
   "metadata": {},
   "outputs": [
    {
     "name": "stdout",
     "output_type": "stream",
     "text": [
      "+----------+--------+\n",
      "|    region|count(1)|\n",
      "+----------+--------+\n",
      "| SouthEast|  550165|\n",
      "|north_east|  519095|\n",
      "|      West|  515469|\n",
      "|   MidWest|  403150|\n",
      "| SouthWest|  272789|\n",
      "+----------+--------+\n",
      "\n"
     ]
    }
   ],
   "source": [
    "spark.sql(\"SELECT region, COUNT(*) FROM loan GROUP BY region ORDER BY 2 DESC\").show()"
   ]
  },
  {
   "cell_type": "code",
   "execution_count": 80,
   "metadata": {},
   "outputs": [
    {
     "name": "stdout",
     "output_type": "stream",
     "text": [
      "+----------+-----------------+\n",
      "|    region|  avg(annual_inc)|\n",
      "+----------+-----------------+\n",
      "|north_east|82150.04021957604|\n",
      "|      West|80199.99104900594|\n",
      "| SouthWest|79772.06763062255|\n",
      "| SouthEast|75036.60621253613|\n",
      "|   MidWest|72646.06989445612|\n",
      "+----------+-----------------+\n",
      "\n"
     ]
    }
   ],
   "source": [
    "spark.sql(\"SELECT region, AVG(annual_inc) FROM loan GROUP BY region ORDER BY 2 DESC\").show()"
   ]
  },
  {
   "cell_type": "code",
   "execution_count": 81,
   "metadata": {},
   "outputs": [
    {
     "name": "stdout",
     "output_type": "stream",
     "text": [
      "+----------+------------------+\n",
      "|    region|     avg(int_rate)|\n",
      "+----------+------------------+\n",
      "| SouthEast|13.210704970371568|\n",
      "|north_east|13.101527061562592|\n",
      "|   MidWest| 13.05565399978571|\n",
      "|      West|13.026665716117577|\n",
      "| SouthWest| 13.01920301040458|\n",
      "+----------+------------------+\n",
      "\n"
     ]
    }
   ],
   "source": [
    "spark.sql(\"SELECT region, AVG(int_rate) FROM loan GROUP BY region ORDER BY 2 DESC\").show()"
   ]
  },
  {
   "cell_type": "code",
   "execution_count": 82,
   "metadata": {},
   "outputs": [
    {
     "name": "stdout",
     "output_type": "stream",
     "text": [
      "+----------+-------------------+\n",
      "|    region|avg(emplen_cleaned)|\n",
      "+----------+-------------------+\n",
      "|   MidWest|  6.171929367545541|\n",
      "|north_east|  6.098544670474444|\n",
      "| SouthEast|  6.032337946389935|\n",
      "|      West|  5.924145837636852|\n",
      "| SouthWest|  5.813940146122143|\n",
      "+----------+-------------------+\n",
      "\n"
     ]
    }
   ],
   "source": [
    "spark.sql(\"SELECT region, AVG(emplen_cleaned) FROM loan GROUP BY region ORDER BY 2 DESC\").show()"
   ]
  },
  {
   "cell_type": "code",
   "execution_count": 84,
   "metadata": {},
   "outputs": [
    {
     "name": "stdout",
     "output_type": "stream",
     "text": [
      "+--------+\n",
      "|count(1)|\n",
      "+--------+\n",
      "|    1711|\n",
      "+--------+\n",
      "\n"
     ]
    }
   ],
   "source": [
    "spark.sql(\"SELECT COUNT(*) from loan WHERE dti IS null\").show()"
   ]
  },
  {
   "cell_type": "code",
   "execution_count": 85,
   "metadata": {},
   "outputs": [
    {
     "name": "stdout",
     "output_type": "stream",
     "text": [
      "+----------------+----+---------+\n",
      "|application_type| dti|dti_joint|\n",
      "+----------------+----+---------+\n",
      "|       Joint App|null|    33.06|\n",
      "|       Joint App|null|    17.67|\n",
      "|       Joint App|null|     27.3|\n",
      "|       Joint App|null|     8.74|\n",
      "|       Joint App|null|    11.68|\n",
      "|       Joint App|null|    28.01|\n",
      "|       Joint App|null|    15.06|\n",
      "|       Joint App|null|    12.79|\n",
      "|       Joint App|null|     8.05|\n",
      "|       Joint App|null|    24.22|\n",
      "|       Joint App|null|    20.04|\n",
      "|       Joint App|null|    19.01|\n",
      "|       Joint App|null|    12.75|\n",
      "|       Joint App|null|    22.61|\n",
      "|       Joint App|null|    24.89|\n",
      "|       Joint App|null|      0.6|\n",
      "|       Joint App|null|    15.34|\n",
      "|       Joint App|null|    23.69|\n",
      "|       Joint App|null|    17.29|\n",
      "|       Joint App|null|    29.25|\n",
      "+----------------+----+---------+\n",
      "only showing top 20 rows\n",
      "\n"
     ]
    }
   ],
   "source": [
    "spark.sql(\"SELECT application_type, dti, dti_joint FROM loan WHERE dti IS null\").show()"
   ]
  },
  {
   "cell_type": "code",
   "execution_count": 86,
   "metadata": {},
   "outputs": [],
   "source": [
    "df=df.withColumn(\"dti_cleaned\",coalesce(col(\"dti\"),col(\"dti_joint\")))"
   ]
  },
  {
   "cell_type": "code",
   "execution_count": 87,
   "metadata": {},
   "outputs": [],
   "source": [
    "temp_table = \"loan\"\n",
    "df.createOrReplaceTempView(temp_table)"
   ]
  },
  {
   "cell_type": "code",
   "execution_count": 88,
   "metadata": {},
   "outputs": [
    {
     "name": "stdout",
     "output_type": "stream",
     "text": [
      "+--------+\n",
      "|count(1)|\n",
      "+--------+\n",
      "|       0|\n",
      "+--------+\n",
      "\n"
     ]
    }
   ],
   "source": [
    "spark.sql(\"SELECT COUNT(*) from loan WHERE dti_cleaned IS null\").show()"
   ]
  },
  {
   "cell_type": "code",
   "execution_count": 90,
   "metadata": {},
   "outputs": [
    {
     "name": "stdout",
     "output_type": "stream",
     "text": [
      "+--------------------+------+------+------+------+-----+-----+----+\n",
      "|   loan_status_grade|     A|     B|     C|     D|    E|    F|   G|\n",
      "+--------------------+------+------+------+------+-----+-----+----+\n",
      "|     In Grace Period|   668|  2008|  3194|  1965|  794|  230|  93|\n",
      "|          Fully Paid|212477|329075|286666|135839|56206|17220|4469|\n",
      "|Does not meet the...|     8|    85|   148|   197|  158|   93|  72|\n",
      "|             Default|     2|     6|     9|     8|    4|    2|   0|\n",
      "|  Late (31-120 days)|  1314|  4758|  7640|  4985| 2226|  718| 256|\n",
      "|   Late (16-30 days)|   267|   824|  1327|   829|  335|  114|  41|\n",
      "|             Current|204435|275455|267326|120666|40174| 9006|2633|\n",
      "|Does not meet the...|    90|   269|   481|   494|  378|  154| 122|\n",
      "|         Charged Off| 13766| 51077| 83262| 59441|35364|14263|4482|\n",
      "+--------------------+------+------+------+------+-----+-----+----+\n",
      "\n"
     ]
    }
   ],
   "source": [
    "df.stat.crosstab('loan_status','grade').show()"
   ]
  },
  {
   "cell_type": "code",
   "execution_count": 91,
   "metadata": {},
   "outputs": [
    {
     "name": "stdout",
     "output_type": "stream",
     "text": [
      "+------------------+-----------+-------+-------+---------------------------------------------------+--------------------------------------------------+----------+---------------+-----------------+------------------+\n",
      "|region_loan_status|Charged Off|Current|Default|Does not meet the credit policy. Status:Charged Off|Does not meet the credit policy. Status:Fully Paid|Fully Paid|In Grace Period|Late (16-30 days)|Late (31-120 days)|\n",
      "+------------------+-----------+-------+-------+---------------------------------------------------+--------------------------------------------------+----------+---------------+-----------------+------------------+\n",
      "|         SouthEast|      65460| 225937|      5|                                                184|                                               457|    249193|           2359|              974|              5596|\n",
      "|         SouthWest|      31833| 110862|      4|                                                 79|                                               185|    125560|           1009|              463|              2794|\n",
      "|           MidWest|      45202| 169925|      9|                                                142|                                               405|    181859|           1449|              550|              3609|\n",
      "|        north_east|      60827| 216561|      7|                                                190|                                               577|    232264|           2356|              957|              5356|\n",
      "|              West|      58333| 196410|      6|                                                166|                                               364|    253076|           1779|              793|              4542|\n",
      "+------------------+-----------+-------+-------+---------------------------------------------------+--------------------------------------------------+----------+---------------+-----------------+------------------+\n",
      "\n"
     ]
    }
   ],
   "source": [
    "df.stat.crosstab('region','loan_status').show()"
   ]
  },
  {
   "cell_type": "code",
   "execution_count": 92,
   "metadata": {},
   "outputs": [
    {
     "name": "stdout",
     "output_type": "stream",
     "text": [
      "+--------------+------+------+------+------+-----+-----+----+\n",
      "|bad_loan_grade|     A|     B|     C|     D|    E|    F|   G|\n",
      "+--------------+------+------+------+------+-----+-----+----+\n",
      "|            No|417002|604799|554473|256999|96758|26380|7224|\n",
      "|           Yes| 16025| 58758| 95580| 67425|38881|15420|4944|\n",
      "+--------------+------+------+------+------+-----+-----+----+\n",
      "\n"
     ]
    }
   ],
   "source": [
    "df.stat.crosstab('bad_loan','grade').show()"
   ]
  },
  {
   "cell_type": "code",
   "execution_count": 93,
   "metadata": {},
   "outputs": [
    {
     "name": "stdout",
     "output_type": "stream",
     "text": [
      "+---------------+------+-----+\n",
      "|region_bad_loan|    No|  Yes|\n",
      "+---------------+------+-----+\n",
      "|      SouthEast|475587|74578|\n",
      "|      SouthWest|236607|36182|\n",
      "|        MidWest|352189|50961|\n",
      "|     north_east|449402|69693|\n",
      "|           West|449850|65619|\n",
      "+---------------+------+-----+\n",
      "\n"
     ]
    }
   ],
   "source": [
    "df.stat.crosstab('region','bad_loan').show()\n",
    "\n",
    "# May be dump this as another df and divide by total count to get the percentage"
   ]
  },
  {
   "cell_type": "code",
   "execution_count": 95,
   "metadata": {},
   "outputs": [
    {
     "name": "stdout",
     "output_type": "stream",
     "text": [
      "+-----------------+\n",
      "|    avg(int_rate)|\n",
      "+-----------------+\n",
      "|13.09291294419326|\n",
      "+-----------------+\n",
      "\n"
     ]
    }
   ],
   "source": [
    "spark.sql(\"SELECT AVG(int_rate) FROM loan\").show()"
   ]
  },
  {
   "cell_type": "code",
   "execution_count": 96,
   "metadata": {},
   "outputs": [
    {
     "name": "stdout",
     "output_type": "stream",
     "text": [
      "+-----------------+\n",
      "|  avg(annual_inc)|\n",
      "+-----------------+\n",
      "|77992.42868706738|\n",
      "+-----------------+\n",
      "\n"
     ]
    }
   ],
   "source": [
    "spark.sql(\"SELECT AVG(annual_inc) FROM loan\").show()"
   ]
  },
  {
   "cell_type": "code",
   "execution_count": 99,
   "metadata": {},
   "outputs": [
    {
     "name": "stdout",
     "output_type": "stream",
     "text": [
      "+----------+--------------+------------------+-----------------+\n",
      "|addr_state|sum(loan_amnt)|     avg(int_rate)|  avg(annual_inc)|\n",
      "+----------+--------------+------------------+-----------------+\n",
      "|        CA|    4808480100|12.976628143969622|83847.98108853432|\n",
      "|        TX|    2931133525|12.999443797465382|82728.81402050063|\n",
      "|        NY|    2767160700| 13.26004973470032|81057.04801115961|\n",
      "|        FL|    2333034500|13.164815329246071|73171.61167620425|\n",
      "|        IL|    1410451950|12.960123611155202|79884.92210972556|\n",
      "+----------+--------------+------------------+-----------------+\n",
      "\n"
     ]
    }
   ],
   "source": [
    "spark.sql(\"SELECT addr_state, SUM(loan_amnt), AVG(int_rate), AVG(annual_inc) FROM loan GROUP BY addr_state ORDER BY 2 DESC LIMIT 5\").show()"
   ]
  },
  {
   "cell_type": "code",
   "execution_count": 103,
   "metadata": {},
   "outputs": [],
   "source": [
    "df=df.withColumn(\n",
    "    \"income_cat\", \n",
    "    when(df[\"annual_inc\"]<=100000,'Low')\n",
    "    .when((df[\"annual_inc\"] > 100000) & (df[\"annual_inc\"] <= 200000) ,'Medium')\n",
    "    .when(df[\"annual_inc\"] > 200000,'High')\n",
    ")"
   ]
  },
  {
   "cell_type": "code",
   "execution_count": 104,
   "metadata": {},
   "outputs": [],
   "source": [
    "temp_table = \"loan\"\n",
    "df.createOrReplaceTempView(temp_table)"
   ]
  },
  {
   "cell_type": "code",
   "execution_count": 105,
   "metadata": {},
   "outputs": [
    {
     "name": "stdout",
     "output_type": "stream",
     "text": [
      "root\n",
      " |-- loan_amnt: integer (nullable = true)\n",
      " |-- funded_amnt: integer (nullable = true)\n",
      " |-- funded_amnt_inv: double (nullable = true)\n",
      " |-- term: string (nullable = true)\n",
      " |-- int_rate: double (nullable = true)\n",
      " |-- installment: double (nullable = true)\n",
      " |-- grade: string (nullable = true)\n",
      " |-- sub_grade: string (nullable = true)\n",
      " |-- emp_length: string (nullable = true)\n",
      " |-- home_ownership: string (nullable = true)\n",
      " |-- annual_inc: double (nullable = true)\n",
      " |-- verification_status: string (nullable = true)\n",
      " |-- issue_d: string (nullable = true)\n",
      " |-- loan_status: string (nullable = true)\n",
      " |-- pymnt_plan: string (nullable = true)\n",
      " |-- purpose: string (nullable = true)\n",
      " |-- addr_state: string (nullable = true)\n",
      " |-- dti: double (nullable = true)\n",
      " |-- delinq_2yrs: integer (nullable = true)\n",
      " |-- earliest_cr_line: string (nullable = true)\n",
      " |-- inq_last_6mths: integer (nullable = true)\n",
      " |-- mths_since_last_delinq: integer (nullable = true)\n",
      " |-- mths_since_last_record: integer (nullable = true)\n",
      " |-- open_acc: integer (nullable = true)\n",
      " |-- pub_rec: integer (nullable = true)\n",
      " |-- revol_bal: integer (nullable = true)\n",
      " |-- revol_util: double (nullable = true)\n",
      " |-- total_acc: integer (nullable = true)\n",
      " |-- initial_list_status: string (nullable = true)\n",
      " |-- out_prncp: double (nullable = true)\n",
      " |-- out_prncp_inv: double (nullable = true)\n",
      " |-- total_pymnt: double (nullable = true)\n",
      " |-- total_pymnt_inv: double (nullable = true)\n",
      " |-- total_rec_prncp: double (nullable = true)\n",
      " |-- total_rec_int: double (nullable = true)\n",
      " |-- total_rec_late_fee: double (nullable = true)\n",
      " |-- recoveries: double (nullable = true)\n",
      " |-- collection_recovery_fee: double (nullable = true)\n",
      " |-- last_pymnt_d: string (nullable = true)\n",
      " |-- last_pymnt_amnt: double (nullable = true)\n",
      " |-- next_pymnt_d: string (nullable = true)\n",
      " |-- last_credit_pull_d: string (nullable = true)\n",
      " |-- collections_12_mths_ex_med: integer (nullable = true)\n",
      " |-- mths_since_last_major_derog: integer (nullable = true)\n",
      " |-- policy_code: integer (nullable = true)\n",
      " |-- application_type: string (nullable = true)\n",
      " |-- annual_inc_joint: double (nullable = true)\n",
      " |-- dti_joint: double (nullable = true)\n",
      " |-- verification_status_joint: string (nullable = true)\n",
      " |-- acc_now_delinq: integer (nullable = true)\n",
      " |-- tot_coll_amt: integer (nullable = true)\n",
      " |-- tot_cur_bal: integer (nullable = true)\n",
      " |-- open_acc_6m: integer (nullable = true)\n",
      " |-- open_act_il: integer (nullable = true)\n",
      " |-- open_il_12m: integer (nullable = true)\n",
      " |-- open_il_24m: integer (nullable = true)\n",
      " |-- mths_since_rcnt_il: integer (nullable = true)\n",
      " |-- total_bal_il: integer (nullable = true)\n",
      " |-- il_util: integer (nullable = true)\n",
      " |-- open_rv_12m: integer (nullable = true)\n",
      " |-- open_rv_24m: integer (nullable = true)\n",
      " |-- max_bal_bc: integer (nullable = true)\n",
      " |-- all_util: integer (nullable = true)\n",
      " |-- total_rev_hi_lim: integer (nullable = true)\n",
      " |-- inq_fi: integer (nullable = true)\n",
      " |-- total_cu_tl: integer (nullable = true)\n",
      " |-- inq_last_12m: integer (nullable = true)\n",
      " |-- acc_open_past_24mths: integer (nullable = true)\n",
      " |-- avg_cur_bal: integer (nullable = true)\n",
      " |-- bc_open_to_buy: integer (nullable = true)\n",
      " |-- bc_util: double (nullable = true)\n",
      " |-- chargeoff_within_12_mths: integer (nullable = true)\n",
      " |-- delinq_amnt: integer (nullable = true)\n",
      " |-- mo_sin_old_il_acct: integer (nullable = true)\n",
      " |-- mo_sin_old_rev_tl_op: integer (nullable = true)\n",
      " |-- mo_sin_rcnt_rev_tl_op: integer (nullable = true)\n",
      " |-- mo_sin_rcnt_tl: integer (nullable = true)\n",
      " |-- mort_acc: integer (nullable = true)\n",
      " |-- mths_since_recent_bc: integer (nullable = true)\n",
      " |-- mths_since_recent_bc_dlq: integer (nullable = true)\n",
      " |-- mths_since_recent_inq: integer (nullable = true)\n",
      " |-- mths_since_recent_revol_delinq: integer (nullable = true)\n",
      " |-- num_accts_ever_120_pd: integer (nullable = true)\n",
      " |-- num_actv_bc_tl: integer (nullable = true)\n",
      " |-- num_actv_rev_tl: integer (nullable = true)\n",
      " |-- num_bc_sats: integer (nullable = true)\n",
      " |-- num_bc_tl: integer (nullable = true)\n",
      " |-- num_il_tl: integer (nullable = true)\n",
      " |-- num_op_rev_tl: integer (nullable = true)\n",
      " |-- num_rev_accts: integer (nullable = true)\n",
      " |-- num_rev_tl_bal_gt_0: integer (nullable = true)\n",
      " |-- num_sats: integer (nullable = true)\n",
      " |-- num_tl_120dpd_2m: integer (nullable = true)\n",
      " |-- num_tl_30dpd: integer (nullable = true)\n",
      " |-- num_tl_90g_dpd_24m: integer (nullable = true)\n",
      " |-- num_tl_op_past_12m: integer (nullable = true)\n",
      " |-- pct_tl_nvr_dlq: double (nullable = true)\n",
      " |-- percent_bc_gt_75: double (nullable = true)\n",
      " |-- pub_rec_bankruptcies: integer (nullable = true)\n",
      " |-- tax_liens: integer (nullable = true)\n",
      " |-- tot_hi_cred_lim: integer (nullable = true)\n",
      " |-- total_bal_ex_mort: integer (nullable = true)\n",
      " |-- total_bc_limit: integer (nullable = true)\n",
      " |-- total_il_high_credit_limit: integer (nullable = true)\n",
      " |-- revol_bal_joint: integer (nullable = true)\n",
      " |-- sec_app_earliest_cr_line: string (nullable = true)\n",
      " |-- sec_app_inq_last_6mths: integer (nullable = true)\n",
      " |-- sec_app_mort_acc: integer (nullable = true)\n",
      " |-- sec_app_open_acc: integer (nullable = true)\n",
      " |-- sec_app_revol_util: double (nullable = true)\n",
      " |-- sec_app_open_act_il: integer (nullable = true)\n",
      " |-- sec_app_num_rev_accts: integer (nullable = true)\n",
      " |-- sec_app_chargeoff_within_12_mths: integer (nullable = true)\n",
      " |-- sec_app_collections_12_mths_ex_med: integer (nullable = true)\n",
      " |-- sec_app_mths_since_last_major_derog: integer (nullable = true)\n",
      " |-- hardship_flag: string (nullable = true)\n",
      " |-- hardship_type: string (nullable = true)\n",
      " |-- hardship_reason: string (nullable = true)\n",
      " |-- hardship_status: string (nullable = true)\n",
      " |-- deferral_term: integer (nullable = true)\n",
      " |-- hardship_amount: double (nullable = true)\n",
      " |-- hardship_start_date: string (nullable = true)\n",
      " |-- hardship_end_date: string (nullable = true)\n",
      " |-- payment_plan_start_date: string (nullable = true)\n",
      " |-- hardship_length: integer (nullable = true)\n",
      " |-- hardship_dpd: integer (nullable = true)\n",
      " |-- hardship_loan_status: string (nullable = true)\n",
      " |-- orig_projected_additional_accrued_interest: double (nullable = true)\n",
      " |-- hardship_payoff_balance_amount: double (nullable = true)\n",
      " |-- hardship_last_payment_amount: double (nullable = true)\n",
      " |-- disbursement_method: string (nullable = true)\n",
      " |-- debt_settlement_flag: string (nullable = true)\n",
      " |-- debt_settlement_flag_date: string (nullable = true)\n",
      " |-- settlement_status: string (nullable = true)\n",
      " |-- settlement_date: string (nullable = true)\n",
      " |-- settlement_amount: double (nullable = true)\n",
      " |-- settlement_percentage: double (nullable = true)\n",
      ": string (nullable = true)\n",
      " |-- bad_loan: string (nullable = false)\n",
      " |-- region: string (nullable = true)\n",
      " |-- term_cleaned: integer (nullable = true)\n",
      " |-- emplen_cleaned: integer (nullable = true)\n",
      " |-- dti_cleaned: double (nullable = true)\n",
      " |-- income_cat: string (nullable = true)\n",
      "\n"
     ]
    }
   ],
   "source": [
    "df.printSchema()"
   ]
  },
  {
   "cell_type": "code",
   "execution_count": 106,
   "metadata": {},
   "outputs": [
    {
     "name": "stdout",
     "output_type": "stream",
     "text": [
      "+----------+------------------+\n",
      "|income_cat|    avg(loan_amnt)|\n",
      "+----------+------------------+\n",
      "|      High| 25830.78597917291|\n",
      "|    Medium|21107.450458526873|\n",
      "|       Low| 13413.56220061527|\n",
      "|      null|            6300.0|\n",
      "+----------+------------------+\n",
      "\n"
     ]
    }
   ],
   "source": [
    "spark.sql(\"SELECT income_cat, AVG(loan_amnt) FROM loan GROUP BY income_cat ORDER BY 2 DESC \").show()"
   ]
  },
  {
   "cell_type": "code",
   "execution_count": 107,
   "metadata": {},
   "outputs": [],
   "source": [
    "# Remember to impute null values into loan_amnt column"
   ]
  },
  {
   "cell_type": "code",
   "execution_count": 112,
   "metadata": {},
   "outputs": [
    {
     "name": "stdout",
     "output_type": "stream",
     "text": [
      "+-------------------+-------+------+\n",
      "|income_cat_bad_loan|     No|   Yes|\n",
      "+-------------------+-------+------+\n",
      "|             Medium| 353251| 40510|\n",
      "|               High|  48782|  4610|\n",
      "|                Low|1561598|251913|\n",
      "|               null|      4|     0|\n",
      "+-------------------+-------+------+\n",
      "\n"
     ]
    }
   ],
   "source": [
    "df.stat.crosstab('income_cat','bad_loan').show()"
   ]
  },
  {
   "cell_type": "code",
   "execution_count": 113,
   "metadata": {},
   "outputs": [
    {
     "name": "stdout",
     "output_type": "stream",
     "text": [
      "+----------+------------------+\n",
      "|income_cat|     avg(int_rate)|\n",
      "+----------+------------------+\n",
      "|       Low|13.307484459624483|\n",
      "|    Medium| 12.29144595328553|\n",
      "|      High| 11.71592204824534|\n",
      "|      null| 7.827500000000001|\n",
      "+----------+------------------+\n",
      "\n"
     ]
    }
   ],
   "source": [
    "spark.sql(\"SELECT income_cat, AVG(int_rate) FROM loan GROUP BY income_cat ORDER BY 2 DESC\").show()"
   ]
  },
  {
   "cell_type": "code",
   "execution_count": 114,
   "metadata": {},
   "outputs": [
    {
     "name": "stdout",
     "output_type": "stream",
     "text": [
      "+----------+-------------------+\n",
      "|income_cat|avg(emplen_cleaned)|\n",
      "+----------+-------------------+\n",
      "|    Medium|  6.449735805702042|\n",
      "|      High|  6.339117613700806|\n",
      "|       Low|  5.912311118569849|\n",
      "|      null|                1.0|\n",
      "+----------+-------------------+\n",
      "\n"
     ]
    }
   ],
   "source": [
    "spark.sql(\"SELECT income_cat, AVG(emplen_cleaned) FROM loan GROUP BY income_cat ORDER BY 2 DESC\").show()"
   ]
  },
  {
   "cell_type": "code",
   "execution_count": 116,
   "metadata": {},
   "outputs": [
    {
     "name": "stdout",
     "output_type": "stream",
     "text": [
      "+----------+----------------+\n",
      "|addr_state|scalarsubquery()|\n",
      "+----------+----------------+\n",
      "|        DC|      4664104700|\n",
      "|        MN|      4664104700|\n",
      "|        SC|      4664104700|\n",
      "|        AZ|      4664104700|\n",
      "|        VA|      4664104700|\n",
      "|        NJ|      4664104700|\n",
      "|        OR|      4664104700|\n",
      "|        KY|      4664104700|\n",
      "|        WY|      4664104700|\n",
      "|        LA|      4664104700|\n",
      "|        NH|      4664104700|\n",
      "|        CT|      4664104700|\n",
      "|        NE|      4664104700|\n",
      "|        CA|      4664104700|\n",
      "|        WI|      4664104700|\n",
      "|        VT|      4664104700|\n",
      "|        RI|      4664104700|\n",
      "|        MT|      4664104700|\n",
      "|        MD|      4664104700|\n",
      "|        ID|      4664104700|\n",
      "+----------+----------------+\n",
      "only showing top 20 rows\n",
      "\n"
     ]
    }
   ],
   "source": [
    "spark.sql(\"SELECT addr_state, (SELECT SUM(loan_amnt) FROM loan WHERE bad_loan = 'Yes') FROM loan GROUP BY addr_state ORDER BY 2 DESC\").show()\n",
    "\n",
    "# Create same output as out 23 kaggle"
   ]
  },
  {
   "cell_type": "code",
   "execution_count": null,
   "metadata": {},
   "outputs": [],
   "source": [
    "# Generate output of 25, 26, "
   ]
  },
  {
   "cell_type": "code",
   "execution_count": 117,
   "metadata": {},
   "outputs": [],
   "source": [
    "# Maybe add interest_payment column?"
   ]
  },
  {
   "cell_type": "code",
   "execution_count": 118,
   "metadata": {},
   "outputs": [
    {
     "name": "stdout",
     "output_type": "stream",
     "text": [
      "+------------------+--------+\n",
      "|           purpose|count(1)|\n",
      "+------------------+--------+\n",
      "|debt_consolidation| 1277877|\n",
      "|       credit_card|  516971|\n",
      "|  home_improvement|  150457|\n",
      "|             other|  139440|\n",
      "|    major_purchase|   50445|\n",
      "|           medical|   27488|\n",
      "|    small_business|   24689|\n",
      "|               car|   24013|\n",
      "|          vacation|   15525|\n",
      "|            moving|   15403|\n",
      "|             house|   14136|\n",
      "|           wedding|    2355|\n",
      "|  renewable_energy|    1445|\n",
      "|       educational|     424|\n",
      "+------------------+--------+\n",
      "\n"
     ]
    }
   ],
   "source": [
    "spark.sql(\"SELECT purpose, COUNT(*) FROM loan GROUP BY purpose ORDER BY 2 DESC\").show()"
   ]
  },
  {
   "cell_type": "code",
   "execution_count": 119,
   "metadata": {},
   "outputs": [],
   "source": [
    "# Stratified split in PySpark?"
   ]
  },
  {
   "cell_type": "code",
   "execution_count": null,
   "metadata": {},
   "outputs": [],
   "source": []
  },
  {
   "cell_type": "code",
   "execution_count": null,
   "metadata": {},
   "outputs": [],
   "source": []
  },
  {
   "cell_type": "code",
   "execution_count": null,
   "metadata": {},
   "outputs": [],
   "source": []
  },
  {
   "cell_type": "code",
   "execution_count": null,
   "metadata": {},
   "outputs": [],
   "source": []
  },
  {
   "cell_type": "code",
   "execution_count": null,
   "metadata": {},
   "outputs": [],
   "source": []
  },
  {
   "cell_type": "code",
   "execution_count": null,
   "metadata": {},
   "outputs": [],
   "source": []
  },
  {
   "cell_type": "code",
   "execution_count": null,
   "metadata": {},
   "outputs": [],
   "source": []
  },
  {
   "cell_type": "code",
   "execution_count": null,
   "metadata": {},
   "outputs": [],
   "source": []
  },
  {
   "cell_type": "code",
   "execution_count": null,
   "metadata": {},
   "outputs": [],
   "source": []
  },
  {
   "cell_type": "code",
   "execution_count": null,
   "metadata": {},
   "outputs": [],
   "source": []
  },
  {
   "cell_type": "code",
   "execution_count": null,
   "metadata": {},
   "outputs": [],
   "source": []
  },
  {
   "cell_type": "code",
   "execution_count": null,
   "metadata": {},
   "outputs": [],
   "source": []
  },
  {
   "cell_type": "code",
   "execution_count": null,
   "metadata": {},
   "outputs": [],
   "source": []
  },
  {
   "cell_type": "code",
   "execution_count": null,
   "metadata": {},
   "outputs": [],
   "source": []
  },
  {
   "cell_type": "code",
   "execution_count": null,
   "metadata": {},
   "outputs": [],
   "source": []
  },
  {
   "cell_type": "code",
   "execution_count": null,
   "metadata": {},
   "outputs": [],
   "source": []
  },
  {
   "cell_type": "code",
   "execution_count": null,
   "metadata": {},
   "outputs": [],
   "source": []
  },
  {
   "cell_type": "code",
   "execution_count": null,
   "metadata": {},
   "outputs": [],
   "source": [
    "####################################################################################################################3"
   ]
  },
  {
   "cell_type": "code",
   "execution_count": 7,
   "metadata": {},
   "outputs": [],
   "source": [
    "# Register the DataFrame as a SQL temporary view\n",
    "temp_table = \"loan\"\n",
    "df.createOrReplaceTempView(temp_table)"
   ]
  },
  {
   "cell_type": "code",
   "execution_count": 8,
   "metadata": {},
   "outputs": [
    {
     "data": {
      "text/plain": [
       "DataFrame[id: string, member_id: string, loan_amnt: int, funded_amnt: int, funded_amnt_inv: double, term: string, int_rate: double, installment: double, grade: string, sub_grade: string, emp_title: string, emp_length: string, home_ownership: string, annual_inc: double, verification_status: string, issue_d: string, loan_status: string, pymnt_plan: string, url: string, desc: string, purpose: string, title: string, zip_code: string, addr_state: string, dti: double, delinq_2yrs: int, earliest_cr_line: string, inq_last_6mths: int, mths_since_last_delinq: int, mths_since_last_record: int, open_acc: int, pub_rec: int, revol_bal: int, revol_util: double, total_acc: int, initial_list_status: string, out_prncp: double, out_prncp_inv: double, total_pymnt: double, total_pymnt_inv: double, total_rec_prncp: double, total_rec_int: double, total_rec_late_fee: double, recoveries: double, collection_recovery_fee: double, last_pymnt_d: string, last_pymnt_amnt: double, next_pymnt_d: string, last_credit_pull_d: string, collections_12_mths_ex_med: int, mths_since_last_major_derog: int, policy_code: int, application_type: string, annual_inc_joint: double, dti_joint: double, verification_status_joint: string, acc_now_delinq: int, tot_coll_amt: int, tot_cur_bal: int, open_acc_6m: int, open_act_il: int, open_il_12m: int, open_il_24m: int, mths_since_rcnt_il: int, total_bal_il: int, il_util: int, open_rv_12m: int, open_rv_24m: int, max_bal_bc: int, all_util: int, total_rev_hi_lim: int, inq_fi: int, total_cu_tl: int, inq_last_12m: int, acc_open_past_24mths: int, avg_cur_bal: int, bc_open_to_buy: int, bc_util: double, chargeoff_within_12_mths: int, delinq_amnt: int, mo_sin_old_il_acct: int, mo_sin_old_rev_tl_op: int, mo_sin_rcnt_rev_tl_op: int, mo_sin_rcnt_tl: int, mort_acc: int, mths_since_recent_bc: int, mths_since_recent_bc_dlq: int, mths_since_recent_inq: int, mths_since_recent_revol_delinq: int, num_accts_ever_120_pd: int, num_actv_bc_tl: int, num_actv_rev_tl: int, num_bc_sats: int, num_bc_tl: int, num_il_tl: int, num_op_rev_tl: int, num_rev_accts: int, num_rev_tl_bal_gt_0: int, num_sats: int, num_tl_120dpd_2m: int, num_tl_30dpd: int, num_tl_90g_dpd_24m: int, num_tl_op_past_12m: int, pct_tl_nvr_dlq: double, percent_bc_gt_75: double, pub_rec_bankruptcies: int, tax_liens: int, tot_hi_cred_lim: int, total_bal_ex_mort: int, total_bc_limit: int, total_il_high_credit_limit: int, revol_bal_joint: int, sec_app_earliest_cr_line: string, sec_app_inq_last_6mths: int, sec_app_mort_acc: int, sec_app_open_acc: int, sec_app_revol_util: double, sec_app_open_act_il: int, sec_app_num_rev_accts: int, sec_app_chargeoff_within_12_mths: int, sec_app_collections_12_mths_ex_med: int, sec_app_mths_since_last_major_derog: int, hardship_flag: string, hardship_type: string, hardship_reason: string, hardship_status: string, deferral_term: int, hardship_amount: double, hardship_start_date: string, hardship_end_date: string, payment_plan_start_date: string, hardship_length: int, hardship_dpd: int, hardship_loan_status: string, orig_projected_additional_accrued_interest: double, hardship_payoff_balance_amount: double, hardship_last_payment_amount: double, disbursement_method: string, debt_settlement_flag: string, debt_settlement_flag_date: string, settlement_status: string, settlement_date: string, settlement_amount: double, settlement_percentage: double, settlement_term\n",
       ": string]"
      ]
     },
     "execution_count": 8,
     "metadata": {},
     "output_type": "execute_result"
    }
   ],
   "source": [
    "spark.sql(\"SELECT * FROM loan\")"
   ]
  },
  {
   "cell_type": "code",
   "execution_count": 9,
   "metadata": {},
   "outputs": [
    {
     "name": "stdout",
     "output_type": "stream",
     "text": [
      "+--------+\n",
      "|count(1)|\n",
      "+--------+\n",
      "| 2260668|\n",
      "+--------+\n",
      "\n"
     ]
    }
   ],
   "source": [
    "spark.sql(\"SELECT COUNT(*) FROM loan\").show()"
   ]
  },
  {
   "cell_type": "code",
   "execution_count": 10,
   "metadata": {},
   "outputs": [
    {
     "ename": "KeyboardInterrupt",
     "evalue": "",
     "output_type": "error",
     "traceback": [
      "\u001b[0;31m---------------------------------------------------------------------------\u001b[0m",
      "\u001b[0;31mKeyboardInterrupt\u001b[0m                         Traceback (most recent call last)",
      "\u001b[0;32m<ipython-input-10-dde026cdb0e0>\u001b[0m in \u001b[0;36m<module>\u001b[0;34m\u001b[0m\n\u001b[0;32m----> 1\u001b[0;31m \u001b[0mdf\u001b[0m\u001b[0;34m.\u001b[0m\u001b[0mdescribe\u001b[0m\u001b[0;34m(\u001b[0m\u001b[0;34m)\u001b[0m\u001b[0;34m.\u001b[0m\u001b[0mshow\u001b[0m\u001b[0;34m(\u001b[0m\u001b[0;34m)\u001b[0m\u001b[0;34m\u001b[0m\u001b[0;34m\u001b[0m\u001b[0m\n\u001b[0m",
      "\u001b[0;32m~/anaconda3/lib/python3.7/site-packages/pyspark/sql/dataframe.py\u001b[0m in \u001b[0;36mdescribe\u001b[0;34m(self, *cols)\u001b[0m\n\u001b[1;32m   1270\u001b[0m         \u001b[0;32mif\u001b[0m \u001b[0mlen\u001b[0m\u001b[0;34m(\u001b[0m\u001b[0mcols\u001b[0m\u001b[0;34m)\u001b[0m \u001b[0;34m==\u001b[0m \u001b[0;36m1\u001b[0m \u001b[0;32mand\u001b[0m \u001b[0misinstance\u001b[0m\u001b[0;34m(\u001b[0m\u001b[0mcols\u001b[0m\u001b[0;34m[\u001b[0m\u001b[0;36m0\u001b[0m\u001b[0;34m]\u001b[0m\u001b[0;34m,\u001b[0m \u001b[0mlist\u001b[0m\u001b[0;34m)\u001b[0m\u001b[0;34m:\u001b[0m\u001b[0;34m\u001b[0m\u001b[0;34m\u001b[0m\u001b[0m\n\u001b[1;32m   1271\u001b[0m             \u001b[0mcols\u001b[0m \u001b[0;34m=\u001b[0m \u001b[0mcols\u001b[0m\u001b[0;34m[\u001b[0m\u001b[0;36m0\u001b[0m\u001b[0;34m]\u001b[0m\u001b[0;34m\u001b[0m\u001b[0;34m\u001b[0m\u001b[0m\n\u001b[0;32m-> 1272\u001b[0;31m         \u001b[0mjdf\u001b[0m \u001b[0;34m=\u001b[0m \u001b[0mself\u001b[0m\u001b[0;34m.\u001b[0m\u001b[0m_jdf\u001b[0m\u001b[0;34m.\u001b[0m\u001b[0mdescribe\u001b[0m\u001b[0;34m(\u001b[0m\u001b[0mself\u001b[0m\u001b[0;34m.\u001b[0m\u001b[0m_jseq\u001b[0m\u001b[0;34m(\u001b[0m\u001b[0mcols\u001b[0m\u001b[0;34m)\u001b[0m\u001b[0;34m)\u001b[0m\u001b[0;34m\u001b[0m\u001b[0;34m\u001b[0m\u001b[0m\n\u001b[0m\u001b[1;32m   1273\u001b[0m         \u001b[0;32mreturn\u001b[0m \u001b[0mDataFrame\u001b[0m\u001b[0;34m(\u001b[0m\u001b[0mjdf\u001b[0m\u001b[0;34m,\u001b[0m \u001b[0mself\u001b[0m\u001b[0;34m.\u001b[0m\u001b[0msql_ctx\u001b[0m\u001b[0;34m)\u001b[0m\u001b[0;34m\u001b[0m\u001b[0;34m\u001b[0m\u001b[0m\n\u001b[1;32m   1274\u001b[0m \u001b[0;34m\u001b[0m\u001b[0m\n",
      "\u001b[0;32m~/anaconda3/lib/python3.7/site-packages/py4j/java_gateway.py\u001b[0m in \u001b[0;36m__call__\u001b[0;34m(self, *args)\u001b[0m\n\u001b[1;32m   1301\u001b[0m             \u001b[0mproto\u001b[0m\u001b[0;34m.\u001b[0m\u001b[0mEND_COMMAND_PART\u001b[0m\u001b[0;34m\u001b[0m\u001b[0;34m\u001b[0m\u001b[0m\n\u001b[1;32m   1302\u001b[0m \u001b[0;34m\u001b[0m\u001b[0m\n\u001b[0;32m-> 1303\u001b[0;31m         \u001b[0manswer\u001b[0m \u001b[0;34m=\u001b[0m \u001b[0mself\u001b[0m\u001b[0;34m.\u001b[0m\u001b[0mgateway_client\u001b[0m\u001b[0;34m.\u001b[0m\u001b[0msend_command\u001b[0m\u001b[0;34m(\u001b[0m\u001b[0mcommand\u001b[0m\u001b[0;34m)\u001b[0m\u001b[0;34m\u001b[0m\u001b[0;34m\u001b[0m\u001b[0m\n\u001b[0m\u001b[1;32m   1304\u001b[0m         return_value = get_return_value(\n\u001b[1;32m   1305\u001b[0m             answer, self.gateway_client, self.target_id, self.name)\n",
      "\u001b[0;32m~/anaconda3/lib/python3.7/site-packages/py4j/java_gateway.py\u001b[0m in \u001b[0;36msend_command\u001b[0;34m(self, command, retry, binary)\u001b[0m\n\u001b[1;32m   1031\u001b[0m         \u001b[0mconnection\u001b[0m \u001b[0;34m=\u001b[0m \u001b[0mself\u001b[0m\u001b[0;34m.\u001b[0m\u001b[0m_get_connection\u001b[0m\u001b[0;34m(\u001b[0m\u001b[0;34m)\u001b[0m\u001b[0;34m\u001b[0m\u001b[0;34m\u001b[0m\u001b[0m\n\u001b[1;32m   1032\u001b[0m         \u001b[0;32mtry\u001b[0m\u001b[0;34m:\u001b[0m\u001b[0;34m\u001b[0m\u001b[0;34m\u001b[0m\u001b[0m\n\u001b[0;32m-> 1033\u001b[0;31m             \u001b[0mresponse\u001b[0m \u001b[0;34m=\u001b[0m \u001b[0mconnection\u001b[0m\u001b[0;34m.\u001b[0m\u001b[0msend_command\u001b[0m\u001b[0;34m(\u001b[0m\u001b[0mcommand\u001b[0m\u001b[0;34m)\u001b[0m\u001b[0;34m\u001b[0m\u001b[0;34m\u001b[0m\u001b[0m\n\u001b[0m\u001b[1;32m   1034\u001b[0m             \u001b[0;32mif\u001b[0m \u001b[0mbinary\u001b[0m\u001b[0;34m:\u001b[0m\u001b[0;34m\u001b[0m\u001b[0;34m\u001b[0m\u001b[0m\n\u001b[1;32m   1035\u001b[0m                 \u001b[0;32mreturn\u001b[0m \u001b[0mresponse\u001b[0m\u001b[0;34m,\u001b[0m \u001b[0mself\u001b[0m\u001b[0;34m.\u001b[0m\u001b[0m_create_connection_guard\u001b[0m\u001b[0;34m(\u001b[0m\u001b[0mconnection\u001b[0m\u001b[0;34m)\u001b[0m\u001b[0;34m\u001b[0m\u001b[0;34m\u001b[0m\u001b[0m\n",
      "\u001b[0;32m~/anaconda3/lib/python3.7/site-packages/py4j/java_gateway.py\u001b[0m in \u001b[0;36msend_command\u001b[0;34m(self, command)\u001b[0m\n\u001b[1;32m   1198\u001b[0m \u001b[0;34m\u001b[0m\u001b[0m\n\u001b[1;32m   1199\u001b[0m         \u001b[0;32mtry\u001b[0m\u001b[0;34m:\u001b[0m\u001b[0;34m\u001b[0m\u001b[0;34m\u001b[0m\u001b[0m\n\u001b[0;32m-> 1200\u001b[0;31m             \u001b[0manswer\u001b[0m \u001b[0;34m=\u001b[0m \u001b[0msmart_decode\u001b[0m\u001b[0;34m(\u001b[0m\u001b[0mself\u001b[0m\u001b[0;34m.\u001b[0m\u001b[0mstream\u001b[0m\u001b[0;34m.\u001b[0m\u001b[0mreadline\u001b[0m\u001b[0;34m(\u001b[0m\u001b[0;34m)\u001b[0m\u001b[0;34m[\u001b[0m\u001b[0;34m:\u001b[0m\u001b[0;34m-\u001b[0m\u001b[0;36m1\u001b[0m\u001b[0;34m]\u001b[0m\u001b[0;34m)\u001b[0m\u001b[0;34m\u001b[0m\u001b[0;34m\u001b[0m\u001b[0m\n\u001b[0m\u001b[1;32m   1201\u001b[0m             \u001b[0mlogger\u001b[0m\u001b[0;34m.\u001b[0m\u001b[0mdebug\u001b[0m\u001b[0;34m(\u001b[0m\u001b[0;34m\"Answer received: {0}\"\u001b[0m\u001b[0;34m.\u001b[0m\u001b[0mformat\u001b[0m\u001b[0;34m(\u001b[0m\u001b[0manswer\u001b[0m\u001b[0;34m)\u001b[0m\u001b[0;34m)\u001b[0m\u001b[0;34m\u001b[0m\u001b[0;34m\u001b[0m\u001b[0m\n\u001b[1;32m   1202\u001b[0m             \u001b[0;32mif\u001b[0m \u001b[0manswer\u001b[0m\u001b[0;34m.\u001b[0m\u001b[0mstartswith\u001b[0m\u001b[0;34m(\u001b[0m\u001b[0mproto\u001b[0m\u001b[0;34m.\u001b[0m\u001b[0mRETURN_MESSAGE\u001b[0m\u001b[0;34m)\u001b[0m\u001b[0;34m:\u001b[0m\u001b[0;34m\u001b[0m\u001b[0;34m\u001b[0m\u001b[0m\n",
      "\u001b[0;32m~/anaconda3/lib/python3.7/socket.py\u001b[0m in \u001b[0;36mreadinto\u001b[0;34m(self, b)\u001b[0m\n\u001b[1;32m    587\u001b[0m         \u001b[0;32mwhile\u001b[0m \u001b[0;32mTrue\u001b[0m\u001b[0;34m:\u001b[0m\u001b[0;34m\u001b[0m\u001b[0;34m\u001b[0m\u001b[0m\n\u001b[1;32m    588\u001b[0m             \u001b[0;32mtry\u001b[0m\u001b[0;34m:\u001b[0m\u001b[0;34m\u001b[0m\u001b[0;34m\u001b[0m\u001b[0m\n\u001b[0;32m--> 589\u001b[0;31m                 \u001b[0;32mreturn\u001b[0m \u001b[0mself\u001b[0m\u001b[0;34m.\u001b[0m\u001b[0m_sock\u001b[0m\u001b[0;34m.\u001b[0m\u001b[0mrecv_into\u001b[0m\u001b[0;34m(\u001b[0m\u001b[0mb\u001b[0m\u001b[0;34m)\u001b[0m\u001b[0;34m\u001b[0m\u001b[0;34m\u001b[0m\u001b[0m\n\u001b[0m\u001b[1;32m    590\u001b[0m             \u001b[0;32mexcept\u001b[0m \u001b[0mtimeout\u001b[0m\u001b[0;34m:\u001b[0m\u001b[0;34m\u001b[0m\u001b[0;34m\u001b[0m\u001b[0m\n\u001b[1;32m    591\u001b[0m                 \u001b[0mself\u001b[0m\u001b[0;34m.\u001b[0m\u001b[0m_timeout_occurred\u001b[0m \u001b[0;34m=\u001b[0m \u001b[0;32mTrue\u001b[0m\u001b[0;34m\u001b[0m\u001b[0;34m\u001b[0m\u001b[0m\n",
      "\u001b[0;31mKeyboardInterrupt\u001b[0m: "
     ]
    }
   ],
   "source": [
    "df.describe().show()"
   ]
  },
  {
   "cell_type": "code",
   "execution_count": 11,
   "metadata": {},
   "outputs": [],
   "source": [
    "df_sel = df.select(\n",
    "    \"term\", \"home_ownership\", \"grade\", \"purpose\", \"int_rate\", \"installment\",\n",
    "    \"addr_state\",\"loan_status\",\"application_type\",\"loan_amnt\",\"emp_length\", \n",
    "    \"annual_inc\",\"dti\",\"delinq_2yrs\",\"revol_bal\",\"revol_util\",\"total_acc\",\n",
    "    \"num_tl_90g_dpd_24m\",\"dti_joint\"\n",
    ")"
   ]
  },
  {
   "cell_type": "code",
   "execution_count": 12,
   "metadata": {},
   "outputs": [
    {
     "name": "stdout",
     "output_type": "stream",
     "text": [
      "+-------+----------+--------------+-------+-------+-----------------+-----------------+----------+------------------+----------------+------------------+----------+------------------+------------------+------------------+------------------+------------------+------------------+------------------+-----------------+\n",
      "|summary|      term|home_ownership|  grade|purpose|         int_rate|      installment|addr_state|       loan_status|application_type|         loan_amnt|emp_length|        annual_inc|               dti|       delinq_2yrs|         revol_bal|        revol_util|         total_acc|num_tl_90g_dpd_24m|        dti_joint|\n",
      "+-------+----------+--------------+-------+-------+-----------------+-----------------+----------+------------------+----------------+------------------+----------+------------------+------------------+------------------+------------------+------------------+------------------+------------------+-----------------+\n",
      "|  count|   2260668|       2260668|2260668|2260668|          2260668|          2260668|   2260668|           2260668|         2260668|           2260668|   2260668|           2260664|           2258957|           2260639|           2260668|           2258866|           2260639|           2190392|           120706|\n",
      "|   mean|      null|          null|   null|   null|13.09291294419326|445.8076459263479|      null|              null|            null|15046.931227849467|      null| 77992.42868706738| 18.82419643667267|0.3068791611575311|16658.458077877865|50.337696246702926|24.162552269513178|0.0829376659520305|19.25181705963253|\n",
      "| stddev|      null|          null|   null|   null|4.832114232872322|267.1737249936559|      null|              null|            null| 9190.245488233122|      null|112696.19957435192|14.183328543078048|0.8672303328968344|22948.305027790688|24.713073320891283|11.987528317343706|0.4935732136320064|7.822085979598807|\n",
      "|    min| 36 months|           ANY|      A|    car|             5.31|             4.93|        AK|       Charged Off|      Individual|               500|    1 year|               0.0|              -1.0|                 0|                 0|               0.0|                 1|                 0|              0.0|\n",
      "|    max| 60 months|          RENT|      G|wedding|            30.99|          1719.83|        WY|Late (31-120 days)|       Joint App|             40000|       n/a|             1.1E8|             999.0|                58|           2904836|             892.3|               176|                58|            69.49|\n",
      "+-------+----------+--------------+-------+-------+-----------------+-----------------+----------+------------------+----------------+------------------+----------+------------------+------------------+------------------+------------------+------------------+------------------+------------------+-----------------+\n",
      "\n"
     ]
    }
   ],
   "source": [
    "df_sel.describe().show()"
   ]
  },
  {
   "cell_type": "code",
   "execution_count": 12,
   "metadata": {},
   "outputs": [
    {
     "name": "stdout",
     "output_type": "stream",
     "text": [
      "+-------+----------+------------------+----------+------------------+------------------+-------------------+--------------------+--------------------+\n",
      "|summary|      term|         loan_amnt|emp_length|        annual_inc|               dti|        delinq_2yrs|          revol_util|           total_acc|\n",
      "+-------+----------+------------------+----------+------------------+------------------+-------------------+--------------------+--------------------+\n",
      "|  count|   2260668|           2260668|   2260668|           2260664|           2258956|            2260638|             2258834|             2260618|\n",
      "|   mean|      null|15046.931227849467|      null| 77992.44637764219|18.824907147958033|0.30721594910725347|    50.8582040171043|  24.455913212538377|\n",
      "| stddev|      null| 9190.245488232787|      null|112696.22136091437|14.183773199305026| 0.8703772261110826|   185.3057416175736|  104.00261134157218|\n",
      "|    min| 36 months|               500| reactors\"|                 0|       Karen     \"|           BEST BUY| #450216.<br/> 55...| and the work we ...|\n",
      "|    max| 60 months|             40000|       n/a|          MORTGAGE|           wedding|     small_business|              moving|      small_business|\n",
      "+-------+----------+------------------+----------+------------------+------------------+-------------------+--------------------+--------------------+\n",
      "\n"
     ]
    }
   ],
   "source": [
    "df_sel.describe(\"term\",\"loan_amnt\",\"emp_length\", \"annual_inc\",\"dti\",\"delinq_2yrs\",\"revol_util\",\"total_acc\").show()"
   ]
  },
  {
   "cell_type": "code",
   "execution_count": 13,
   "metadata": {},
   "outputs": [
    {
     "data": {
      "text/plain": [
       "DataFrame[term: string, home_ownership: string, grade: string, purpose: string, int_rate: double, installment: double, addr_state: string, loan_status: string, application_type: string, loan_amnt: int, emp_length: string, annual_inc: double, dti: double, delinq_2yrs: int, revol_bal: int, revol_util: double, total_acc: int, num_tl_90g_dpd_24m: int, dti_joint: double]"
      ]
     },
     "execution_count": 13,
     "metadata": {},
     "output_type": "execute_result"
    }
   ],
   "source": [
    "df_sel.cache()"
   ]
  },
  {
   "cell_type": "code",
   "execution_count": 14,
   "metadata": {},
   "outputs": [
    {
     "name": "stdout",
     "output_type": "stream",
     "text": [
      "+-------+------------------+----------+------------------+------------------+------------------+------------------+\n",
      "|summary|         loan_amnt|emp_length|               dti|       delinq_2yrs|        revol_util|         total_acc|\n",
      "+-------+------------------+----------+------------------+------------------+------------------+------------------+\n",
      "|  count|           2260668|   2260668|           2258957|           2260639|           2258866|           2260639|\n",
      "|   mean|15046.931227849467|      null| 18.82419643667267|0.3068791611575311|50.337696246702926|24.162552269513178|\n",
      "| stddev| 9190.245488233122|      null|14.183328543078048|0.8672303328968344|24.713073320891283|11.987528317343706|\n",
      "|    min|               500|    1 year|              -1.0|                 0|               0.0|                 1|\n",
      "|    max|             40000|       n/a|             999.0|                58|             892.3|               176|\n",
      "+-------+------------------+----------+------------------+------------------+------------------+------------------+\n",
      "\n"
     ]
    }
   ],
   "source": [
    "df_sel.describe(\"loan_amnt\",\"emp_length\" ,\"dti\",\"delinq_2yrs\",\"revol_util\",\"total_acc\").show()"
   ]
  },
  {
   "cell_type": "code",
   "execution_count": 15,
   "metadata": {},
   "outputs": [
    {
     "name": "stdout",
     "output_type": "stream",
     "text": [
      "+----------+\n",
      "|emp_length|\n",
      "+----------+\n",
      "|   9 years|\n",
      "|   5 years|\n",
      "|    1 year|\n",
      "|       n/a|\n",
      "|   2 years|\n",
      "|   7 years|\n",
      "|   8 years|\n",
      "|   4 years|\n",
      "|   6 years|\n",
      "|   3 years|\n",
      "| 10+ years|\n",
      "|  < 1 year|\n",
      "+----------+\n",
      "\n"
     ]
    }
   ],
   "source": [
    "spark.sql(\"SELECT DISTINCT(emp_length) FROM loan LIMIT 50\").show()"
   ]
  },
  {
   "cell_type": "code",
   "execution_count": 16,
   "metadata": {},
   "outputs": [
    {
     "name": "stdout",
     "output_type": "stream",
     "text": [
      "+-----------------+----------+\n",
      "|emplength_cleaned|emp_length|\n",
      "+-----------------+----------+\n",
      "|              10 | 10+ years|\n",
      "|              10 | 10+ years|\n",
      "|               6 |   6 years|\n",
      "|              10 | 10+ years|\n",
      "|              10 | 10+ years|\n",
      "|              10 | 10+ years|\n",
      "|               4 |   4 years|\n",
      "|              10 | 10+ years|\n",
      "|              10 | 10+ years|\n",
      "|               1 |  < 1 year|\n",
      "+-----------------+----------+\n",
      "only showing top 10 rows\n",
      "\n"
     ]
    }
   ],
   "source": [
    "regex_string='years|year|\\\\+|\\\\<'\n",
    "df_sel.select(regexp_replace(col(\"emp_length\"), regex_string, \"\").alias(\"emplength_cleaned\"),col(\"emp_length\")).show(10)"
   ]
  },
  {
   "cell_type": "code",
   "execution_count": 17,
   "metadata": {},
   "outputs": [
    {
     "name": "stdout",
     "output_type": "stream",
     "text": [
      "+-----------------+----------+\n",
      "|emplength_cleaned|emp_length|\n",
      "+-----------------+----------+\n",
      "|               10| 10+ years|\n",
      "|               10| 10+ years|\n",
      "|                6|   6 years|\n",
      "|               10| 10+ years|\n",
      "|               10| 10+ years|\n",
      "|               10| 10+ years|\n",
      "|                4|   4 years|\n",
      "|               10| 10+ years|\n",
      "|               10| 10+ years|\n",
      "|                1|  < 1 year|\n",
      "+-----------------+----------+\n",
      "only showing top 10 rows\n",
      "\n"
     ]
    }
   ],
   "source": [
    "regex_string=\"\\\\d+\"\n",
    "df_sel.select(regexp_extract(col(\"emp_length\"), regex_string, 0).alias(\"emplength_cleaned\"),col(\"emp_length\")).show(10)"
   ]
  },
  {
   "cell_type": "code",
   "execution_count": 18,
   "metadata": {},
   "outputs": [
    {
     "name": "stdout",
     "output_type": "stream",
     "text": [
      "+----------+--------------+-----+------------------+--------+-----------+----------+-----------+----------------+---------+----------+----------+-----+-----------+---------+----------+---------+------------------+---------+\n",
      "|      term|home_ownership|grade|           purpose|int_rate|installment|addr_state|loan_status|application_type|loan_amnt|emp_length|annual_inc|  dti|delinq_2yrs|revol_bal|revol_util|total_acc|num_tl_90g_dpd_24m|dti_joint|\n",
      "+----------+--------------+-----+------------------+--------+-----------+----------+-----------+----------------+---------+----------+----------+-----+-----------+---------+----------+---------+------------------+---------+\n",
      "| 36 months|          RENT|    C|debt_consolidation|   13.56|      84.92|        NY|    Current|      Individual|     2500| 10+ years|   55000.0|18.24|          0|     4341|      10.3|       34|                 0|     null|\n",
      "| 60 months|      MORTGAGE|    D|debt_consolidation|   18.94|     777.23|        LA|    Current|      Individual|    30000| 10+ years|   90000.0|26.52|          0|    12315|      24.2|       44|                 0|     null|\n",
      "+----------+--------------+-----+------------------+--------+-----------+----------+-----------+----------------+---------+----------+----------+-----+-----------+---------+----------+---------+------------------+---------+\n",
      "only showing top 2 rows\n",
      "\n"
     ]
    }
   ],
   "source": [
    "df_sel.show(2)"
   ]
  },
  {
   "cell_type": "code",
   "execution_count": 19,
   "metadata": {},
   "outputs": [],
   "source": [
    "df_sel=df_sel.withColumn(\"term_cleaned\",regexp_replace(col(\"term\"), \"months\", \"\")) \\\n",
    "             .withColumn(\"emplen_cleaned\",regexp_extract(col(\"emp_length\"), \"\\\\d+\", 0))"
   ]
  },
  {
   "cell_type": "code",
   "execution_count": 20,
   "metadata": {},
   "outputs": [
    {
     "name": "stdout",
     "output_type": "stream",
     "text": [
      "+----------+------------+----------+--------------+\n",
      "|      term|term_cleaned|emp_length|emplen_cleaned|\n",
      "+----------+------------+----------+--------------+\n",
      "| 36 months|         36 | 10+ years|            10|\n",
      "| 60 months|         60 | 10+ years|            10|\n",
      "| 36 months|         36 |   6 years|             6|\n",
      "| 36 months|         36 | 10+ years|            10|\n",
      "| 60 months|         60 | 10+ years|            10|\n",
      "| 36 months|         36 | 10+ years|            10|\n",
      "| 36 months|         36 |   4 years|             4|\n",
      "| 36 months|         36 | 10+ years|            10|\n",
      "| 36 months|         36 | 10+ years|            10|\n",
      "| 36 months|         36 |  < 1 year|             1|\n",
      "| 36 months|         36 |  < 1 year|             1|\n",
      "| 60 months|         60 |   2 years|             2|\n",
      "| 36 months|         36 | 10+ years|            10|\n",
      "| 36 months|         36 |   4 years|             4|\n",
      "| 60 months|         60 | 10+ years|            10|\n",
      "+----------+------------+----------+--------------+\n",
      "only showing top 15 rows\n",
      "\n"
     ]
    }
   ],
   "source": [
    "df_sel.select('term','term_cleaned','emp_length','emplen_cleaned').show(15)"
   ]
  },
  {
   "cell_type": "code",
   "execution_count": 21,
   "metadata": {},
   "outputs": [
    {
     "name": "stdout",
     "output_type": "stream",
     "text": [
      "root\n",
      " |-- term: string (nullable = true)\n",
      " |-- home_ownership: string (nullable = true)\n",
      " |-- grade: string (nullable = true)\n",
      " |-- purpose: string (nullable = true)\n",
      " |-- int_rate: double (nullable = true)\n",
      " |-- installment: double (nullable = true)\n",
      " |-- addr_state: string (nullable = true)\n",
      " |-- loan_status: string (nullable = true)\n",
      " |-- application_type: string (nullable = true)\n",
      " |-- loan_amnt: integer (nullable = true)\n",
      " |-- emp_length: string (nullable = true)\n",
      " |-- annual_inc: double (nullable = true)\n",
      " |-- dti: double (nullable = true)\n",
      " |-- delinq_2yrs: integer (nullable = true)\n",
      " |-- revol_bal: integer (nullable = true)\n",
      " |-- revol_util: double (nullable = true)\n",
      " |-- total_acc: integer (nullable = true)\n",
      " |-- num_tl_90g_dpd_24m: integer (nullable = true)\n",
      " |-- dti_joint: double (nullable = true)\n",
      " |-- term_cleaned: string (nullable = true)\n",
      " |-- emplen_cleaned: string (nullable = true)\n",
      "\n"
     ]
    }
   ],
   "source": [
    "df_sel.printSchema()"
   ]
  },
  {
   "cell_type": "code",
   "execution_count": 22,
   "metadata": {},
   "outputs": [],
   "source": [
    "table_name=\"loan_sel\"\n",
    "df_sel.createOrReplaceTempView(table_name)"
   ]
  },
  {
   "cell_type": "code",
   "execution_count": 23,
   "metadata": {},
   "outputs": [
    {
     "name": "stdout",
     "output_type": "stream",
     "text": [
      "+----------+--------------+-----+------------------+--------+-----------+----------+-----------+----------------+---------+----------+----------+-----+-----------+---------+----------+---------+------------------+---------+------------+--------------+\n",
      "|      term|home_ownership|grade|           purpose|int_rate|installment|addr_state|loan_status|application_type|loan_amnt|emp_length|annual_inc|  dti|delinq_2yrs|revol_bal|revol_util|total_acc|num_tl_90g_dpd_24m|dti_joint|term_cleaned|emplen_cleaned|\n",
      "+----------+--------------+-----+------------------+--------+-----------+----------+-----------+----------------+---------+----------+----------+-----+-----------+---------+----------+---------+------------------+---------+------------+--------------+\n",
      "| 36 months|          RENT|    C|debt_consolidation|   13.56|      84.92|        NY|    Current|      Individual|     2500| 10+ years|   55000.0|18.24|          0|     4341|      10.3|       34|                 0|     null|         36 |            10|\n",
      "| 60 months|      MORTGAGE|    D|debt_consolidation|   18.94|     777.23|        LA|    Current|      Individual|    30000| 10+ years|   90000.0|26.52|          0|    12315|      24.2|       44|                 0|     null|         60 |            10|\n",
      "| 36 months|      MORTGAGE|    D|debt_consolidation|   17.97|     180.69|        MI|    Current|      Individual|     5000|   6 years|   59280.0|10.51|          0|     4599|      19.1|       13|                 0|     null|         36 |             6|\n",
      "| 36 months|      MORTGAGE|    D|debt_consolidation|   18.94|     146.51|        WA|    Current|      Individual|     4000| 10+ years|   92000.0|16.74|          0|     5468|      78.1|       13|                 0|     null|         36 |            10|\n",
      "| 60 months|      MORTGAGE|    C|debt_consolidation|   16.14|     731.78|        MD|    Current|      Individual|    30000| 10+ years|   57250.0|26.35|          0|      829|       3.6|       26|                 0|     null|         60 |            10|\n",
      "| 36 months|      MORTGAGE|    C|       credit_card|   15.02|     192.45|        IN|    Current|      Individual|     5550| 10+ years|  152500.0|37.94|          0|    53854|      48.1|       44|                 0|     null|         36 |            10|\n",
      "| 36 months|          RENT|    D|debt_consolidation|   17.97|      72.28|        IL|    Current|      Individual|     2000|   4 years|   51000.0|  2.4|          0|        0|      null|        9|                 0|     null|         36 |             4|\n",
      "| 36 months|          RENT|    C|       credit_card|   13.56|     203.79|        IN|    Current|      Individual|     6000| 10+ years|   65000.0| 30.1|          0|    38476|      69.3|       37|                 0|     null|         36 |            10|\n",
      "| 36 months|      MORTGAGE|    D|debt_consolidation|   17.97|     180.69|        FL|    Current|      Individual|     5000| 10+ years|   53580.0|21.16|          0|     8018|      35.2|       38|                 0|     null|         36 |            10|\n",
      "| 36 months|           OWN|    C|debt_consolidation|   14.47|     206.44|        CT|    Current|      Individual|     6000|  < 1 year|  300000.0|17.43|          1|    65950|      49.8|       58|                 0|     null|         36 |             1|\n",
      "| 36 months|      MORTGAGE|    D|       credit_card|   22.35|     211.05|        LA|    Current|      Individual|     5500|  < 1 year|   50000.0|15.94|          1|     4529|      94.4|       13|                 1|     null|         36 |             1|\n",
      "| 60 months|      MORTGAGE|    B|       credit_card|   11.31|     613.13|        GA|    Current|      Individual|    28000|   2 years|   70000.0|22.01|          0|    56152|      55.9|       23|                 0|     null|         60 |             2|\n",
      "| 36 months|      MORTGAGE|    A|       credit_card|    8.19|     351.95|        UT|    Current|      Individual|    11200| 10+ years|   65000.0| 23.6|          0|     8836|      16.6|       27|                 0|     null|         36 |            10|\n",
      "| 36 months|      MORTGAGE|    D|debt_consolidation|   17.97|      234.9|        NC|    Current|      Individual|     6500|   4 years|  154000.0|28.78|          2|    23754|      60.4|       41|                 1|     null|         36 |             4|\n",
      "| 60 months|      MORTGAGE|    B|debt_consolidation|   12.98|     500.35|        KY|    Current|      Individual|    22000| 10+ years|   65000.0|11.19|          0|      134|       0.5|       16|                 0|     null|         60 |            10|\n",
      "| 36 months|      MORTGAGE|    C|debt_consolidation|   16.14|      123.3|        IL|    Current|       Joint App|     3500| 10+ years|   80000.0|13.63|          0|     8952|      58.5|       27|                 0|    10.77|         36 |            10|\n",
      "| 36 months|      MORTGAGE|    B|             house|   12.98|      235.8|        OH|    Current|      Individual|     7000|   4 years|  102500.0| 15.2|          0|     1057|       7.2|       21|                 0|     null|         36 |             4|\n",
      "| 60 months|      MORTGAGE|    C|debt_consolidation|   16.91|     620.11|        OH|    Current|       Joint App|    25000| 10+ years|   23878.0| 6.26|          0|     3044|      54.4|        8|                 0|    18.91|         60 |            10|\n",
      "| 60 months|      MORTGAGE|    D|       credit_card|   20.89|     431.87|        AR|    Current|      Individual|    16000|   4 years|  120000.0|27.57|          1|    18826|      82.2|       37|                 0|     null|         60 |             4|\n",
      "| 60 months|      MORTGAGE|    C|debt_consolidation|   14.47|     305.67|        OK|    Current|      Individual|    13000| 10+ years|   75000.0|26.16|          0|    15551|      58.2|       13|                 0|     null|         60 |            10|\n",
      "+----------+--------------+-----+------------------+--------+-----------+----------+-----------+----------------+---------+----------+----------+-----+-----------+---------+----------+---------+------------------+---------+------------+--------------+\n",
      "only showing top 20 rows\n",
      "\n"
     ]
    }
   ],
   "source": [
    "spark.sql(\"SELECT * FROM loan_sel\").show()"
   ]
  },
  {
   "cell_type": "code",
   "execution_count": 24,
   "metadata": {},
   "outputs": [],
   "source": [
    "df_sel = df_sel.withColumn(\"annual_inc\",df_sel[\"annual_inc\"].cast(\"double\")) # no need for this now"
   ]
  },
  {
   "cell_type": "code",
   "execution_count": 25,
   "metadata": {},
   "outputs": [],
   "source": [
    "#df_sel.stat.cov('annual_inc', 'loan_amnt')"
   ]
  },
  {
   "cell_type": "code",
   "execution_count": 26,
   "metadata": {},
   "outputs": [],
   "source": [
    "#result = df.describe()\n",
    "#result.select(result['summary'],\n",
    "#              format_number(result['Open'].cast('float'),2).alias('Open'),\n",
    "#              format_number(result['High'].cast('float'),2).alias('High'),\n",
    "#              format_number(result['Low'].cast('float'),2).alias('Low'),\n",
    "#              format_number(result['Close'].cast('float'),2).alias('Close'),\n",
    "#              result['Volume'].cast('int').alias('Volume')\n",
    "#             ).show()"
   ]
  },
  {
   "cell_type": "code",
   "execution_count": 27,
   "metadata": {},
   "outputs": [],
   "source": [
    "#df_sel.stat.corr('annual_inc', 'loan_amnt')"
   ]
  },
  {
   "cell_type": "code",
   "execution_count": 28,
   "metadata": {},
   "outputs": [
    {
     "name": "stdout",
     "output_type": "stream",
     "text": [
      "+-------------------+\n",
      "|               corr|\n",
      "+-------------------+\n",
      "|0.19724584986927352|\n",
      "+-------------------+\n",
      "\n"
     ]
    }
   ],
   "source": [
    "spark.sql(\"SELECT CORR(annual_inc, loan_amnt) AS corr FROM loan_sel\").show()"
   ]
  },
  {
   "cell_type": "code",
   "execution_count": 29,
   "metadata": {},
   "outputs": [
    {
     "name": "stdout",
     "output_type": "stream",
     "text": [
      "+--------------------+------+------+------+------+-----+-----+----+\n",
      "|   loan_status_grade|     A|     B|     C|     D|    E|    F|   G|\n",
      "+--------------------+------+------+------+------+-----+-----+----+\n",
      "|     In Grace Period|   668|  2008|  3194|  1965|  794|  230|  93|\n",
      "|          Fully Paid|212477|329075|286666|135839|56206|17220|4469|\n",
      "|Does not meet the...|     8|    85|   148|   197|  158|   93|  72|\n",
      "|             Default|     2|     6|     9|     8|    4|    2|   0|\n",
      "|  Late (31-120 days)|  1314|  4758|  7640|  4985| 2226|  718| 256|\n",
      "|   Late (16-30 days)|   267|   824|  1327|   829|  335|  114|  41|\n",
      "|             Current|204435|275455|267326|120666|40174| 9006|2633|\n",
      "|Does not meet the...|    90|   269|   481|   494|  378|  154| 122|\n",
      "|         Charged Off| 13766| 51077| 83262| 59441|35364|14263|4482|\n",
      "+--------------------+------+------+------+------+-----+-----+----+\n",
      "\n"
     ]
    }
   ],
   "source": [
    "df_sel.stat.crosstab('loan_status','grade').show()"
   ]
  },
  {
   "cell_type": "code",
   "execution_count": 42,
   "metadata": {},
   "outputs": [],
   "source": [
    "# Maybe add a plot here using matplotlib by dunping this df_sel into new df."
   ]
  },
  {
   "cell_type": "code",
   "execution_count": 30,
   "metadata": {},
   "outputs": [],
   "source": [
    "freq=df_sel.stat.freqItems(['purpose','grade'],0.3)"
   ]
  },
  {
   "cell_type": "code",
   "execution_count": 31,
   "metadata": {},
   "outputs": [
    {
     "data": {
      "text/plain": [
       "[Row(purpose_freqItems=['debt_consolidation', 'credit_card'], grade_freqItems=['A', 'C', 'B'])]"
      ]
     },
     "execution_count": 31,
     "metadata": {},
     "output_type": "execute_result"
    }
   ],
   "source": [
    "freq.collect()"
   ]
  },
  {
   "cell_type": "code",
   "execution_count": 32,
   "metadata": {},
   "outputs": [
    {
     "name": "stdout",
     "output_type": "stream",
     "text": [
      "+------------------+\n",
      "|purpose           |\n",
      "+------------------+\n",
      "|wedding           |\n",
      "|educational       |\n",
      "|other             |\n",
      "|small_business    |\n",
      "|debt_consolidation|\n",
      "|credit_card       |\n",
      "|moving            |\n",
      "|vacation          |\n",
      "|renewable_energy  |\n",
      "|house             |\n",
      "|car               |\n",
      "|major_purchase    |\n",
      "|medical           |\n",
      "|home_improvement  |\n",
      "+------------------+\n",
      "\n"
     ]
    }
   ],
   "source": [
    "spark.sql(\"SELECT DISTINCT(purpose) FROM loan_sel\").show(50,truncate=False) # Some issue with DISTINCT Column, looks like csv isnot read properly "
   ]
  },
  {
   "cell_type": "code",
   "execution_count": 35,
   "metadata": {},
   "outputs": [
    {
     "name": "stdout",
     "output_type": "stream",
     "text": [
      "+------------------+-------+\n",
      "|           purpose|  count|\n",
      "+------------------+-------+\n",
      "|           wedding|   2355|\n",
      "|       educational|    424|\n",
      "|             other| 139440|\n",
      "|    small_business|  24689|\n",
      "|debt_consolidation|1277877|\n",
      "|       credit_card| 516971|\n",
      "|            moving|  15403|\n",
      "|          vacation|  15525|\n",
      "|  renewable_energy|   1445|\n",
      "|             house|  14136|\n",
      "|               car|  24013|\n",
      "|    major_purchase|  50445|\n",
      "|           medical|  27488|\n",
      "|  home_improvement| 150457|\n",
      "+------------------+-------+\n",
      "\n"
     ]
    }
   ],
   "source": [
    "spark.sql(\"SELECT purpose, COUNT(*) AS count FROM loan_sel GROUP BY purpose\").show()"
   ]
  },
  {
   "cell_type": "code",
   "execution_count": 36,
   "metadata": {},
   "outputs": [
    {
     "name": "stdout",
     "output_type": "stream",
     "text": [
      "+------------------+-------+\n",
      "|           purpose|  count|\n",
      "+------------------+-------+\n",
      "|debt_consolidation|1277877|\n",
      "|       credit_card| 516971|\n",
      "|  home_improvement| 150457|\n",
      "|             other| 139440|\n",
      "|    major_purchase|  50445|\n",
      "|           medical|  27488|\n",
      "|    small_business|  24689|\n",
      "|               car|  24013|\n",
      "|          vacation|  15525|\n",
      "|            moving|  15403|\n",
      "|             house|  14136|\n",
      "|           wedding|   2355|\n",
      "|  renewable_energy|   1445|\n",
      "|       educational|    424|\n",
      "+------------------+-------+\n",
      "\n"
     ]
    }
   ],
   "source": [
    "spark.sql(\"SELECT purpose, COUNT(*) AS count FROM loan_sel GROUP BY purpose ORDER BY count DESC\").show()\n",
    "\n",
    "# INfer meaning our of this output"
   ]
  },
  {
   "cell_type": "code",
   "execution_count": 38,
   "metadata": {},
   "outputs": [
    {
     "data": {
      "text/plain": [
       "[8000.0, 15000.0, 20000.0, 27000.0]"
      ]
     },
     "execution_count": 38,
     "metadata": {},
     "output_type": "execute_result"
    }
   ],
   "source": [
    "quantileProbs = [0.25, 0.5, 0.75, 0.9]\n",
    "relError = 0.05\n",
    "df_sel.stat.approxQuantile(\"loan_amnt\", quantileProbs, relError)"
   ]
  },
  {
   "cell_type": "code",
   "execution_count": 39,
   "metadata": {},
   "outputs": [
    {
     "data": {
      "text/plain": [
       "[8000.0, 12900.0, 20000.0, 30000.0]"
      ]
     },
     "execution_count": 39,
     "metadata": {},
     "output_type": "execute_result"
    }
   ],
   "source": [
    "quantileProbs = [0.25, 0.5, 0.75, 0.9]\n",
    "relError = 0.0\n",
    "df_sel.stat.approxQuantile(\"loan_amnt\", quantileProbs, relError)"
   ]
  },
  {
   "cell_type": "code",
   "execution_count": 42,
   "metadata": {},
   "outputs": [
    {
     "name": "stdout",
     "output_type": "stream",
     "text": [
      "+----+--------------+-----+-------+--------+-----------+----------+-----------+----------------+---------+----------+----------+----+-----------+---------+----------+---------+------------------+---------+------------+--------------+\n",
      "|term|home_ownership|grade|purpose|int_rate|installment|addr_state|loan_status|application_type|loan_amnt|emp_length|annual_inc| dti|delinq_2yrs|revol_bal|revol_util|total_acc|num_tl_90g_dpd_24m|dti_joint|term_cleaned|emplen_cleaned|\n",
      "+----+--------------+-----+-------+--------+-----------+----------+-----------+----------------+---------+----------+----------+----+-----------+---------+----------+---------+------------------+---------+------------+--------------+\n",
      "|   0|             0|    0|      0|       0|          0|         0|          0|               0|        0|         0|         4|1711|         29|        0|      1802|       29|             70276|  2139962|           0|             0|\n",
      "+----+--------------+-----+-------+--------+-----------+----------+-----------+----------------+---------+----------+----------+----+-----------+---------+----------+---------+------------------+---------+------------+--------------+\n",
      "\n"
     ]
    }
   ],
   "source": [
    "df_sel.select([count(when(isnan(c) | col(c).isNull(), c)).alias(c) for c in df_sel.columns]).show()"
   ]
  },
  {
   "cell_type": "code",
   "execution_count": 45,
   "metadata": {},
   "outputs": [
    {
     "name": "stdout",
     "output_type": "stream",
     "text": [
      "+---------------------------------------------------+--------+\n",
      "|loan_status                                        |count(1)|\n",
      "+---------------------------------------------------+--------+\n",
      "|Fully Paid                                         |1041952 |\n",
      "|Current                                            |919695  |\n",
      "|Charged Off                                        |261655  |\n",
      "|Late (31-120 days)                                 |21897   |\n",
      "|In Grace Period                                    |8952    |\n",
      "|Late (16-30 days)                                  |3737    |\n",
      "|Does not meet the credit policy. Status:Fully Paid |1988    |\n",
      "|Does not meet the credit policy. Status:Charged Off|761     |\n",
      "|Default                                            |31      |\n",
      "+---------------------------------------------------+--------+\n",
      "\n"
     ]
    }
   ],
   "source": [
    "spark.sql(\"SELECT loan_status, COUNT(*) FROM loan GROUP BY loan_status ORDER BY 2 DESC\").show(truncate=False)"
   ]
  },
  {
   "cell_type": "code",
   "execution_count": 46,
   "metadata": {},
   "outputs": [],
   "source": [
    "df_sel=df_sel.na.drop(\"all\", subset=[\"loan_status\"])"
   ]
  },
  {
   "cell_type": "code",
   "execution_count": 47,
   "metadata": {},
   "outputs": [
    {
     "name": "stdout",
     "output_type": "stream",
     "text": [
      "+----+--------------+-----+-------+--------+-----------+----------+-----------+----------------+---------+----------+----------+----+-----------+---------+----------+---------+------------------+---------+------------+--------------+\n",
      "|term|home_ownership|grade|purpose|int_rate|installment|addr_state|loan_status|application_type|loan_amnt|emp_length|annual_inc| dti|delinq_2yrs|revol_bal|revol_util|total_acc|num_tl_90g_dpd_24m|dti_joint|term_cleaned|emplen_cleaned|\n",
      "+----+--------------+-----+-------+--------+-----------+----------+-----------+----------------+---------+----------+----------+----+-----------+---------+----------+---------+------------------+---------+------------+--------------+\n",
      "|   0|             0|    0|      0|       0|          0|         0|          0|               0|        0|         0|         4|1711|         29|        0|      1802|       29|             70276|  2139962|           0|             0|\n",
      "+----+--------------+-----+-------+--------+-----------+----------+-----------+----------------+---------+----------+----------+----+-----------+---------+----------+---------+------------------+---------+------------+--------------+\n",
      "\n"
     ]
    }
   ],
   "source": [
    "df_sel.select([count(when(isnan(c) | col(c).isNull(), c)).alias(c) for c in df_sel.columns]).show()"
   ]
  },
  {
   "cell_type": "code",
   "execution_count": 48,
   "metadata": {},
   "outputs": [
    {
     "name": "stdout",
     "output_type": "stream",
     "text": [
      "+-------+------------------+------------------+\n",
      "|summary|               dti|        revol_util|\n",
      "+-------+------------------+------------------+\n",
      "|  count|           2258957|           2258866|\n",
      "|   mean| 18.82419643667267|50.337696246702926|\n",
      "| stddev|14.183328543078048|24.713073320891283|\n",
      "|    min|              -1.0|               0.0|\n",
      "|    max|             999.0|             892.3|\n",
      "+-------+------------------+------------------+\n",
      "\n"
     ]
    }
   ],
   "source": [
    "df_sel.describe(\"dti\",\"revol_util\").show()"
   ]
  },
  {
   "cell_type": "code",
   "execution_count": 55,
   "metadata": {},
   "outputs": [
    {
     "ename": "SyntaxError",
     "evalue": "unexpected character after line continuation character (<ipython-input-55-7d01aadf81ae>, line 1)",
     "output_type": "error",
     "traceback": [
      "\u001b[0;36m  File \u001b[0;32m\"<ipython-input-55-7d01aadf81ae>\"\u001b[0;36m, line \u001b[0;32m1\u001b[0m\n\u001b[0;31m    spark.sql(\"select ceil(REGEXP_REPLACE(revol_util,\"\\%\",\"\")), count(*) from loanstatus_sel group by ceil(REGEXP_REPLACE(revol_util,\"\\%\",\"\"))\")\u001b[0m\n\u001b[0m                                                                                                                                                ^\u001b[0m\n\u001b[0;31mSyntaxError\u001b[0m\u001b[0;31m:\u001b[0m unexpected character after line continuation character\n"
     ]
    }
   ],
   "source": [
    "spark.sql(\"select ceil(REGEXP_REPLACE(revol_util,\"\\%\",\"\")), count(*) from loanstatus_sel group by ceil(REGEXP_REPLACE(revol_util,\"\\%\",\"\"))\")"
   ]
  },
  {
   "cell_type": "code",
   "execution_count": 59,
   "metadata": {},
   "outputs": [
    {
     "name": "stdout",
     "output_type": "stream",
     "text": [
      "+----------+--------------+-----+------------------+--------+-----------+----------+-----------+----------------+---------+----------+----------+-----+-----------+---------+----------+---------+------------------+---------+------------+--------------+\n",
      "|      term|home_ownership|grade|           purpose|int_rate|installment|addr_state|loan_status|application_type|loan_amnt|emp_length|annual_inc|  dti|delinq_2yrs|revol_bal|revol_util|total_acc|num_tl_90g_dpd_24m|dti_joint|term_cleaned|emplen_cleaned|\n",
      "+----------+--------------+-----+------------------+--------+-----------+----------+-----------+----------------+---------+----------+----------+-----+-----------+---------+----------+---------+------------------+---------+------------+--------------+\n",
      "| 36 months|          RENT|    D|debt_consolidation|   17.97|      72.28|        IL|    Current|      Individual|     2000|   4 years|   51000.0|  2.4|          0|        0|      null|        9|                 0|     null|         36 |             4|\n",
      "| 36 months|          RENT|    C|           medical|   13.56|     118.88|        CA|    Current|      Individual|     3500| 10+ years|   32000.0|39.65|          0|        0|      null|       28|                 0|     null|         36 |            10|\n",
      "| 36 months|      MORTGAGE|    B|  home_improvement|   10.72|     163.04|        NC|    Current|       Joint App|     5000|   6 years|   30000.0| 5.08|          0|        0|      null|       11|                 0|     9.17|         36 |             6|\n",
      "| 60 months|          RENT|    C|debt_consolidation|   13.56|     345.62|        NY|    Current|      Individual|    15000|  < 1 year|  130000.0| 4.77|          5|        0|      null|       15|                 1|     null|         60 |             1|\n",
      "| 36 months|      MORTGAGE|    A|  home_improvement|    7.56|     622.68|        CA|    Current|      Individual|    20000|  < 1 year|  175000.0|26.41|          0|    17851|      null|       14|                 0|     null|         36 |             1|\n",
      "| 36 months|          RENT|    B|    small_business|    11.8|      99.36|        NY|    Current|      Individual|     3000|  < 1 year|   40000.0|20.13|          0|        0|      null|       13|                 0|     null|         36 |             1|\n",
      "| 36 months|      MORTGAGE|    B|debt_consolidation|   10.33|     324.23|        OR|    Current|      Individual|    10000|  < 1 year|   39000.0|18.65|          0|        0|      null|       13|                 0|     null|         36 |             1|\n",
      "| 60 months|          RENT|    B|debt_consolidation|   12.98|     682.29|        VA|    Current|      Individual|    30000|    1 year|  175000.0|11.36|          0|        0|      null|       22|                 0|     null|         60 |             1|\n",
      "| 36 months|           OWN|    E|             other|   24.37|      39.43|        LA|    Current|      Individual|     1000|   5 years|   60000.0|  5.5|          0|        0|      null|       53|                 0|     null|         36 |             5|\n",
      "| 36 months|           OWN|    C|             other|   16.14|      528.4|        WI|    Current|       Joint App|    15000|       n/a|   20000.0|31.27|          1|        0|      null|        6|                 0|    21.97|         36 |              |\n",
      "| 36 months|           OWN|    D|             other|   18.94|     146.51|        TX|    Current|      Individual|     4000|   6 years|   34000.0| 0.88|          0|        0|      null|        3|                 0|     null|         36 |             6|\n",
      "| 36 months|          RENT|    E|            moving|   27.27|      40.98|        TX|    Current|      Individual|     1000|  < 1 year|   48580.0|26.26|          0|        0|      null|       13|                 0|     null|         36 |             1|\n",
      "| 36 months|      MORTGAGE|    D|    major_purchase|   20.89|      52.67|        NC|    Current|      Individual|     1400| 10+ years|   74000.0|27.94|          1|        0|      null|       32|                 1|     null|         36 |            10|\n",
      "| 36 months|      MORTGAGE|    B|debt_consolidation|   10.33|     129.69|        MN|    Current|      Individual|     4000|   4 years|  133000.0|12.49|          0|    72866|      null|       28|                 0|     null|         36 |             4|\n",
      "| 36 months|      MORTGAGE|    E|debt_consolidation|    23.4|      77.84|        LA|    Current|      Individual|     2000| 10+ years|   55000.0|36.25|          0|        0|      null|       14|                 0|     null|         36 |            10|\n",
      "| 60 months|          RENT|    B|debt_consolidation|   12.98|     909.72|        GA|    Current|      Individual|    40000|    1 year|  156000.0| 8.63|          0|     8831|      null|       13|                 0|     null|         60 |             1|\n",
      "| 36 months|           OWN|    B|debt_consolidation|   10.72|     228.25|        NC|    Current|      Individual|     7000|       n/a|   28100.0|18.75|          0|    36468|      null|        8|                 0|     null|         36 |              |\n",
      "| 60 months|      MORTGAGE|    C|    small_business|   16.91|     992.17|        NM|    Current|       Joint App|    40000|   8 years|   44000.0| 5.51|          1|        0|      null|       15|                 0|     7.94|         60 |             8|\n",
      "| 36 months|           OWN|    D|  home_improvement|   17.97|     144.55|        FL|    Current|      Individual|     4000|       n/a|   85000.0| 1.14|          0|        0|      null|       12|                 0|     null|         36 |              |\n",
      "| 36 months|      MORTGAGE|    C|    small_business|   16.14|     176.14|        OR|    Current|      Individual|     5000|  < 1 year|   78000.0| 8.51|          1|    47787|      null|        9|                 0|     null|         36 |             1|\n",
      "+----------+--------------+-----+------------------+--------+-----------+----------+-----------+----------------+---------+----------+----------+-----+-----------+---------+----------+---------+------------------+---------+------------+--------------+\n",
      "only showing top 20 rows\n",
      "\n"
     ]
    }
   ],
   "source": [
    "spark.sql(\"select * from loan_sel where revol_util is null\").show()"
   ]
  },
  {
   "cell_type": "code",
   "execution_count": 60,
   "metadata": {},
   "outputs": [],
   "source": [
    "df_sel=df_sel.withColumn(\"revolutil_cleaned\",regexp_extract(col(\"revol_util\"), \"\\\\d+\", 0))"
   ]
  },
  {
   "cell_type": "code",
   "execution_count": 61,
   "metadata": {},
   "outputs": [
    {
     "name": "stdout",
     "output_type": "stream",
     "text": [
      "+-------+------------------+------------------+\n",
      "|summary|        revol_util| revolutil_cleaned|\n",
      "+-------+------------------+------------------+\n",
      "|  count|           2258866|           2258866|\n",
      "|   mean|50.337696246702926| 49.90740132438135|\n",
      "| stddev|24.713073320891283|24.715936882582977|\n",
      "|    min|               0.0|                 0|\n",
      "|    max|             892.3|                99|\n",
      "+-------+------------------+------------------+\n",
      "\n"
     ]
    }
   ],
   "source": [
    "df_sel.describe('revol_util','revolutil_cleaned').show()"
   ]
  },
  {
   "cell_type": "code",
   "execution_count": 62,
   "metadata": {},
   "outputs": [],
   "source": [
    "def fill_avg(df, colname): \n",
    "    return df.select(colname).agg(avg(colname))"
   ]
  },
  {
   "cell_type": "code",
   "execution_count": 63,
   "metadata": {},
   "outputs": [],
   "source": [
    "rev_avg=fill_avg(df_sel,'revolutil_cleaned')"
   ]
  },
  {
   "cell_type": "code",
   "execution_count": 65,
   "metadata": {},
   "outputs": [],
   "source": [
    "rev_avg=fill_avg(df_sel,'revolutil_cleaned').first()[0]\n",
    "df_sel=df_sel.withColumn('rev_avg',lit(rev_avg))"
   ]
  },
  {
   "cell_type": "code",
   "execution_count": 66,
   "metadata": {},
   "outputs": [],
   "source": [
    "df_sel=df_sel.withColumn('revolutil_cleaned',coalesce(col('revolutil_cleaned'),col('rev_avg')))"
   ]
  },
  {
   "cell_type": "code",
   "execution_count": 67,
   "metadata": {},
   "outputs": [
    {
     "name": "stdout",
     "output_type": "stream",
     "text": [
      "+-------+------------------+------------------+\n",
      "|summary|        revol_util| revolutil_cleaned|\n",
      "+-------+------------------+------------------+\n",
      "|  count|           2258866|           2260668|\n",
      "|   mean|50.337696246702926| 49.90740132438078|\n",
      "| stddev|24.713073320891283|24.706084260053252|\n",
      "|    min|               0.0|                 0|\n",
      "|    max|             892.3|                99|\n",
      "+-------+------------------+------------------+\n",
      "\n"
     ]
    }
   ],
   "source": [
    "df_sel.describe('revol_util','revolutil_cleaned').show()"
   ]
  },
  {
   "cell_type": "code",
   "execution_count": 68,
   "metadata": {},
   "outputs": [
    {
     "data": {
      "text/plain": [
       "2260668"
      ]
     },
     "execution_count": 68,
     "metadata": {},
     "output_type": "execute_result"
    }
   ],
   "source": [
    "df_sel.count()"
   ]
  },
  {
   "cell_type": "code",
   "execution_count": 69,
   "metadata": {},
   "outputs": [],
   "source": [
    "df_sel=df_sel.withColumn(\"revolutil_cleaned\",df_sel[\"revolutil_cleaned\"].cast(\"double\"))"
   ]
  },
  {
   "cell_type": "code",
   "execution_count": 70,
   "metadata": {},
   "outputs": [
    {
     "name": "stdout",
     "output_type": "stream",
     "text": [
      "+-------+------------------+------------------+\n",
      "|summary|        revol_util| revolutil_cleaned|\n",
      "+-------+------------------+------------------+\n",
      "|  count|           2258866|           2260668|\n",
      "|   mean|50.337696246702926| 49.90740132438078|\n",
      "| stddev|24.713073320891283|24.706084260053252|\n",
      "|    min|               0.0|               0.0|\n",
      "|    max|             892.3|             892.0|\n",
      "+-------+------------------+------------------+\n",
      "\n"
     ]
    }
   ],
   "source": [
    "df_sel.describe('revol_util','revolutil_cleaned').show()"
   ]
  },
  {
   "cell_type": "code",
   "execution_count": 71,
   "metadata": {},
   "outputs": [
    {
     "name": "stdout",
     "output_type": "stream",
     "text": [
      "+----+--------------+-----+-------+--------+-----------+----------+-----------+----------------+---------+----------+----------+----+-----------+---------+----------+---------+------------------+---------+------------+--------------+-----------------+-------+\n",
      "|term|home_ownership|grade|purpose|int_rate|installment|addr_state|loan_status|application_type|loan_amnt|emp_length|annual_inc| dti|delinq_2yrs|revol_bal|revol_util|total_acc|num_tl_90g_dpd_24m|dti_joint|term_cleaned|emplen_cleaned|revolutil_cleaned|rev_avg|\n",
      "+----+--------------+-----+-------+--------+-----------+----------+-----------+----------------+---------+----------+----------+----+-----------+---------+----------+---------+------------------+---------+------------+--------------+-----------------+-------+\n",
      "|   0|             0|    0|      0|       0|          0|         0|          0|               0|        0|         0|         4|1711|         29|        0|      1802|       29|             70276|  2139962|           0|             0|                0|      0|\n",
      "+----+--------------+-----+-------+--------+-----------+----------+-----------+----------------+---------+----------+----------+----+-----------+---------+----------+---------+------------------+---------+------------+--------------+-----------------+-------+\n",
      "\n"
     ]
    }
   ],
   "source": [
    "df_sel.select([count(when(isnan(c) | col(c).isNull(), c)).alias(c) for c in df_sel.columns]).show()"
   ]
  },
  {
   "cell_type": "code",
   "execution_count": 73,
   "metadata": {},
   "outputs": [
    {
     "name": "stdout",
     "output_type": "stream",
     "text": [
      "+----------+--------------+-----+------------------+--------+-----------+----------+-----------+----------------+---------+----------+----------+----+-----------+---------+----------+---------+------------------+---------+------------+--------------+\n",
      "|      term|home_ownership|grade|           purpose|int_rate|installment|addr_state|loan_status|application_type|loan_amnt|emp_length|annual_inc| dti|delinq_2yrs|revol_bal|revol_util|total_acc|num_tl_90g_dpd_24m|dti_joint|term_cleaned|emplen_cleaned|\n",
      "+----------+--------------+-----+------------------+--------+-----------+----------+-----------+----------------+---------+----------+----------+----+-----------+---------+----------+---------+------------------+---------+------------+--------------+\n",
      "| 60 months|      MORTGAGE|    B|    major_purchase|   10.72|     280.84|        AZ|    Current|       Joint App|    13000|       n/a|       0.0|null|          0|    32720|      26.0|       47|                 0|    33.06|         60 |              |\n",
      "| 60 months|          RENT|    C|debt_consolidation|   16.91|     446.48|        CA|    Current|       Joint App|    18000|       n/a|       0.0|null|          0|     8546|      35.2|       12|                 0|    17.67|         60 |              |\n",
      "| 60 months|      MORTGAGE|    C|debt_consolidation|   16.91|     868.15|        NY|    Current|       Joint App|    35000|       n/a|       0.0|null|          0|    27917|      90.1|       39|                 0|     27.3|         60 |              |\n",
      "| 36 months|          RENT|    C|             other|   13.56|     186.81|        CA|    Current|       Joint App|     5500|       n/a|       0.0|null|          0|     1391|      13.0|       17|                 0|     8.74|         36 |              |\n",
      "| 36 months|      MORTGAGE|    B|debt_consolidation|   10.33|     152.39|        TX|    Current|       Joint App|     4700|       n/a|       0.0|null|          0|      158|       4.4|       15|                 0|    11.68|         36 |              |\n",
      "| 36 months|          RENT|    A|debt_consolidation|    7.56|     336.25|        UT|    Current|       Joint App|    10800|       n/a|       0.0|null|          0|    35799|      77.8|       20|                 0|    28.01|         36 |              |\n",
      "| 36 months|      MORTGAGE|    B|debt_consolidation|   10.72|     195.64|        CA|    Current|       Joint App|     6000| 10+ years|       0.0|null|          1|     6939|      39.0|       22|                 0|    15.06|         36 |            10|\n",
      "| 36 months|      MORTGAGE|    C|debt_consolidation|   14.47|     172.04|        GA|    Current|       Joint App|     5000|       n/a|       0.0|null|          1|     4481|      86.2|       15|                 0|    12.79|         36 |              |\n",
      "| 36 months|          RENT|    E|debt_consolidation|    23.4|    1556.75|        NY|    Current|       Joint App|    40000|       n/a|       0.0|null|          0|    38600|      93.9|       27|                 0|     8.05|         36 |              |\n",
      "| 36 months|          RENT|    D|       credit_card|   18.94|     1281.9|        CA|    Current|       Joint App|    35000|       n/a|       0.0|null|          0|    25126|      60.5|       15|                 0|    24.22|         36 |              |\n",
      "| 36 months|      MORTGAGE|    A|       credit_card|    7.56|     622.68|        NJ|    Current|       Joint App|    20000|       n/a|       0.0|null|          0|    46855|      65.2|       19|                 0|    20.04|         36 |              |\n",
      "| 60 months|      MORTGAGE|    D|debt_consolidation|   17.97|     253.78|        CO|    Current|       Joint App|    10000|       n/a|       0.0|null|          3|     5318|      76.0|       26|                 0|    19.01|         60 |              |\n",
      "| 36 months|      MORTGAGE|    B|debt_consolidation|   11.31|     986.58|        TN|    Current|       Joint App|    30000|       n/a|       0.0|null|          0|    27735|      75.8|       19|                 0|    12.75|         36 |              |\n",
      "| 36 months|      MORTGAGE|    E|debt_consolidation|   25.34|     1597.6|        KS|    Current|       Joint App|    40000|       n/a|       0.0|null|          0|    57423|      97.5|        9|                 0|    22.61|         36 |              |\n",
      "| 60 months|      MORTGAGE|    D|debt_consolidation|   20.89|     777.36|        AZ|    Current|       Joint App|    28800|       n/a|       0.0|null|          0|        0|       0.0|       30|                 0|    24.89|         60 |              |\n",
      "| 36 months|      MORTGAGE|    A|             other|    7.56|     217.94|        CA|    Current|       Joint App|     7000|       n/a|       0.0|null|          0|      813|       3.7|       16|                 0|      0.6|         36 |              |\n",
      "| 36 months|          RENT|    B|debt_consolidation|    11.8|     397.43|        CA|    Current|       Joint App|    12000|       n/a|       0.0|null|          0|     7729|     100.4|        9|                 0|    15.34|         36 |              |\n",
      "| 60 months|      MORTGAGE|    C|debt_consolidation|   15.02|     238.01|        FL|    Current|       Joint App|    10000|       n/a|       0.0|null|          0|    39104|      98.3|       10|                 0|    23.69|         60 |              |\n",
      "| 60 months|      MORTGAGE|    B|       credit_card|   10.72|     777.71|        SC|    Current|       Joint App|    36000|       n/a|       0.0|null|          0|     5205|      13.7|        9|                 0|    17.29|         60 |              |\n",
      "| 60 months|      MORTGAGE|    D|debt_consolidation|   18.94|     414.53|        NY|    Current|       Joint App|    16000|       n/a|       0.0|null|          0|    56437|      49.5|       54|                 0|    29.25|         60 |              |\n",
      "+----------+--------------+-----+------------------+--------+-----------+----------+-----------+----------------+---------+----------+----------+----+-----------+---------+----------+---------+------------------+---------+------------+--------------+\n",
      "only showing top 20 rows\n",
      "\n"
     ]
    }
   ],
   "source": [
    "spark.sql(\"SELECT * from loan_sel WHERE dti IS null\").show()"
   ]
  },
  {
   "cell_type": "code",
   "execution_count": 75,
   "metadata": {},
   "outputs": [
    {
     "name": "stdout",
     "output_type": "stream",
     "text": [
      "+----------------+----+---------+\n",
      "|application_type| dti|dti_joint|\n",
      "+----------------+----+---------+\n",
      "|       Joint App|null|    33.06|\n",
      "|       Joint App|null|    17.67|\n",
      "|       Joint App|null|     27.3|\n",
      "|       Joint App|null|     8.74|\n",
      "|       Joint App|null|    11.68|\n",
      "|       Joint App|null|    28.01|\n",
      "|       Joint App|null|    15.06|\n",
      "|       Joint App|null|    12.79|\n",
      "|       Joint App|null|     8.05|\n",
      "|       Joint App|null|    24.22|\n",
      "|       Joint App|null|    20.04|\n",
      "|       Joint App|null|    19.01|\n",
      "|       Joint App|null|    12.75|\n",
      "|       Joint App|null|    22.61|\n",
      "|       Joint App|null|    24.89|\n",
      "|       Joint App|null|      0.6|\n",
      "|       Joint App|null|    15.34|\n",
      "|       Joint App|null|    23.69|\n",
      "|       Joint App|null|    17.29|\n",
      "|       Joint App|null|    29.25|\n",
      "+----------------+----+---------+\n",
      "only showing top 20 rows\n",
      "\n"
     ]
    }
   ],
   "source": [
    "spark.sql(\"SELECT application_type, dti, dti_joint FROM loan WHERE dti IS null\").show()"
   ]
  },
  {
   "cell_type": "code",
   "execution_count": 76,
   "metadata": {},
   "outputs": [],
   "source": [
    "df_sel=df_sel.withColumn(\"dti_cleaned\",coalesce(col(\"dti\"),col(\"dti_joint\")))"
   ]
  },
  {
   "cell_type": "code",
   "execution_count": 77,
   "metadata": {},
   "outputs": [
    {
     "name": "stdout",
     "output_type": "stream",
     "text": [
      "+----+--------------+-----+-------+--------+-----------+----------+-----------+----------------+---------+----------+----------+----+-----------+---------+----------+---------+------------------+---------+------------+--------------+-----------------+-------+-----------+\n",
      "|term|home_ownership|grade|purpose|int_rate|installment|addr_state|loan_status|application_type|loan_amnt|emp_length|annual_inc| dti|delinq_2yrs|revol_bal|revol_util|total_acc|num_tl_90g_dpd_24m|dti_joint|term_cleaned|emplen_cleaned|revolutil_cleaned|rev_avg|dti_cleaned|\n",
      "+----+--------------+-----+-------+--------+-----------+----------+-----------+----------------+---------+----------+----------+----+-----------+---------+----------+---------+------------------+---------+------------+--------------+-----------------+-------+-----------+\n",
      "|   0|             0|    0|      0|       0|          0|         0|          0|               0|        0|         0|         4|1711|         29|        0|      1802|       29|             70276|  2139962|           0|             0|                0|      0|          0|\n",
      "+----+--------------+-----+-------+--------+-----------+----------+-----------+----------------+---------+----------+----------+----+-----------+---------+----------+---------+------------------+---------+------------+--------------+-----------------+-------+-----------+\n",
      "\n"
     ]
    }
   ],
   "source": [
    "df_sel.select([count(when(isnan(c) | col(c).isNull(), c)).alias(c) for c in df_sel.columns]).show()"
   ]
  },
  {
   "cell_type": "code",
   "execution_count": 79,
   "metadata": {},
   "outputs": [
    {
     "name": "stdout",
     "output_type": "stream",
     "text": [
      "+--------------------+--------+\n",
      "|         loan_status|count(1)|\n",
      "+--------------------+--------+\n",
      "|          Fully Paid| 1041952|\n",
      "|             Default|      31|\n",
      "|     In Grace Period|    8952|\n",
      "|Does not meet the...|    1988|\n",
      "|         Charged Off|  261655|\n",
      "|  Late (31-120 days)|   21897|\n",
      "|             Current|  919695|\n",
      "|Does not meet the...|     761|\n",
      "|   Late (16-30 days)|    3737|\n",
      "+--------------------+--------+\n",
      "\n"
     ]
    }
   ],
   "source": [
    "spark.sql(\"SELECT loan_status, COUNT(*) FROM loan_sel GROUP BY loan_status\").show()\n",
    "\n",
    "# Need to take care of default and two does not meet stuff. May be take a look at kaggle kernel to get idea what to do.\n",
    "# Temporary fixing by dumping as good loans."
   ]
  },
  {
   "cell_type": "code",
   "execution_count": 80,
   "metadata": {},
   "outputs": [
    {
     "name": "stdout",
     "output_type": "stream",
     "text": [
      "+----------+--------------+-----+------------------+--------+-----------+----------+------------------+----------------+---------+----------+----------+-----+-----------+---------+----------+---------+------------------+---------+------------+--------------+-----------------+-----------------+-----------+\n",
      "|      term|home_ownership|grade|           purpose|int_rate|installment|addr_state|       loan_status|application_type|loan_amnt|emp_length|annual_inc|  dti|delinq_2yrs|revol_bal|revol_util|total_acc|num_tl_90g_dpd_24m|dti_joint|term_cleaned|emplen_cleaned|revolutil_cleaned|          rev_avg|dti_cleaned|\n",
      "+----------+--------------+-----+------------------+--------+-----------+----------+------------------+----------------+---------+----------+----------+-----+-----------+---------+----------+---------+------------------+---------+------------+--------------+-----------------+-----------------+-----------+\n",
      "| 36 months|      MORTGAGE|    A|debt_consolidation|    8.19|     659.13|        PA|Late (31-120 days)|      Individual|    20975|   2 years|  165000.0|24.27|          0|     4210|      16.6|       21|                 0|     null|         36 |             2|             16.0|49.90740132438135|      24.27|\n",
      "| 36 months|          RENT|    B|          vacation|    11.8|     662.38|        NC|Late (31-120 days)|      Individual|    20000|   3 years|   50000.0| 9.18|          0|    16576|      13.9|       26|                 0|     null|         36 |             3|             13.0|49.90740132438135|       9.18|\n",
      "| 36 months|           OWN|    E|             other|   26.31|     368.15|        IN|Late (31-120 days)|      Individual|     9100|   3 years|   62000.0|13.38|          0|     4165|      12.1|       23|                 0|     null|         36 |             3|             12.0|49.90740132438135|      13.38|\n",
      "| 36 months|      MORTGAGE|    E|debt_consolidation|   25.34|     140.79|        GA|Late (31-120 days)|      Individual|     3525| 10+ years|  150000.0|14.25|          0|     8591|      31.1|       15|                 0|     null|         36 |            10|             31.0|49.90740132438135|      14.25|\n",
      "| 60 months|      MORTGAGE|    C|debt_consolidation|   16.91|     272.85|        CA|   In Grace Period|      Individual|    11000| 10+ years|   97000.0|28.79|          0|    30642|      31.7|       32|                 0|     null|         60 |            10|             31.0|49.90740132438135|      28.79|\n",
      "| 36 months|      MORTGAGE|    C|debt_consolidation|   14.47|     240.85|        NJ|   In Grace Period|      Individual|     7000|   8 years|   35000.0|23.08|          0|     5831|      36.4|       16|                 0|     null|         36 |             8|             36.0|49.90740132438135|      23.08|\n",
      "| 36 months|          RENT|    C|debt_consolidation|   13.56|     390.59|        MT|Late (31-120 days)|      Individual|    11500|   8 years|   33000.0| 2.55|          0|     2600|      20.0|       12|                 0|     null|         36 |             8|             20.0|49.90740132438135|       2.55|\n",
      "| 36 months|      MORTGAGE|    A|       credit_card|    6.46|     245.05|        WA|       Charged Off|      Individual|     8000| 10+ years|   55000.0|17.83|          0|    10999|      29.1|       49|                 0|     null|         36 |            10|             29.0|49.90740132438135|      17.83|\n",
      "| 36 months|          RENT|    A|debt_consolidation|    7.02|      679.5|        VA|Late (31-120 days)|      Individual|    22000|   3 years|  100000.0|15.35|          0|     7310|      47.2|       26|                 0|     null|         36 |             3|             47.0|49.90740132438135|      15.35|\n",
      "| 60 months|          RENT|    E|debt_consolidation|   26.31|     903.73|        TX|Late (31-120 days)|      Individual|    30000|   2 years|   70000.0|39.16|          0|    24961|      38.5|       37|                 0|     null|         60 |             2|             38.0|49.90740132438135|      39.16|\n",
      "| 36 months|          RENT|    E|  home_improvement|   26.31|     384.34|        NV|Late (31-120 days)|      Individual|     9500|   5 years|   50000.0|16.66|          0|     4523|       8.2|       18|                 0|     null|         36 |             5|              8.0|49.90740132438135|      16.66|\n",
      "| 36 months|      MORTGAGE|    C|  home_improvement|   16.14|     352.27|        FL|   In Grace Period|      Individual|    10000| 10+ years|   82500.0|16.33|          4|     9529|      43.1|       34|                 2|     null|         36 |            10|             43.0|49.90740132438135|      16.33|\n",
      "| 36 months|      MORTGAGE|    C|debt_consolidation|   16.14|     1197.7|        NY|   In Grace Period|       Joint App|    34000|  < 1 year|   20000.0|54.86|          0|    33867|      59.6|       19|                 0|    12.59|         36 |             1|             59.0|49.90740132438135|      54.86|\n",
      "| 36 months|          RENT|    C|debt_consolidation|   13.56|    1018.93|        MD|   In Grace Period|      Individual|    30000| 10+ years|   85000.0| 2.91|          1|    12533|      24.9|       21|                 0|     null|         36 |            10|             24.0|49.90740132438135|       2.91|\n",
      "| 36 months|           OWN|    C|debt_consolidation|   13.56|     380.41|        TX|   In Grace Period|      Individual|    11200|   4 years|   24000.0| 15.7|          0|     1837|      42.7|        7|                 0|     null|         36 |             4|             42.0|49.90740132438135|       15.7|\n",
      "| 36 months|      MORTGAGE|    B|    major_purchase|    11.8|     160.63|        VA|   In Grace Period|      Individual|     4850| 10+ years|   84567.0|  8.6|          1|     6664|      25.2|       20|                 0|     null|         36 |            10|             25.0|49.90740132438135|        8.6|\n",
      "| 60 months|          RENT|    D|       credit_card|   17.97|     609.06|        ID|   In Grace Period|      Individual|    24000|   2 years|   60000.0|31.78|          0|    25161|      77.4|       23|                 0|     null|         60 |             2|             77.0|49.90740132438135|      31.78|\n",
      "| 36 months|          RENT|    A|debt_consolidation|    6.46|     918.93|        TX|   In Grace Period|      Individual|    30000|  < 1 year|  300000.0| 3.95|          0|    35509|      88.8|       11|                 0|     null|         36 |             1|             88.0|49.90740132438135|       3.95|\n",
      "| 36 months|      MORTGAGE|    C|debt_consolidation|   15.02|     554.81|        NY| Late (16-30 days)|      Individual|    16000|       n/a|   40000.0|17.43|          0|    17493|      40.8|       24|                 0|     null|         36 |              |             40.0|49.90740132438135|      17.43|\n",
      "| 36 months|          RENT|    E|               car|   27.27|     303.18|        FL|Late (31-120 days)|      Individual|     7400|   5 years|   70000.0|  1.8|          0|     2460|      12.6|        7|                 0|     null|         36 |             5|             12.0|49.90740132438135|        1.8|\n",
      "+----------+--------------+-----+------------------+--------+-----------+----------+------------------+----------------+---------+----------+----------+-----+-----------+---------+----------+---------+------------------+---------+------------+--------------+-----------------+-----------------+-----------+\n",
      "only showing top 20 rows\n",
      "\n"
     ]
    }
   ],
   "source": [
    "df_sel.where(df_sel.loan_status.isin([\"Late (31-120 days)\", \"Charged Off\", \"In Grace Period\",\"Late (16-30 days)\"])).show()"
   ]
  },
  {
   "cell_type": "code",
   "execution_count": 82,
   "metadata": {},
   "outputs": [],
   "source": [
    "df_sel=df_sel.withColumn(\n",
    "    \"bad_loan\", \n",
    "    when(df_sel.loan_status.isin([\n",
    "        \"Late (31-120 days)\", \"Charged Off\", \"In Grace Period\",\"Late (16-30 days)\"\n",
    "    ]),\n",
    "         'Yes'\n",
    "                    ).otherwise('No'))"
   ]
  },
  {
   "cell_type": "code",
   "execution_count": 83,
   "metadata": {},
   "outputs": [
    {
     "name": "stdout",
     "output_type": "stream",
     "text": [
      "+--------+-------+\n",
      "|bad_loan|  count|\n",
      "+--------+-------+\n",
      "|      No|1964427|\n",
      "|     Yes| 296241|\n",
      "+--------+-------+\n",
      "\n"
     ]
    }
   ],
   "source": [
    "df_sel.groupBy('bad_loan').count().show() # can use sql as well but need to dump into temp table first"
   ]
  },
  {
   "cell_type": "code",
   "execution_count": 84,
   "metadata": {},
   "outputs": [
    {
     "name": "stdout",
     "output_type": "stream",
     "text": [
      "+----------+--------------+-----+------------------+--------+-----------+----------+------------------+----------------+---------+----------+----------+-----+-----------+---------+----------+---------+------------------+---------+------------+--------------+-----------------+-----------------+-----------+--------+\n",
      "|      term|home_ownership|grade|           purpose|int_rate|installment|addr_state|       loan_status|application_type|loan_amnt|emp_length|annual_inc|  dti|delinq_2yrs|revol_bal|revol_util|total_acc|num_tl_90g_dpd_24m|dti_joint|term_cleaned|emplen_cleaned|revolutil_cleaned|          rev_avg|dti_cleaned|bad_loan|\n",
      "+----------+--------------+-----+------------------+--------+-----------+----------+------------------+----------------+---------+----------+----------+-----+-----------+---------+----------+---------+------------------+---------+------------+--------------+-----------------+-----------------+-----------+--------+\n",
      "| 36 months|      MORTGAGE|    A|debt_consolidation|    8.19|     659.13|        PA|Late (31-120 days)|      Individual|    20975|   2 years|  165000.0|24.27|          0|     4210|      16.6|       21|                 0|     null|         36 |             2|             16.0|49.90740132438135|      24.27|     Yes|\n",
      "| 36 months|          RENT|    B|          vacation|    11.8|     662.38|        NC|Late (31-120 days)|      Individual|    20000|   3 years|   50000.0| 9.18|          0|    16576|      13.9|       26|                 0|     null|         36 |             3|             13.0|49.90740132438135|       9.18|     Yes|\n",
      "| 36 months|           OWN|    E|             other|   26.31|     368.15|        IN|Late (31-120 days)|      Individual|     9100|   3 years|   62000.0|13.38|          0|     4165|      12.1|       23|                 0|     null|         36 |             3|             12.0|49.90740132438135|      13.38|     Yes|\n",
      "| 36 months|      MORTGAGE|    E|debt_consolidation|   25.34|     140.79|        GA|Late (31-120 days)|      Individual|     3525| 10+ years|  150000.0|14.25|          0|     8591|      31.1|       15|                 0|     null|         36 |            10|             31.0|49.90740132438135|      14.25|     Yes|\n",
      "| 60 months|      MORTGAGE|    C|debt_consolidation|   16.91|     272.85|        CA|   In Grace Period|      Individual|    11000| 10+ years|   97000.0|28.79|          0|    30642|      31.7|       32|                 0|     null|         60 |            10|             31.0|49.90740132438135|      28.79|     Yes|\n",
      "| 36 months|      MORTGAGE|    C|debt_consolidation|   14.47|     240.85|        NJ|   In Grace Period|      Individual|     7000|   8 years|   35000.0|23.08|          0|     5831|      36.4|       16|                 0|     null|         36 |             8|             36.0|49.90740132438135|      23.08|     Yes|\n",
      "| 36 months|          RENT|    C|debt_consolidation|   13.56|     390.59|        MT|Late (31-120 days)|      Individual|    11500|   8 years|   33000.0| 2.55|          0|     2600|      20.0|       12|                 0|     null|         36 |             8|             20.0|49.90740132438135|       2.55|     Yes|\n",
      "| 36 months|      MORTGAGE|    A|       credit_card|    6.46|     245.05|        WA|       Charged Off|      Individual|     8000| 10+ years|   55000.0|17.83|          0|    10999|      29.1|       49|                 0|     null|         36 |            10|             29.0|49.90740132438135|      17.83|     Yes|\n",
      "| 36 months|          RENT|    A|debt_consolidation|    7.02|      679.5|        VA|Late (31-120 days)|      Individual|    22000|   3 years|  100000.0|15.35|          0|     7310|      47.2|       26|                 0|     null|         36 |             3|             47.0|49.90740132438135|      15.35|     Yes|\n",
      "| 60 months|          RENT|    E|debt_consolidation|   26.31|     903.73|        TX|Late (31-120 days)|      Individual|    30000|   2 years|   70000.0|39.16|          0|    24961|      38.5|       37|                 0|     null|         60 |             2|             38.0|49.90740132438135|      39.16|     Yes|\n",
      "| 36 months|          RENT|    E|  home_improvement|   26.31|     384.34|        NV|Late (31-120 days)|      Individual|     9500|   5 years|   50000.0|16.66|          0|     4523|       8.2|       18|                 0|     null|         36 |             5|              8.0|49.90740132438135|      16.66|     Yes|\n",
      "| 36 months|      MORTGAGE|    C|  home_improvement|   16.14|     352.27|        FL|   In Grace Period|      Individual|    10000| 10+ years|   82500.0|16.33|          4|     9529|      43.1|       34|                 2|     null|         36 |            10|             43.0|49.90740132438135|      16.33|     Yes|\n",
      "| 36 months|      MORTGAGE|    C|debt_consolidation|   16.14|     1197.7|        NY|   In Grace Period|       Joint App|    34000|  < 1 year|   20000.0|54.86|          0|    33867|      59.6|       19|                 0|    12.59|         36 |             1|             59.0|49.90740132438135|      54.86|     Yes|\n",
      "| 36 months|          RENT|    C|debt_consolidation|   13.56|    1018.93|        MD|   In Grace Period|      Individual|    30000| 10+ years|   85000.0| 2.91|          1|    12533|      24.9|       21|                 0|     null|         36 |            10|             24.0|49.90740132438135|       2.91|     Yes|\n",
      "| 36 months|           OWN|    C|debt_consolidation|   13.56|     380.41|        TX|   In Grace Period|      Individual|    11200|   4 years|   24000.0| 15.7|          0|     1837|      42.7|        7|                 0|     null|         36 |             4|             42.0|49.90740132438135|       15.7|     Yes|\n",
      "| 36 months|      MORTGAGE|    B|    major_purchase|    11.8|     160.63|        VA|   In Grace Period|      Individual|     4850| 10+ years|   84567.0|  8.6|          1|     6664|      25.2|       20|                 0|     null|         36 |            10|             25.0|49.90740132438135|        8.6|     Yes|\n",
      "| 60 months|          RENT|    D|       credit_card|   17.97|     609.06|        ID|   In Grace Period|      Individual|    24000|   2 years|   60000.0|31.78|          0|    25161|      77.4|       23|                 0|     null|         60 |             2|             77.0|49.90740132438135|      31.78|     Yes|\n",
      "| 36 months|          RENT|    A|debt_consolidation|    6.46|     918.93|        TX|   In Grace Period|      Individual|    30000|  < 1 year|  300000.0| 3.95|          0|    35509|      88.8|       11|                 0|     null|         36 |             1|             88.0|49.90740132438135|       3.95|     Yes|\n",
      "| 36 months|      MORTGAGE|    C|debt_consolidation|   15.02|     554.81|        NY| Late (16-30 days)|      Individual|    16000|       n/a|   40000.0|17.43|          0|    17493|      40.8|       24|                 0|     null|         36 |              |             40.0|49.90740132438135|      17.43|     Yes|\n",
      "| 36 months|          RENT|    E|               car|   27.27|     303.18|        FL|Late (31-120 days)|      Individual|     7400|   5 years|   70000.0|  1.8|          0|     2460|      12.6|        7|                 0|     null|         36 |             5|             12.0|49.90740132438135|        1.8|     Yes|\n",
      "+----------+--------------+-----+------------------+--------+-----------+----------+------------------+----------------+---------+----------+----------+-----+-----------+---------+----------+---------+------------------+---------+------------+--------------+-----------------+-----------------+-----------+--------+\n",
      "only showing top 20 rows\n",
      "\n"
     ]
    }
   ],
   "source": [
    "df_sel.filter(df_sel.bad_loan == 'Yes').show()"
   ]
  },
  {
   "cell_type": "code",
   "execution_count": 85,
   "metadata": {},
   "outputs": [
    {
     "name": "stdout",
     "output_type": "stream",
     "text": [
      "root\n",
      " |-- term: string (nullable = true)\n",
      " |-- home_ownership: string (nullable = true)\n",
      " |-- grade: string (nullable = true)\n",
      " |-- purpose: string (nullable = true)\n",
      " |-- int_rate: double (nullable = true)\n",
      " |-- installment: double (nullable = true)\n",
      " |-- addr_state: string (nullable = true)\n",
      " |-- loan_status: string (nullable = true)\n",
      " |-- application_type: string (nullable = true)\n",
      " |-- loan_amnt: integer (nullable = true)\n",
      " |-- emp_length: string (nullable = true)\n",
      " |-- annual_inc: double (nullable = true)\n",
      " |-- dti: double (nullable = true)\n",
      " |-- delinq_2yrs: integer (nullable = true)\n",
      " |-- revol_bal: integer (nullable = true)\n",
      " |-- revol_util: double (nullable = true)\n",
      " |-- total_acc: integer (nullable = true)\n",
      " |-- num_tl_90g_dpd_24m: integer (nullable = true)\n",
      " |-- dti_joint: double (nullable = true)\n",
      " |-- term_cleaned: string (nullable = true)\n",
      " |-- emplen_cleaned: string (nullable = true)\n",
      " |-- revolutil_cleaned: double (nullable = true)\n",
      " |-- rev_avg: double (nullable = false)\n",
      " |-- dti_cleaned: double (nullable = true)\n",
      " |-- bad_loan: string (nullable = false)\n",
      "\n"
     ]
    }
   ],
   "source": [
    "df_sel.printSchema()"
   ]
  },
  {
   "cell_type": "code",
   "execution_count": 86,
   "metadata": {},
   "outputs": [],
   "source": [
    "df_sel_final=df_sel.drop('revol_util','dti','dti_joint', 'rev_avg', 'term')"
   ]
  },
  {
   "cell_type": "code",
   "execution_count": 87,
   "metadata": {},
   "outputs": [
    {
     "name": "stdout",
     "output_type": "stream",
     "text": [
      "root\n",
      " |-- home_ownership: string (nullable = true)\n",
      " |-- grade: string (nullable = true)\n",
      " |-- purpose: string (nullable = true)\n",
      " |-- int_rate: double (nullable = true)\n",
      " |-- installment: double (nullable = true)\n",
      " |-- addr_state: string (nullable = true)\n",
      " |-- loan_status: string (nullable = true)\n",
      " |-- application_type: string (nullable = true)\n",
      " |-- loan_amnt: integer (nullable = true)\n",
      " |-- emp_length: string (nullable = true)\n",
      " |-- annual_inc: double (nullable = true)\n",
      " |-- delinq_2yrs: integer (nullable = true)\n",
      " |-- revol_bal: integer (nullable = true)\n",
      " |-- total_acc: integer (nullable = true)\n",
      " |-- num_tl_90g_dpd_24m: integer (nullable = true)\n",
      " |-- term_cleaned: string (nullable = true)\n",
      " |-- emplen_cleaned: string (nullable = true)\n",
      " |-- revolutil_cleaned: double (nullable = true)\n",
      " |-- dti_cleaned: double (nullable = true)\n",
      " |-- bad_loan: string (nullable = false)\n",
      "\n"
     ]
    }
   ],
   "source": [
    "df_sel_final.printSchema()"
   ]
  },
  {
   "cell_type": "code",
   "execution_count": 88,
   "metadata": {},
   "outputs": [
    {
     "name": "stdout",
     "output_type": "stream",
     "text": [
      "+--------------+------+------+------+------+-----+-----+----+\n",
      "|bad_loan_grade|     A|     B|     C|     D|    E|    F|   G|\n",
      "+--------------+------+------+------+------+-----+-----+----+\n",
      "|            No|417012|604890|554630|257204|96920|26475|7296|\n",
      "|           Yes| 16015| 58667| 95423| 67220|38719|15325|4872|\n",
      "+--------------+------+------+------+------+-----+-----+----+\n",
      "\n"
     ]
    }
   ],
   "source": [
    "df_sel_final.stat.crosstab('bad_loan', 'grade').show()"
   ]
  },
  {
   "cell_type": "code",
   "execution_count": 89,
   "metadata": {},
   "outputs": [
    {
     "name": "stdout",
     "output_type": "stream",
     "text": [
      "+-------+------------------+\n",
      "|summary|       dti_cleaned|\n",
      "+-------+------------------+\n",
      "|  count|           2260668|\n",
      "|   mean|18.824178357899857|\n",
      "| stddev|14.179782290150628|\n",
      "|    min|              -1.0|\n",
      "|    max|             999.0|\n",
      "+-------+------------------+\n",
      "\n"
     ]
    }
   ],
   "source": [
    "df_sel.describe('dti_cleaned').show()"
   ]
  },
  {
   "cell_type": "code",
   "execution_count": 90,
   "metadata": {},
   "outputs": [
    {
     "name": "stdout",
     "output_type": "stream",
     "text": [
      "+----------+--------------+-----+------------------+--------+-----------+----------+-----------+----------------+---------+----------+----------+------+-----------+---------+----------+---------+------------------+---------+------------+--------------+-----------------+-----------------+-----------+--------+\n",
      "|      term|home_ownership|grade|           purpose|int_rate|installment|addr_state|loan_status|application_type|loan_amnt|emp_length|annual_inc|   dti|delinq_2yrs|revol_bal|revol_util|total_acc|num_tl_90g_dpd_24m|dti_joint|term_cleaned|emplen_cleaned|revolutil_cleaned|          rev_avg|dti_cleaned|bad_loan|\n",
      "+----------+--------------+-----+------------------+--------+-----------+----------+-----------+----------------+---------+----------+----------+------+-----------+---------+----------+---------+------------------+---------+------------+--------------+-----------------+-----------------+-----------+--------+\n",
      "| 36 months|      MORTGAGE|    B|             other|   11.31|     328.86|        CA|    Current|       Joint App|    10000|       n/a|   10020.0|123.47|          0|    20857|      94.8|        8|                 0|    31.59|         36 |              |             94.0|49.90740132438135|     123.47|      No|\n",
      "| 36 months|      MORTGAGE|    B|debt_consolidation|    11.8|      99.36|        UT|    Current|       Joint App|     3000|  < 1 year|    3600.0|149.33|          1|    17695|      40.9|       22|                 0|    14.46|         36 |             1|             40.0|49.90740132438135|     149.33|      No|\n",
      "| 60 months|      MORTGAGE|    D|debt_consolidation|   19.92|      317.4|        CO|    Current|       Joint App|    12000|  < 1 year|    7500.0|173.92|          1|    38472|      63.5|       24|                 0|     26.9|         60 |             1|             63.0|49.90740132438135|     173.92|      No|\n",
      "| 36 months|      MORTGAGE|    A|       credit_card|    6.46|     627.94|        NJ|    Current|       Joint App|    20500|  < 1 year|    2000.0|292.25|          0|    22494|      29.9|       26|                 0|    11.63|         36 |             1|             29.0|49.90740132438135|     292.25|      No|\n",
      "| 60 months|      MORTGAGE|    B|debt_consolidation|    11.8|     221.44|        OH|    Current|       Joint App|    10000|       n/a|    8280.0|101.45|          0|    16064|      23.5|       30|                 0|    30.45|         60 |              |             23.0|49.90740132438135|     101.45|      No|\n",
      "| 36 months|      MORTGAGE|    A|             other|    6.46|     153.16|        CA|    Current|       Joint App|     5000|   8 years|   45000.0|106.35|          0|    12376|      33.4|       11|                 0|    18.08|         36 |             8|             33.0|49.90740132438135|     106.35|      No|\n",
      "| 60 months|          RENT|    B|debt_consolidation|    11.8|     553.59|        NJ|    Current|       Joint App|    25000|       n/a|   20766.0|127.32|          0|    14627|      30.6|       26|                 0|    28.73|         60 |              |             30.0|49.90740132438135|     127.32|      No|\n",
      "| 36 months|      MORTGAGE|    D|debt_consolidation|   18.94|     366.26|        CA|    Current|       Joint App|    10000|   2 years|    7500.0|342.24|          0|    14307|      69.8|       32|                 0|    31.75|         36 |             2|             69.0|49.90740132438135|     342.24|      No|\n",
      "| 60 months|      MORTGAGE|    B|debt_consolidation|   11.31|      875.9|        MN|    Current|       Joint App|    40000|  < 1 year|   10000.0| 146.8|          0|    35029|      33.0|       18|                 0|    25.52|         60 |             1|             33.0|49.90740132438135|      146.8|      No|\n",
      "| 36 months|          RENT|    C|debt_consolidation|   16.91|     512.76|        GA|    Current|       Joint App|    14400| 10+ years|   12000.0| 111.9|          0|     6613|      46.2|       16|                 0|    22.59|         36 |            10|             46.0|49.90740132438135|      111.9|      No|\n",
      "| 36 months|      MORTGAGE|    C|    major_purchase|   16.14|     105.68|        KS|    Current|       Joint App|     3000|       n/a|   13488.0|103.11|          0|     5449|      28.5|       25|                 0|    18.84|         36 |              |             28.0|49.90740132438135|     103.11|      No|\n",
      "| 36 months|      MORTGAGE|    B|debt_consolidation|   10.72|    1043.41|        PA|    Current|       Joint App|    32000|       n/a|   14000.0|100.09|          0|    31387|      64.2|       18|                 0|     29.0|         36 |              |             64.0|49.90740132438135|     100.09|      No|\n",
      "| 36 months|          RENT|    E|          vacation|   24.37|      78.86|        VA|    Current|       Joint App|     2000|   6 years|    3500.0|358.76|          0|    11133|      95.2|       20|                 0|    19.75|         36 |             6|             95.0|49.90740132438135|     358.76|      No|\n",
      "| 36 months|      MORTGAGE|    B|       credit_card|    11.8|     341.13|        TN|    Current|       Joint App|    10300|   6 years|   22000.0|110.64|          0|    18664|      79.1|       19|                 0|    38.75|         36 |             6|             79.0|49.90740132438135|     110.64|      No|\n",
      "| 60 months|      MORTGAGE|    E|debt_consolidation|   27.27|     613.94|        TX|    Current|       Joint App|    20000|       n/a|   38000.0|111.15|          2|     1694|       8.3|       24|                 0|    32.14|         60 |              |              8.0|49.90740132438135|     111.15|      No|\n",
      "| 60 months|      MORTGAGE|    A|       credit_card|    8.19|      814.7|        VA|    Current|       Joint App|    40000|   7 years|    5000.0|503.61|          0|    54756|      45.1|       43|                 0|    18.73|         60 |             7|             45.0|49.90740132438135|     503.61|      No|\n",
      "| 60 months|      MORTGAGE|    B|debt_consolidation|    11.8|     775.03|        LA|    Current|       Joint App|    35000|   3 years|   30000.0|139.88|          1|    22998|      49.1|       21|                 0|    32.66|         60 |             3|             49.0|49.90740132438135|     139.88|      No|\n",
      "| 36 months|           OWN|    D|       credit_card|   19.92|    1484.92|        CA|    Current|       Joint App|    40000|  < 1 year|   15000.0| 189.3|          0|    72154|      56.7|       36|                 0|    18.08|         36 |             1|             56.0|49.90740132438135|      189.3|      No|\n",
      "| 60 months|          RENT|    C|       credit_card|   13.56|     253.45|        OR|    Current|       Joint App|    11000|       n/a|    9600.0| 111.5|          0|    10794|      97.2|        6|                 0|    22.04|         60 |              |             97.0|49.90740132438135|      111.5|      No|\n",
      "| 60 months|      MORTGAGE|    B|debt_consolidation|   12.98|      796.0|        CA|    Current|       Joint App|    35000|    1 year|   38000.0|125.05|          0|    40646|      82.1|       21|                 0|    25.39|         60 |             1|             82.0|49.90740132438135|     125.05|      No|\n",
      "+----------+--------------+-----+------------------+--------+-----------+----------+-----------+----------------+---------+----------+----------+------+-----------+---------+----------+---------+------------------+---------+------------+--------------+-----------------+-----------------+-----------+--------+\n",
      "only showing top 20 rows\n",
      "\n"
     ]
    }
   ],
   "source": [
    "df_sel.filter(df_sel.dti_cleaned > 100).show()"
   ]
  },
  {
   "cell_type": "code",
   "execution_count": 92,
   "metadata": {},
   "outputs": [
    {
     "name": "stdout",
     "output_type": "stream",
     "text": [
      "+----------+--------------+-----+------------------+--------+-----------+----------+-----------+----------------+---------+----------+----------+----+-----------+---------+----------+---------+------------------+---------+------------+--------------+-----------------+-----------------+-----------+--------+\n",
      "|      term|home_ownership|grade|           purpose|int_rate|installment|addr_state|loan_status|application_type|loan_amnt|emp_length|annual_inc| dti|delinq_2yrs|revol_bal|revol_util|total_acc|num_tl_90g_dpd_24m|dti_joint|term_cleaned|emplen_cleaned|revolutil_cleaned|          rev_avg|dti_cleaned|bad_loan|\n",
      "+----------+--------------+-----+------------------+--------+-----------+----------+-----------+----------------+---------+----------+----------+----+-----------+---------+----------+---------+------------------+---------+------------+--------------+-----------------+-----------------+-----------+--------+\n",
      "| 36 months|      MORTGAGE|    B|debt_consolidation|    9.75|     482.25|        OR| Fully Paid|      Individual|    15000|   5 years|   94000.0|-1.0|          0|    15445|      45.8|       24|                 0|     null|         36 |             5|             45.0|49.90740132438135|       -1.0|      No|\n",
      "| 60 months|      MORTGAGE|    C|debt_consolidation|   13.49|     391.08|        IN| Fully Paid|       Joint App|    17000| 10+ years|   75000.0|-1.0|          1|    44587|      78.2|       34|                 0|    22.27|         60 |            10|             78.0|49.90740132438135|       -1.0|      No|\n",
      "+----------+--------------+-----+------------------+--------+-----------+----------+-----------+----------------+---------+----------+----------+----+-----------+---------+----------+---------+------------------+---------+------------+--------------+-----------------+-----------------+-----------+--------+\n",
      "\n"
     ]
    }
   ],
   "source": [
    "df_sel.filter(df_sel.dti_cleaned == -1).show()\n",
    "\n",
    "# Maybe remove this two rows having dti = -1 which is not possible."
   ]
  },
  {
   "cell_type": "code",
   "execution_count": 93,
   "metadata": {},
   "outputs": [],
   "source": [
    "permanent_table_name = \"lc_loan_data\"\n",
    "\n",
    "df_sel.write.format(\"parquet\").saveAsTable(permanent_table_name) # dumping as real table"
   ]
  },
  {
   "cell_type": "code",
   "execution_count": null,
   "metadata": {},
   "outputs": [],
   "source": []
  },
  {
   "cell_type": "code",
   "execution_count": null,
   "metadata": {},
   "outputs": [],
   "source": []
  },
  {
   "cell_type": "code",
   "execution_count": null,
   "metadata": {},
   "outputs": [],
   "source": []
  },
  {
   "cell_type": "code",
   "execution_count": 95,
   "metadata": {},
   "outputs": [
    {
     "name": "stdout",
     "output_type": "stream",
     "text": [
      "+----------+--------------+-----+------------------+--------+-----------+----------+-----------+----------------+---------+----------+----------+-----+-----------+---------+----------+---------+------------------+---------+------------+--------------+-----------------+-----------------+-----------+--------+\n",
      "|      term|home_ownership|grade|           purpose|int_rate|installment|addr_state|loan_status|application_type|loan_amnt|emp_length|annual_inc|  dti|delinq_2yrs|revol_bal|revol_util|total_acc|num_tl_90g_dpd_24m|dti_joint|term_cleaned|emplen_cleaned|revolutil_cleaned|          rev_avg|dti_cleaned|bad_loan|\n",
      "+----------+--------------+-----+------------------+--------+-----------+----------+-----------+----------------+---------+----------+----------+-----+-----------+---------+----------+---------+------------------+---------+------------+--------------+-----------------+-----------------+-----------+--------+\n",
      "| 36 months|          RENT|    C|debt_consolidation|   13.56|      84.92|        NY|    Current|      Individual|     2500| 10+ years|   55000.0|18.24|          0|     4341|      10.3|       34|                 0|     null|         36 |            10|             10.0|49.90740132438135|      18.24|      No|\n",
      "| 60 months|      MORTGAGE|    D|debt_consolidation|   18.94|     777.23|        LA|    Current|      Individual|    30000| 10+ years|   90000.0|26.52|          0|    12315|      24.2|       44|                 0|     null|         60 |            10|             24.0|49.90740132438135|      26.52|      No|\n",
      "| 36 months|      MORTGAGE|    D|debt_consolidation|   17.97|     180.69|        MI|    Current|      Individual|     5000|   6 years|   59280.0|10.51|          0|     4599|      19.1|       13|                 0|     null|         36 |             6|             19.0|49.90740132438135|      10.51|      No|\n",
      "| 36 months|      MORTGAGE|    D|debt_consolidation|   18.94|     146.51|        WA|    Current|      Individual|     4000| 10+ years|   92000.0|16.74|          0|     5468|      78.1|       13|                 0|     null|         36 |            10|             78.0|49.90740132438135|      16.74|      No|\n",
      "| 60 months|      MORTGAGE|    C|debt_consolidation|   16.14|     731.78|        MD|    Current|      Individual|    30000| 10+ years|   57250.0|26.35|          0|      829|       3.6|       26|                 0|     null|         60 |            10|              3.0|49.90740132438135|      26.35|      No|\n",
      "| 36 months|      MORTGAGE|    C|       credit_card|   15.02|     192.45|        IN|    Current|      Individual|     5550| 10+ years|  152500.0|37.94|          0|    53854|      48.1|       44|                 0|     null|         36 |            10|             48.0|49.90740132438135|      37.94|      No|\n",
      "| 36 months|          RENT|    D|debt_consolidation|   17.97|      72.28|        IL|    Current|      Individual|     2000|   4 years|   51000.0|  2.4|          0|        0|      null|        9|                 0|     null|         36 |             4|49.90740132438135|49.90740132438135|        2.4|      No|\n",
      "| 36 months|          RENT|    C|       credit_card|   13.56|     203.79|        IN|    Current|      Individual|     6000| 10+ years|   65000.0| 30.1|          0|    38476|      69.3|       37|                 0|     null|         36 |            10|             69.0|49.90740132438135|       30.1|      No|\n",
      "| 36 months|      MORTGAGE|    D|debt_consolidation|   17.97|     180.69|        FL|    Current|      Individual|     5000| 10+ years|   53580.0|21.16|          0|     8018|      35.2|       38|                 0|     null|         36 |            10|             35.0|49.90740132438135|      21.16|      No|\n",
      "| 36 months|           OWN|    C|debt_consolidation|   14.47|     206.44|        CT|    Current|      Individual|     6000|  < 1 year|  300000.0|17.43|          1|    65950|      49.8|       58|                 0|     null|         36 |             1|             49.0|49.90740132438135|      17.43|      No|\n",
      "| 36 months|      MORTGAGE|    D|       credit_card|   22.35|     211.05|        LA|    Current|      Individual|     5500|  < 1 year|   50000.0|15.94|          1|     4529|      94.4|       13|                 1|     null|         36 |             1|             94.0|49.90740132438135|      15.94|      No|\n",
      "| 60 months|      MORTGAGE|    B|       credit_card|   11.31|     613.13|        GA|    Current|      Individual|    28000|   2 years|   70000.0|22.01|          0|    56152|      55.9|       23|                 0|     null|         60 |             2|             55.0|49.90740132438135|      22.01|      No|\n",
      "| 36 months|      MORTGAGE|    A|       credit_card|    8.19|     351.95|        UT|    Current|      Individual|    11200| 10+ years|   65000.0| 23.6|          0|     8836|      16.6|       27|                 0|     null|         36 |            10|             16.0|49.90740132438135|       23.6|      No|\n",
      "| 36 months|      MORTGAGE|    D|debt_consolidation|   17.97|      234.9|        NC|    Current|      Individual|     6500|   4 years|  154000.0|28.78|          2|    23754|      60.4|       41|                 1|     null|         36 |             4|             60.0|49.90740132438135|      28.78|      No|\n",
      "| 60 months|      MORTGAGE|    B|debt_consolidation|   12.98|     500.35|        KY|    Current|      Individual|    22000| 10+ years|   65000.0|11.19|          0|      134|       0.5|       16|                 0|     null|         60 |            10|              0.0|49.90740132438135|      11.19|      No|\n",
      "| 36 months|      MORTGAGE|    C|debt_consolidation|   16.14|      123.3|        IL|    Current|       Joint App|     3500| 10+ years|   80000.0|13.63|          0|     8952|      58.5|       27|                 0|    10.77|         36 |            10|             58.0|49.90740132438135|      13.63|      No|\n",
      "| 36 months|      MORTGAGE|    B|             house|   12.98|      235.8|        OH|    Current|      Individual|     7000|   4 years|  102500.0| 15.2|          0|     1057|       7.2|       21|                 0|     null|         36 |             4|              7.0|49.90740132438135|       15.2|      No|\n",
      "| 60 months|      MORTGAGE|    C|debt_consolidation|   16.91|     620.11|        OH|    Current|       Joint App|    25000| 10+ years|   23878.0| 6.26|          0|     3044|      54.4|        8|                 0|    18.91|         60 |            10|             54.0|49.90740132438135|       6.26|      No|\n",
      "| 60 months|      MORTGAGE|    D|       credit_card|   20.89|     431.87|        AR|    Current|      Individual|    16000|   4 years|  120000.0|27.57|          1|    18826|      82.2|       37|                 0|     null|         60 |             4|             82.0|49.90740132438135|      27.57|      No|\n",
      "| 60 months|      MORTGAGE|    C|debt_consolidation|   14.47|     305.67|        OK|    Current|      Individual|    13000| 10+ years|   75000.0|26.16|          0|    15551|      58.2|       13|                 0|     null|         60 |            10|             58.0|49.90740132438135|      26.16|      No|\n",
      "+----------+--------------+-----+------------------+--------+-----------+----------+-----------+----------------+---------+----------+----------+-----+-----------+---------+----------+---------+------------------+---------+------------+--------------+-----------------+-----------------+-----------+--------+\n",
      "only showing top 20 rows\n",
      "\n"
     ]
    }
   ],
   "source": [
    "spark.sql(\"SELECT * FROM lc_loan_data\").show()"
   ]
  },
  {
   "cell_type": "code",
   "execution_count": 96,
   "metadata": {},
   "outputs": [
    {
     "name": "stdout",
     "output_type": "stream",
     "text": [
      "+----------+--------------+-----+------------------+--------+-----------+----------+-----------+----------------+---------+----------+----------+-----+-----------+---------+----------+---------+------------------+---------+------------+--------------+-----------------+-----------------+-----------+--------+\n",
      "|      term|home_ownership|grade|           purpose|int_rate|installment|addr_state|loan_status|application_type|loan_amnt|emp_length|annual_inc|  dti|delinq_2yrs|revol_bal|revol_util|total_acc|num_tl_90g_dpd_24m|dti_joint|term_cleaned|emplen_cleaned|revolutil_cleaned|          rev_avg|dti_cleaned|bad_loan|\n",
      "+----------+--------------+-----+------------------+--------+-----------+----------+-----------+----------------+---------+----------+----------+-----+-----------+---------+----------+---------+------------------+---------+------------+--------------+-----------------+-----------------+-----------+--------+\n",
      "| 36 months|          RENT|    C|debt_consolidation|   13.56|      84.92|        NY|    Current|      Individual|     2500| 10+ years|   55000.0|18.24|          0|     4341|      10.3|       34|                 0|     null|         36 |            10|             10.0|49.90740132438135|      18.24|      No|\n",
      "| 60 months|      MORTGAGE|    D|debt_consolidation|   18.94|     777.23|        LA|    Current|      Individual|    30000| 10+ years|   90000.0|26.52|          0|    12315|      24.2|       44|                 0|     null|         60 |            10|             24.0|49.90740132438135|      26.52|      No|\n",
      "| 36 months|      MORTGAGE|    D|debt_consolidation|   17.97|     180.69|        MI|    Current|      Individual|     5000|   6 years|   59280.0|10.51|          0|     4599|      19.1|       13|                 0|     null|         36 |             6|             19.0|49.90740132438135|      10.51|      No|\n",
      "| 36 months|      MORTGAGE|    D|debt_consolidation|   18.94|     146.51|        WA|    Current|      Individual|     4000| 10+ years|   92000.0|16.74|          0|     5468|      78.1|       13|                 0|     null|         36 |            10|             78.0|49.90740132438135|      16.74|      No|\n",
      "| 60 months|      MORTGAGE|    C|debt_consolidation|   16.14|     731.78|        MD|    Current|      Individual|    30000| 10+ years|   57250.0|26.35|          0|      829|       3.6|       26|                 0|     null|         60 |            10|              3.0|49.90740132438135|      26.35|      No|\n",
      "| 36 months|      MORTGAGE|    C|       credit_card|   15.02|     192.45|        IN|    Current|      Individual|     5550| 10+ years|  152500.0|37.94|          0|    53854|      48.1|       44|                 0|     null|         36 |            10|             48.0|49.90740132438135|      37.94|      No|\n",
      "| 36 months|          RENT|    D|debt_consolidation|   17.97|      72.28|        IL|    Current|      Individual|     2000|   4 years|   51000.0|  2.4|          0|        0|      null|        9|                 0|     null|         36 |             4|49.90740132438135|49.90740132438135|        2.4|      No|\n",
      "| 36 months|          RENT|    C|       credit_card|   13.56|     203.79|        IN|    Current|      Individual|     6000| 10+ years|   65000.0| 30.1|          0|    38476|      69.3|       37|                 0|     null|         36 |            10|             69.0|49.90740132438135|       30.1|      No|\n",
      "| 36 months|      MORTGAGE|    D|debt_consolidation|   17.97|     180.69|        FL|    Current|      Individual|     5000| 10+ years|   53580.0|21.16|          0|     8018|      35.2|       38|                 0|     null|         36 |            10|             35.0|49.90740132438135|      21.16|      No|\n",
      "| 36 months|           OWN|    C|debt_consolidation|   14.47|     206.44|        CT|    Current|      Individual|     6000|  < 1 year|  300000.0|17.43|          1|    65950|      49.8|       58|                 0|     null|         36 |             1|             49.0|49.90740132438135|      17.43|      No|\n",
      "| 36 months|      MORTGAGE|    D|       credit_card|   22.35|     211.05|        LA|    Current|      Individual|     5500|  < 1 year|   50000.0|15.94|          1|     4529|      94.4|       13|                 1|     null|         36 |             1|             94.0|49.90740132438135|      15.94|      No|\n",
      "| 60 months|      MORTGAGE|    B|       credit_card|   11.31|     613.13|        GA|    Current|      Individual|    28000|   2 years|   70000.0|22.01|          0|    56152|      55.9|       23|                 0|     null|         60 |             2|             55.0|49.90740132438135|      22.01|      No|\n",
      "| 36 months|      MORTGAGE|    A|       credit_card|    8.19|     351.95|        UT|    Current|      Individual|    11200| 10+ years|   65000.0| 23.6|          0|     8836|      16.6|       27|                 0|     null|         36 |            10|             16.0|49.90740132438135|       23.6|      No|\n",
      "| 36 months|      MORTGAGE|    D|debt_consolidation|   17.97|      234.9|        NC|    Current|      Individual|     6500|   4 years|  154000.0|28.78|          2|    23754|      60.4|       41|                 1|     null|         36 |             4|             60.0|49.90740132438135|      28.78|      No|\n",
      "| 60 months|      MORTGAGE|    B|debt_consolidation|   12.98|     500.35|        KY|    Current|      Individual|    22000| 10+ years|   65000.0|11.19|          0|      134|       0.5|       16|                 0|     null|         60 |            10|              0.0|49.90740132438135|      11.19|      No|\n",
      "| 36 months|      MORTGAGE|    C|debt_consolidation|   16.14|      123.3|        IL|    Current|       Joint App|     3500| 10+ years|   80000.0|13.63|          0|     8952|      58.5|       27|                 0|    10.77|         36 |            10|             58.0|49.90740132438135|      13.63|      No|\n",
      "| 36 months|      MORTGAGE|    B|             house|   12.98|      235.8|        OH|    Current|      Individual|     7000|   4 years|  102500.0| 15.2|          0|     1057|       7.2|       21|                 0|     null|         36 |             4|              7.0|49.90740132438135|       15.2|      No|\n",
      "| 60 months|      MORTGAGE|    C|debt_consolidation|   16.91|     620.11|        OH|    Current|       Joint App|    25000| 10+ years|   23878.0| 6.26|          0|     3044|      54.4|        8|                 0|    18.91|         60 |            10|             54.0|49.90740132438135|       6.26|      No|\n",
      "| 60 months|      MORTGAGE|    D|       credit_card|   20.89|     431.87|        AR|    Current|      Individual|    16000|   4 years|  120000.0|27.57|          1|    18826|      82.2|       37|                 0|     null|         60 |             4|             82.0|49.90740132438135|      27.57|      No|\n",
      "| 60 months|      MORTGAGE|    C|debt_consolidation|   14.47|     305.67|        OK|    Current|      Individual|    13000| 10+ years|   75000.0|26.16|          0|    15551|      58.2|       13|                 0|     null|         60 |            10|             58.0|49.90740132438135|      26.16|      No|\n",
      "+----------+--------------+-----+------------------+--------+-----------+----------+-----------+----------------+---------+----------+----------+-----+-----------+---------+----------+---------+------------------+---------+------------+--------------+-----------------+-----------------+-----------+--------+\n",
      "only showing top 20 rows\n",
      "\n"
     ]
    }
   ],
   "source": [
    "lc_df = spark.table('lc_loan_data') # Converting to spark dataframe \n",
    "lc_df.show()"
   ]
  },
  {
   "cell_type": "code",
   "execution_count": 97,
   "metadata": {},
   "outputs": [
    {
     "name": "stdout",
     "output_type": "stream",
     "text": [
      "+-------+----------+--------------+-------+-------+-----------------+-----------------+----------+------------------+----------------+------------------+----------+------------------+------------------+------------------+------------------+------------------+------------------+------------------+-----------------+------------------+------------------+------------------+-----------------+------------------+--------+\n",
      "|summary|      term|home_ownership|  grade|purpose|         int_rate|      installment|addr_state|       loan_status|application_type|         loan_amnt|emp_length|        annual_inc|               dti|       delinq_2yrs|         revol_bal|        revol_util|         total_acc|num_tl_90g_dpd_24m|        dti_joint|      term_cleaned|    emplen_cleaned| revolutil_cleaned|          rev_avg|       dti_cleaned|bad_loan|\n",
      "+-------+----------+--------------+-------+-------+-----------------+-----------------+----------+------------------+----------------+------------------+----------+------------------+------------------+------------------+------------------+------------------+------------------+------------------+-----------------+------------------+------------------+------------------+-----------------+------------------+--------+\n",
      "|  count|   2260668|       2260668|2260668|2260668|          2260668|          2260668|   2260668|           2260668|         2260668|           2260668|   2260668|           2260664|           2258957|           2260639|           2260668|           2258866|           2260639|           2190392|           120706|           2260668|           2260668|           2260668|          2260668|           2260668| 2260668|\n",
      "|   mean|      null|          null|   null|   null|13.09291294419326|445.8076459263479|      null|              null|            null|15046.931227849467|      null| 77992.42868706738| 18.82419643667267|0.3068791611575311|16658.458077877865|50.337696246702926|24.162552269513178|0.0829376659520305|19.25181705963253| 42.91031854301472| 6.021240811993409| 49.90740132438078|49.90740132352951|18.824178357899857|    null|\n",
      "| stddev|      null|          null|   null|   null|4.832114232872322|267.1737249936559|      null|              null|            null| 9190.245488233122|      null|112696.19957435192|14.183328543078048|0.8672303328968344|22948.305027790688|24.713073320891283|11.987528317343706|0.4935732136320064|7.822085979598807|10.867161308524661|3.5854628476468844|24.706084260053252|              0.0|14.179782290150628|    null|\n",
      "|    min| 36 months|           ANY|      A|    car|             5.31|             4.93|        AK|       Charged Off|      Individual|               500|    1 year|               0.0|              -1.0|                 0|                 0|               0.0|                 1|                 0|              0.0|               36 |                  |               0.0|49.90740132438135|              -1.0|      No|\n",
      "|    max| 60 months|          RENT|      G|wedding|            30.99|          1719.83|        WY|Late (31-120 days)|       Joint App|             40000|       n/a|             1.1E8|             999.0|                58|           2904836|             892.3|               176|                58|            69.49|               60 |                 9|             892.0|49.90740132438135|             999.0|     Yes|\n",
      "+-------+----------+--------------+-------+-------+-----------------+-----------------+----------+------------------+----------------+------------------+----------+------------------+------------------+------------------+------------------+------------------+------------------+------------------+-----------------+------------------+------------------+------------------+-----------------+------------------+--------+\n",
      "\n"
     ]
    }
   ],
   "source": [
    "lc_df.describe().show()"
   ]
  },
  {
   "cell_type": "code",
   "execution_count": 100,
   "metadata": {},
   "outputs": [
    {
     "name": "stdout",
     "output_type": "stream",
     "text": [
      "+----------+--------------+\n",
      "|addr_state|sum(loan_amnt)|\n",
      "+----------+--------------+\n",
      "|        SC|     418481900|\n",
      "|        AZ|     780966125|\n",
      "|        LA|     382046275|\n",
      "|        MN|     577447675|\n",
      "|        NJ|    1316207975|\n",
      "|        DC|      84707250|\n",
      "|        OR|     379466875|\n",
      "|        VA|    1013015875|\n",
      "|        RI|     142960100|\n",
      "|        KY|     313557625|\n",
      "|        WY|      74153325|\n",
      "|        NH|     166469500|\n",
      "|        MI|     841646100|\n",
      "|        NV|     470165300|\n",
      "|        WI|     431766050|\n",
      "|        ID|      62088425|\n",
      "|        CA|    4808480100|\n",
      "|        CT|     547556950|\n",
      "|        NE|     110941450|\n",
      "|        MT|      88170825|\n",
      "+----------+--------------+\n",
      "only showing top 20 rows\n",
      "\n"
     ]
    }
   ],
   "source": [
    "spark.sql(\"SELECT addr_state, SUM(loan_amnt) FROM lc_loan_data GROUP BY addr_state\").show()\n",
    "\n",
    "# Can dump this to pandas df and visualize it using matplotlib. \n",
    "# Or can we use it directly into matplotlib?"
   ]
  },
  {
   "cell_type": "code",
   "execution_count": 103,
   "metadata": {},
   "outputs": [
    {
     "name": "stdout",
     "output_type": "stream",
     "text": [
      "+----------+------+\n",
      "|addr_state| count|\n",
      "+----------+------+\n",
      "|        SC| 28003|\n",
      "|        AZ| 53777|\n",
      "|        LA| 25759|\n",
      "|        MN| 39517|\n",
      "|        NJ| 83132|\n",
      "|        DC|  5356|\n",
      "|        OR| 26789|\n",
      "|        VA| 62954|\n",
      "|        RI| 10005|\n",
      "|        KY| 21887|\n",
      "|        WY|  4748|\n",
      "|        NH| 11142|\n",
      "|        MI| 58770|\n",
      "|        NV| 32657|\n",
      "|        WI| 29877|\n",
      "|        ID|  4308|\n",
      "|        CA|314533|\n",
      "|        CT| 35785|\n",
      "|        NE|  7819|\n",
      "|        MT|  6299|\n",
      "+----------+------+\n",
      "only showing top 20 rows\n",
      "\n"
     ]
    }
   ],
   "source": [
    "spark.sql(\"SELECT addr_state, COUNT(annual_inc) AS count FROM lc_loan_data GROUP BY addr_state\").show()"
   ]
  },
  {
   "cell_type": "code",
   "execution_count": 105,
   "metadata": {},
   "outputs": [
    {
     "name": "stdout",
     "output_type": "stream",
     "text": [
      "+----------+----------------+\n",
      "|addr_state|count(loan_amnt)|\n",
      "+----------+----------------+\n",
      "|        AZ|            7010|\n",
      "|        SC|            2934|\n",
      "|        LA|            3961|\n",
      "|        MN|            5183|\n",
      "|        NJ|           11290|\n",
      "|        DC|             522|\n",
      "|        OR|            2628|\n",
      "|        VA|            8379|\n",
      "|        RI|            1162|\n",
      "|        KY|            2929|\n",
      "|        WY|             544|\n",
      "|        NH|            1064|\n",
      "|        MI|            7838|\n",
      "|        NV|            4780|\n",
      "|        WI|            3639|\n",
      "|        ID|             372|\n",
      "|        CA|           42214|\n",
      "|        CT|            3905|\n",
      "|        NE|            1005|\n",
      "|        MT|             699|\n",
      "+----------+----------------+\n",
      "only showing top 20 rows\n",
      "\n"
     ]
    }
   ],
   "source": [
    "spark.sql(\"SELECT addr_state, COUNT(loan_amnt) FROM lc_loan_data WHERE bad_loan='Yes' GROUP BY addr_state\").show()"
   ]
  },
  {
   "cell_type": "code",
   "execution_count": 107,
   "metadata": {},
   "outputs": [
    {
     "name": "stdout",
     "output_type": "stream",
     "text": [
      "+-----+-------------+\n",
      "|grade|tot_loan_amnt|\n",
      "+-----+-------------+\n",
      "|    F|    799410225|\n",
      "|    E|   2367318100|\n",
      "|    B|   9404817775|\n",
      "|    D|   5097344375|\n",
      "|    C|   9775551175|\n",
      "|    A|   6323641900|\n",
      "|    G|    248032375|\n",
      "+-----+-------------+\n",
      "\n"
     ]
    }
   ],
   "source": [
    "spark.sql(\"SELECT grade, SUM(loan_amnt) AS tot_loan_amnt FROM lc_loan_data GROUP BY grade\").show()"
   ]
  },
  {
   "cell_type": "code",
   "execution_count": 109,
   "metadata": {},
   "outputs": [
    {
     "name": "stdout",
     "output_type": "stream",
     "text": [
      "+-----+--------+-------------+\n",
      "|grade|bad_loan|tot_loan_amnt|\n",
      "+-----+--------+-------------+\n",
      "|    G|     Yes|    100145100|\n",
      "|    B|      No|   8593430200|\n",
      "|    F|      No|    498421800|\n",
      "|    E|     Yes|    704175725|\n",
      "|    C|     Yes|   1430152275|\n",
      "|    B|     Yes|    811387575|\n",
      "|    A|     Yes|    224522800|\n",
      "|    F|     Yes|    300988425|\n",
      "|    C|      No|   8345398900|\n",
      "|    A|      No|   6099119100|\n",
      "|    E|      No|   1663142375|\n",
      "|    D|     Yes|   1084992775|\n",
      "|    G|      No|    147887275|\n",
      "|    D|      No|   4012351600|\n",
      "+-----+--------+-------------+\n",
      "\n"
     ]
    }
   ],
   "source": [
    "spark.sql(\"SELECT grade, bad_loan, SUM(loan_amnt) AS tot_loan_amnt FROM lc_loan_data GROUP BY grade, bad_loan\").show()"
   ]
  },
  {
   "cell_type": "code",
   "execution_count": null,
   "metadata": {},
   "outputs": [],
   "source": [
    "#lc_df = lc_df.withColumn(\"exposure\",when(lc_df.bad_loan==\"No\",col(\"revol_bal\")).otherwise(-10*col(\"revol_bal\")))\n",
    "#display(lc_df)"
   ]
  },
  {
   "cell_type": "code",
   "execution_count": null,
   "metadata": {},
   "outputs": [],
   "source": [
    "#display(lc_df.groupBy(\"bad_loan\",\"grade\").agg({\"exposure\": \"sum\"}))"
   ]
  },
  {
   "cell_type": "code",
   "execution_count": 110,
   "metadata": {},
   "outputs": [
    {
     "name": "stdout",
     "output_type": "stream",
     "text": [
      "+----+--------------+-----+-------+--------+-----------+----------+-----------+----------------+---------+----------+----------+----+-----------+---------+----------+---------+------------------+---------+------------+--------------+-----------------+-------+-----------+--------+\n",
      "|term|home_ownership|grade|purpose|int_rate|installment|addr_state|loan_status|application_type|loan_amnt|emp_length|annual_inc| dti|delinq_2yrs|revol_bal|revol_util|total_acc|num_tl_90g_dpd_24m|dti_joint|term_cleaned|emplen_cleaned|revolutil_cleaned|rev_avg|dti_cleaned|bad_loan|\n",
      "+----+--------------+-----+-------+--------+-----------+----------+-----------+----------------+---------+----------+----------+----+-----------+---------+----------+---------+------------------+---------+------------+--------------+-----------------+-------+-----------+--------+\n",
      "|   0|             0|    0|      0|       0|          0|         0|          0|               0|        0|         0|         4|1711|         29|        0|      1802|       29|             70276|  2139962|           0|             0|                0|      0|          0|       0|\n",
      "+----+--------------+-----+-------+--------+-----------+----------+-----------+----------------+---------+----------+----------+----+-----------+---------+----------+---------+------------------+---------+------------+--------------+-----------------+-------+-----------+--------+\n",
      "\n"
     ]
    }
   ],
   "source": [
    "lc_df.select([count(when(isnan(c) | col(c).isNull(), c)).alias(c) for c in lc_df.columns]).show()"
   ]
  },
  {
   "cell_type": "code",
   "execution_count": 111,
   "metadata": {},
   "outputs": [
    {
     "name": "stdout",
     "output_type": "stream",
     "text": [
      "+---------+--------+\n",
      "|loan_amnt|bad_loan|\n",
      "+---------+--------+\n",
      "|     2500|      No|\n",
      "|    30000|      No|\n",
      "|     5000|      No|\n",
      "|     4000|      No|\n",
      "|    30000|      No|\n",
      "|     5550|      No|\n",
      "|     2000|      No|\n",
      "|     6000|      No|\n",
      "|     5000|      No|\n",
      "|     6000|      No|\n",
      "|     5500|      No|\n",
      "|    28000|      No|\n",
      "|    11200|      No|\n",
      "|     6500|      No|\n",
      "|    22000|      No|\n",
      "|     3500|      No|\n",
      "|     7000|      No|\n",
      "|    25000|      No|\n",
      "|    16000|      No|\n",
      "|    13000|      No|\n",
      "+---------+--------+\n",
      "only showing top 20 rows\n",
      "\n"
     ]
    }
   ],
   "source": [
    "spark.sql(\"SELECT loan_amnt, bad_loan FROM lc_loan_data\").show()"
   ]
  },
  {
   "cell_type": "code",
   "execution_count": 113,
   "metadata": {},
   "outputs": [
    {
     "name": "stdout",
     "output_type": "stream",
     "text": [
      "+---------+\n",
      "|loan_amnt|\n",
      "+---------+\n",
      "|    20975|\n",
      "|    20000|\n",
      "|     9100|\n",
      "|     3525|\n",
      "|    11000|\n",
      "|     7000|\n",
      "|    11500|\n",
      "|     8000|\n",
      "|    22000|\n",
      "|    30000|\n",
      "|     9500|\n",
      "|    10000|\n",
      "|    34000|\n",
      "|    30000|\n",
      "|    11200|\n",
      "|     4850|\n",
      "|    24000|\n",
      "|    30000|\n",
      "|    16000|\n",
      "|     7400|\n",
      "+---------+\n",
      "only showing top 20 rows\n",
      "\n"
     ]
    }
   ],
   "source": [
    "spark.sql(\"SELECT loan_amnt FROM lc_loan_data WHERE bad_loan = 'Yes'\").show()"
   ]
  },
  {
   "cell_type": "code",
   "execution_count": 114,
   "metadata": {},
   "outputs": [
    {
     "data": {
      "text/plain": [
       "<function __main__.trim(string)>"
      ]
     },
     "execution_count": 114,
     "metadata": {},
     "output_type": "execute_result"
    }
   ],
   "source": [
    "def trim(string):\n",
    "    return string.strip('%')\n",
    "\n",
    "spark.udf.register(\"trimperct\", trim) # Including as use defined function"
   ]
  },
  {
   "cell_type": "code",
   "execution_count": 119,
   "metadata": {},
   "outputs": [],
   "source": [
    "#spark.sql(\"SELECT int_rate, CAST(trimperct(int_rate) AS float) AS int_rate_float FROM lc_loan_data\").show() # If it has % but I think we removed it. LEt's check in next line"
   ]
  },
  {
   "cell_type": "code",
   "execution_count": 118,
   "metadata": {},
   "outputs": [
    {
     "name": "stdout",
     "output_type": "stream",
     "text": [
      "+--------+\n",
      "|int_rate|\n",
      "+--------+\n",
      "|   13.56|\n",
      "|   18.94|\n",
      "|   17.97|\n",
      "|   18.94|\n",
      "|   16.14|\n",
      "|   15.02|\n",
      "|   17.97|\n",
      "|   13.56|\n",
      "|   17.97|\n",
      "|   14.47|\n",
      "|   22.35|\n",
      "|   11.31|\n",
      "|    8.19|\n",
      "|   17.97|\n",
      "|   12.98|\n",
      "|   16.14|\n",
      "|   12.98|\n",
      "|   16.91|\n",
      "|   20.89|\n",
      "|   14.47|\n",
      "+--------+\n",
      "only showing top 20 rows\n",
      "\n"
     ]
    }
   ],
   "source": [
    "spark.sql(\"SELECT int_rate FROM lc_loan_data\").show()"
   ]
  },
  {
   "cell_type": "code",
   "execution_count": 121,
   "metadata": {},
   "outputs": [
    {
     "name": "stdout",
     "output_type": "stream",
     "text": [
      "+--------+--------+\n",
      "|bad_loan|int_rate|\n",
      "+--------+--------+\n",
      "|      No|   13.56|\n",
      "|      No|   18.94|\n",
      "|      No|   17.97|\n",
      "|      No|   18.94|\n",
      "|      No|   16.14|\n",
      "|      No|   15.02|\n",
      "|      No|   17.97|\n",
      "|      No|   13.56|\n",
      "|      No|   17.97|\n",
      "|      No|   14.47|\n",
      "|      No|   22.35|\n",
      "|      No|   11.31|\n",
      "|      No|    8.19|\n",
      "|      No|   17.97|\n",
      "|      No|   12.98|\n",
      "|      No|   16.14|\n",
      "|      No|   12.98|\n",
      "|      No|   16.91|\n",
      "|      No|   20.89|\n",
      "|      No|   14.47|\n",
      "+--------+--------+\n",
      "only showing top 20 rows\n",
      "\n"
     ]
    }
   ],
   "source": [
    "spark.sql(\"SELECT bad_loan, int_rate FROM Lc_loan_data\").show()"
   ]
  },
  {
   "cell_type": "code",
   "execution_count": 123,
   "metadata": {},
   "outputs": [
    {
     "name": "stdout",
     "output_type": "stream",
     "text": [
      "+--------+-----------+\n",
      "|bad_loan|installment|\n",
      "+--------+-----------+\n",
      "|      No|      84.92|\n",
      "|      No|     777.23|\n",
      "|      No|     180.69|\n",
      "|      No|     146.51|\n",
      "|      No|     731.78|\n",
      "|      No|     192.45|\n",
      "|      No|      72.28|\n",
      "|      No|     203.79|\n",
      "|      No|     180.69|\n",
      "|      No|     206.44|\n",
      "|      No|     211.05|\n",
      "|      No|     613.13|\n",
      "|      No|     351.95|\n",
      "|      No|      234.9|\n",
      "|      No|     500.35|\n",
      "|      No|      123.3|\n",
      "|      No|      235.8|\n",
      "|      No|     620.11|\n",
      "|      No|     431.87|\n",
      "|      No|     305.67|\n",
      "+--------+-----------+\n",
      "only showing top 20 rows\n",
      "\n"
     ]
    }
   ],
   "source": [
    "spark.sql(\"SELECT bad_loan, installment FROM lc_loan_data\").show()"
   ]
  },
  {
   "cell_type": "code",
   "execution_count": 125,
   "metadata": {},
   "outputs": [
    {
     "name": "stdout",
     "output_type": "stream",
     "text": [
      "+--------------+--------+---------+\n",
      "|home_ownership|bad_loan|loan_amnt|\n",
      "+--------------+--------+---------+\n",
      "|          RENT|      No|     2500|\n",
      "|      MORTGAGE|      No|    30000|\n",
      "|      MORTGAGE|      No|     5000|\n",
      "|      MORTGAGE|      No|     4000|\n",
      "|      MORTGAGE|      No|    30000|\n",
      "|      MORTGAGE|      No|     5550|\n",
      "|          RENT|      No|     2000|\n",
      "|          RENT|      No|     6000|\n",
      "|      MORTGAGE|      No|     5000|\n",
      "|           OWN|      No|     6000|\n",
      "|      MORTGAGE|      No|     5500|\n",
      "|      MORTGAGE|      No|    28000|\n",
      "|      MORTGAGE|      No|    11200|\n",
      "|      MORTGAGE|      No|     6500|\n",
      "|      MORTGAGE|      No|    22000|\n",
      "|      MORTGAGE|      No|     3500|\n",
      "|      MORTGAGE|      No|     7000|\n",
      "|      MORTGAGE|      No|    25000|\n",
      "|      MORTGAGE|      No|    16000|\n",
      "|      MORTGAGE|      No|    13000|\n",
      "+--------------+--------+---------+\n",
      "only showing top 20 rows\n",
      "\n"
     ]
    }
   ],
   "source": [
    "spark.sql(\"SELECT home_ownership, bad_loan, loan_amnt FROM lc_loan_data\").show()"
   ]
  },
  {
   "cell_type": "code",
   "execution_count": 127,
   "metadata": {},
   "outputs": [
    {
     "name": "stdout",
     "output_type": "stream",
     "text": [
      "+-----+----------------+------+\n",
      "|grade|         purpose| count|\n",
      "+-----+----------------+------+\n",
      "|    B|          moving|  3402|\n",
      "|    G|         wedding|    26|\n",
      "|    D|     credit_card| 48764|\n",
      "|    F|home_improvement|  2514|\n",
      "|    F|          moving|   530|\n",
      "|    D|renewable_energy|   298|\n",
      "|    D|         wedding|   506|\n",
      "|    B|         wedding|   554|\n",
      "|    C|renewable_energy|   419|\n",
      "|    A|     credit_card|140508|\n",
      "|    G|         medical|   132|\n",
      "|    E|renewable_energy|   151|\n",
      "|    F|           house|   597|\n",
      "|    A|         medical|  4459|\n",
      "|    A|         wedding|   449|\n",
      "|    C|          moving|  4785|\n",
      "|    E|         wedding|   221|\n",
      "|    B|     educational|   112|\n",
      "|    E|         medical|  1919|\n",
      "|    D|  major_purchase|  6875|\n",
      "+-----+----------------+------+\n",
      "only showing top 20 rows\n",
      "\n"
     ]
    }
   ],
   "source": [
    "spark.sql(\"SELECT grade, purpose, COUNT(*) AS count FROM lc_loan_data GROUP BY grade, purpose\").show()"
   ]
  },
  {
   "cell_type": "code",
   "execution_count": 128,
   "metadata": {},
   "outputs": [
    {
     "name": "stdout",
     "output_type": "stream",
     "text": [
      "+-----+--------------------+------------------+\n",
      "|grade|         loan_status|count(loan_status)|\n",
      "+-----+--------------------+------------------+\n",
      "|    E|          Fully Paid|             56206|\n",
      "|    A|Does not meet the...|                90|\n",
      "|    E|             Default|                 4|\n",
      "|    B|   Late (16-30 days)|               824|\n",
      "|    A|     In Grace Period|               668|\n",
      "|    C|  Late (31-120 days)|              7640|\n",
      "|    C|             Default|                 9|\n",
      "|    F|  Late (31-120 days)|               718|\n",
      "|    G|Does not meet the...|                72|\n",
      "|    D|             Default|                 8|\n",
      "|    C|          Fully Paid|            286666|\n",
      "|    B|             Default|                 6|\n",
      "|    E|   Late (16-30 days)|               335|\n",
      "|    F|          Fully Paid|             17220|\n",
      "|    E|     In Grace Period|               794|\n",
      "|    F|   Late (16-30 days)|               114|\n",
      "|    A|             Current|            204435|\n",
      "|    G|     In Grace Period|                93|\n",
      "|    C|Does not meet the...|               148|\n",
      "|    A|  Late (31-120 days)|              1314|\n",
      "+-----+--------------------+------------------+\n",
      "only showing top 20 rows\n",
      "\n"
     ]
    }
   ],
   "source": [
    "spark.sql(\"SELECT grade, loan_status, COUNT(loan_status) FROM lc_loan_data GROUP BY grade, loan_status\").show()"
   ]
  },
  {
   "cell_type": "code",
   "execution_count": 130,
   "metadata": {},
   "outputs": [
    {
     "name": "stdout",
     "output_type": "stream",
     "text": [
      "+--------+--------+\n",
      "|bad_loan|count(1)|\n",
      "+--------+--------+\n",
      "|      No| 1964427|\n",
      "|     Yes|  296241|\n",
      "+--------+--------+\n",
      "\n"
     ]
    }
   ],
   "source": [
    "spark.sql(\"SELECT bad_loan, count(*) FROM lc_loan_data GROUP BY bad_loan\").show()"
   ]
  },
  {
   "cell_type": "code",
   "execution_count": 132,
   "metadata": {},
   "outputs": [
    {
     "name": "stdout",
     "output_type": "stream",
     "text": [
      "+-----------+---------+--------+\n",
      "|installment|loan_amnt|bad_loan|\n",
      "+-----------+---------+--------+\n",
      "|      84.92|     2500|      No|\n",
      "|     777.23|    30000|      No|\n",
      "|     180.69|     5000|      No|\n",
      "|     146.51|     4000|      No|\n",
      "|     731.78|    30000|      No|\n",
      "|     192.45|     5550|      No|\n",
      "|      72.28|     2000|      No|\n",
      "|     203.79|     6000|      No|\n",
      "|     180.69|     5000|      No|\n",
      "|     206.44|     6000|      No|\n",
      "|     211.05|     5500|      No|\n",
      "|     613.13|    28000|      No|\n",
      "|     351.95|    11200|      No|\n",
      "|      234.9|     6500|      No|\n",
      "|     500.35|    22000|      No|\n",
      "|      123.3|     3500|      No|\n",
      "|      235.8|     7000|      No|\n",
      "|     620.11|    25000|      No|\n",
      "|     431.87|    16000|      No|\n",
      "|     305.67|    13000|      No|\n",
      "+-----------+---------+--------+\n",
      "only showing top 20 rows\n",
      "\n"
     ]
    }
   ],
   "source": [
    "spark.sql(\"SELECT installment, loan_amnt, bad_loan FROM lc_loan_data\").show()"
   ]
  },
  {
   "cell_type": "code",
   "execution_count": 133,
   "metadata": {},
   "outputs": [
    {
     "data": {
      "text/plain": [
       "0.9456267528524241"
      ]
     },
     "execution_count": 133,
     "metadata": {},
     "output_type": "execute_result"
    }
   ],
   "source": [
    "lc_df.stat.corr('installment', 'loan_amnt')"
   ]
  },
  {
   "cell_type": "code",
   "execution_count": 137,
   "metadata": {},
   "outputs": [
    {
     "name": "stderr",
     "output_type": "stream",
     "text": [
      "ERROR:py4j.java_gateway:An error occurred while trying to connect to the Java server (127.0.0.1:35561)\n",
      "Traceback (most recent call last):\n",
      "  File \"/home/venom/anaconda3/lib/python3.7/site-packages/py4j/java_gateway.py\", line 977, in _get_connection\n",
      "    connection = self.deque.pop()\n",
      "IndexError: pop from an empty deque\n",
      "\n",
      "During handling of the above exception, another exception occurred:\n",
      "\n",
      "Traceback (most recent call last):\n",
      "  File \"/home/venom/anaconda3/lib/python3.7/site-packages/py4j/java_gateway.py\", line 1115, in start\n",
      "    self.socket.connect((self.address, self.port))\n",
      "ConnectionRefusedError: [Errno 111] Connection refused\n"
     ]
    },
    {
     "ename": "Py4JNetworkError",
     "evalue": "An error occurred while trying to connect to the Java server (127.0.0.1:35561)",
     "output_type": "error",
     "traceback": [
      "\u001b[0;31m---------------------------------------------------------------------------\u001b[0m",
      "\u001b[0;31mIndexError\u001b[0m                                Traceback (most recent call last)",
      "\u001b[0;32m~/anaconda3/lib/python3.7/site-packages/py4j/java_gateway.py\u001b[0m in \u001b[0;36m_get_connection\u001b[0;34m(self)\u001b[0m\n\u001b[1;32m    976\u001b[0m         \u001b[0;32mtry\u001b[0m\u001b[0;34m:\u001b[0m\u001b[0;34m\u001b[0m\u001b[0;34m\u001b[0m\u001b[0m\n\u001b[0;32m--> 977\u001b[0;31m             \u001b[0mconnection\u001b[0m \u001b[0;34m=\u001b[0m \u001b[0mself\u001b[0m\u001b[0;34m.\u001b[0m\u001b[0mdeque\u001b[0m\u001b[0;34m.\u001b[0m\u001b[0mpop\u001b[0m\u001b[0;34m(\u001b[0m\u001b[0;34m)\u001b[0m\u001b[0;34m\u001b[0m\u001b[0;34m\u001b[0m\u001b[0m\n\u001b[0m\u001b[1;32m    978\u001b[0m         \u001b[0;32mexcept\u001b[0m \u001b[0mIndexError\u001b[0m\u001b[0;34m:\u001b[0m\u001b[0;34m\u001b[0m\u001b[0;34m\u001b[0m\u001b[0m\n",
      "\u001b[0;31mIndexError\u001b[0m: pop from an empty deque",
      "\nDuring handling of the above exception, another exception occurred:\n",
      "\u001b[0;31mConnectionRefusedError\u001b[0m                    Traceback (most recent call last)",
      "\u001b[0;32m~/anaconda3/lib/python3.7/site-packages/py4j/java_gateway.py\u001b[0m in \u001b[0;36mstart\u001b[0;34m(self)\u001b[0m\n\u001b[1;32m   1114\u001b[0m         \u001b[0;32mtry\u001b[0m\u001b[0;34m:\u001b[0m\u001b[0;34m\u001b[0m\u001b[0;34m\u001b[0m\u001b[0m\n\u001b[0;32m-> 1115\u001b[0;31m             \u001b[0mself\u001b[0m\u001b[0;34m.\u001b[0m\u001b[0msocket\u001b[0m\u001b[0;34m.\u001b[0m\u001b[0mconnect\u001b[0m\u001b[0;34m(\u001b[0m\u001b[0;34m(\u001b[0m\u001b[0mself\u001b[0m\u001b[0;34m.\u001b[0m\u001b[0maddress\u001b[0m\u001b[0;34m,\u001b[0m \u001b[0mself\u001b[0m\u001b[0;34m.\u001b[0m\u001b[0mport\u001b[0m\u001b[0;34m)\u001b[0m\u001b[0;34m)\u001b[0m\u001b[0;34m\u001b[0m\u001b[0;34m\u001b[0m\u001b[0m\n\u001b[0m\u001b[1;32m   1116\u001b[0m             \u001b[0mself\u001b[0m\u001b[0;34m.\u001b[0m\u001b[0mstream\u001b[0m \u001b[0;34m=\u001b[0m \u001b[0mself\u001b[0m\u001b[0;34m.\u001b[0m\u001b[0msocket\u001b[0m\u001b[0;34m.\u001b[0m\u001b[0mmakefile\u001b[0m\u001b[0;34m(\u001b[0m\u001b[0;34m\"rb\"\u001b[0m\u001b[0;34m)\u001b[0m\u001b[0;34m\u001b[0m\u001b[0;34m\u001b[0m\u001b[0m\n",
      "\u001b[0;31mConnectionRefusedError\u001b[0m: [Errno 111] Connection refused",
      "\nDuring handling of the above exception, another exception occurred:\n",
      "\u001b[0;31mPy4JNetworkError\u001b[0m                          Traceback (most recent call last)",
      "\u001b[0;32m<ipython-input-137-05a23cdb1bdc>\u001b[0m in \u001b[0;36m<module>\u001b[0;34m\u001b[0m\n\u001b[0;32m----> 1\u001b[0;31m \u001b[0mpd_df\u001b[0m\u001b[0;34m=\u001b[0m\u001b[0mlc_df\u001b[0m\u001b[0;34m.\u001b[0m\u001b[0mtoPandas\u001b[0m\u001b[0;34m(\u001b[0m\u001b[0;34m)\u001b[0m\u001b[0;34m\u001b[0m\u001b[0;34m\u001b[0m\u001b[0m\n\u001b[0m",
      "\u001b[0;32m~/anaconda3/lib/python3.7/site-packages/pyspark/sql/pandas/conversion.py\u001b[0m in \u001b[0;36mtoPandas\u001b[0;34m(self)\u001b[0m\n\u001b[1;32m     66\u001b[0m         \u001b[0;32mimport\u001b[0m \u001b[0mpandas\u001b[0m \u001b[0;32mas\u001b[0m \u001b[0mpd\u001b[0m\u001b[0;34m\u001b[0m\u001b[0;34m\u001b[0m\u001b[0m\n\u001b[1;32m     67\u001b[0m \u001b[0;34m\u001b[0m\u001b[0m\n\u001b[0;32m---> 68\u001b[0;31m         \u001b[0mtimezone\u001b[0m \u001b[0;34m=\u001b[0m \u001b[0mself\u001b[0m\u001b[0;34m.\u001b[0m\u001b[0msql_ctx\u001b[0m\u001b[0;34m.\u001b[0m\u001b[0m_conf\u001b[0m\u001b[0;34m.\u001b[0m\u001b[0msessionLocalTimeZone\u001b[0m\u001b[0;34m(\u001b[0m\u001b[0;34m)\u001b[0m\u001b[0;34m\u001b[0m\u001b[0;34m\u001b[0m\u001b[0m\n\u001b[0m\u001b[1;32m     69\u001b[0m \u001b[0;34m\u001b[0m\u001b[0m\n\u001b[1;32m     70\u001b[0m         \u001b[0;32mif\u001b[0m \u001b[0mself\u001b[0m\u001b[0;34m.\u001b[0m\u001b[0msql_ctx\u001b[0m\u001b[0;34m.\u001b[0m\u001b[0m_conf\u001b[0m\u001b[0;34m.\u001b[0m\u001b[0marrowPySparkEnabled\u001b[0m\u001b[0;34m(\u001b[0m\u001b[0;34m)\u001b[0m\u001b[0;34m:\u001b[0m\u001b[0;34m\u001b[0m\u001b[0;34m\u001b[0m\u001b[0m\n",
      "\u001b[0;32m~/anaconda3/lib/python3.7/site-packages/pyspark/sql/context.py\u001b[0m in \u001b[0;36m_conf\u001b[0;34m(self)\u001b[0m\n\u001b[1;32m    103\u001b[0m     \u001b[0;32mdef\u001b[0m \u001b[0m_conf\u001b[0m\u001b[0;34m(\u001b[0m\u001b[0mself\u001b[0m\u001b[0;34m)\u001b[0m\u001b[0;34m:\u001b[0m\u001b[0;34m\u001b[0m\u001b[0;34m\u001b[0m\u001b[0m\n\u001b[1;32m    104\u001b[0m         \u001b[0;34m\"\"\"Accessor for the JVM SQL-specific configurations\"\"\"\u001b[0m\u001b[0;34m\u001b[0m\u001b[0;34m\u001b[0m\u001b[0m\n\u001b[0;32m--> 105\u001b[0;31m         \u001b[0;32mreturn\u001b[0m \u001b[0mself\u001b[0m\u001b[0;34m.\u001b[0m\u001b[0msparkSession\u001b[0m\u001b[0;34m.\u001b[0m\u001b[0m_jsparkSession\u001b[0m\u001b[0;34m.\u001b[0m\u001b[0msessionState\u001b[0m\u001b[0;34m(\u001b[0m\u001b[0;34m)\u001b[0m\u001b[0;34m.\u001b[0m\u001b[0mconf\u001b[0m\u001b[0;34m(\u001b[0m\u001b[0;34m)\u001b[0m\u001b[0;34m\u001b[0m\u001b[0;34m\u001b[0m\u001b[0m\n\u001b[0m\u001b[1;32m    106\u001b[0m \u001b[0;34m\u001b[0m\u001b[0m\n\u001b[1;32m    107\u001b[0m     \u001b[0;34m@\u001b[0m\u001b[0mclassmethod\u001b[0m\u001b[0;34m\u001b[0m\u001b[0;34m\u001b[0m\u001b[0m\n",
      "\u001b[0;32m~/anaconda3/lib/python3.7/site-packages/py4j/java_gateway.py\u001b[0m in \u001b[0;36m__call__\u001b[0;34m(self, *args)\u001b[0m\n\u001b[1;32m   1301\u001b[0m             \u001b[0mproto\u001b[0m\u001b[0;34m.\u001b[0m\u001b[0mEND_COMMAND_PART\u001b[0m\u001b[0;34m\u001b[0m\u001b[0;34m\u001b[0m\u001b[0m\n\u001b[1;32m   1302\u001b[0m \u001b[0;34m\u001b[0m\u001b[0m\n\u001b[0;32m-> 1303\u001b[0;31m         \u001b[0manswer\u001b[0m \u001b[0;34m=\u001b[0m \u001b[0mself\u001b[0m\u001b[0;34m.\u001b[0m\u001b[0mgateway_client\u001b[0m\u001b[0;34m.\u001b[0m\u001b[0msend_command\u001b[0m\u001b[0;34m(\u001b[0m\u001b[0mcommand\u001b[0m\u001b[0;34m)\u001b[0m\u001b[0;34m\u001b[0m\u001b[0;34m\u001b[0m\u001b[0m\n\u001b[0m\u001b[1;32m   1304\u001b[0m         return_value = get_return_value(\n\u001b[1;32m   1305\u001b[0m             answer, self.gateway_client, self.target_id, self.name)\n",
      "\u001b[0;32m~/anaconda3/lib/python3.7/site-packages/py4j/java_gateway.py\u001b[0m in \u001b[0;36msend_command\u001b[0;34m(self, command, retry, binary)\u001b[0m\n\u001b[1;32m   1029\u001b[0m          \u001b[0;32mif\u001b[0m\u001b[0;31m \u001b[0m\u001b[0;31m`\u001b[0m\u001b[0mbinary\u001b[0m\u001b[0;31m`\u001b[0m \u001b[0;32mis\u001b[0m\u001b[0;31m \u001b[0m\u001b[0;31m`\u001b[0m\u001b[0;32mTrue\u001b[0m\u001b[0;31m`\u001b[0m\u001b[0;34m.\u001b[0m\u001b[0;34m\u001b[0m\u001b[0;34m\u001b[0m\u001b[0m\n\u001b[1;32m   1030\u001b[0m         \"\"\"\n\u001b[0;32m-> 1031\u001b[0;31m         \u001b[0mconnection\u001b[0m \u001b[0;34m=\u001b[0m \u001b[0mself\u001b[0m\u001b[0;34m.\u001b[0m\u001b[0m_get_connection\u001b[0m\u001b[0;34m(\u001b[0m\u001b[0;34m)\u001b[0m\u001b[0;34m\u001b[0m\u001b[0;34m\u001b[0m\u001b[0m\n\u001b[0m\u001b[1;32m   1032\u001b[0m         \u001b[0;32mtry\u001b[0m\u001b[0;34m:\u001b[0m\u001b[0;34m\u001b[0m\u001b[0;34m\u001b[0m\u001b[0m\n\u001b[1;32m   1033\u001b[0m             \u001b[0mresponse\u001b[0m \u001b[0;34m=\u001b[0m \u001b[0mconnection\u001b[0m\u001b[0;34m.\u001b[0m\u001b[0msend_command\u001b[0m\u001b[0;34m(\u001b[0m\u001b[0mcommand\u001b[0m\u001b[0;34m)\u001b[0m\u001b[0;34m\u001b[0m\u001b[0;34m\u001b[0m\u001b[0m\n",
      "\u001b[0;32m~/anaconda3/lib/python3.7/site-packages/py4j/java_gateway.py\u001b[0m in \u001b[0;36m_get_connection\u001b[0;34m(self)\u001b[0m\n\u001b[1;32m    977\u001b[0m             \u001b[0mconnection\u001b[0m \u001b[0;34m=\u001b[0m \u001b[0mself\u001b[0m\u001b[0;34m.\u001b[0m\u001b[0mdeque\u001b[0m\u001b[0;34m.\u001b[0m\u001b[0mpop\u001b[0m\u001b[0;34m(\u001b[0m\u001b[0;34m)\u001b[0m\u001b[0;34m\u001b[0m\u001b[0;34m\u001b[0m\u001b[0m\n\u001b[1;32m    978\u001b[0m         \u001b[0;32mexcept\u001b[0m \u001b[0mIndexError\u001b[0m\u001b[0;34m:\u001b[0m\u001b[0;34m\u001b[0m\u001b[0;34m\u001b[0m\u001b[0m\n\u001b[0;32m--> 979\u001b[0;31m             \u001b[0mconnection\u001b[0m \u001b[0;34m=\u001b[0m \u001b[0mself\u001b[0m\u001b[0;34m.\u001b[0m\u001b[0m_create_connection\u001b[0m\u001b[0;34m(\u001b[0m\u001b[0;34m)\u001b[0m\u001b[0;34m\u001b[0m\u001b[0;34m\u001b[0m\u001b[0m\n\u001b[0m\u001b[1;32m    980\u001b[0m         \u001b[0;32mreturn\u001b[0m \u001b[0mconnection\u001b[0m\u001b[0;34m\u001b[0m\u001b[0;34m\u001b[0m\u001b[0m\n\u001b[1;32m    981\u001b[0m \u001b[0;34m\u001b[0m\u001b[0m\n",
      "\u001b[0;32m~/anaconda3/lib/python3.7/site-packages/py4j/java_gateway.py\u001b[0m in \u001b[0;36m_create_connection\u001b[0;34m(self)\u001b[0m\n\u001b[1;32m    983\u001b[0m         connection = GatewayConnection(\n\u001b[1;32m    984\u001b[0m             self.gateway_parameters, self.gateway_property)\n\u001b[0;32m--> 985\u001b[0;31m         \u001b[0mconnection\u001b[0m\u001b[0;34m.\u001b[0m\u001b[0mstart\u001b[0m\u001b[0;34m(\u001b[0m\u001b[0;34m)\u001b[0m\u001b[0;34m\u001b[0m\u001b[0;34m\u001b[0m\u001b[0m\n\u001b[0m\u001b[1;32m    986\u001b[0m         \u001b[0;32mreturn\u001b[0m \u001b[0mconnection\u001b[0m\u001b[0;34m\u001b[0m\u001b[0;34m\u001b[0m\u001b[0m\n\u001b[1;32m    987\u001b[0m \u001b[0;34m\u001b[0m\u001b[0m\n",
      "\u001b[0;32m~/anaconda3/lib/python3.7/site-packages/py4j/java_gateway.py\u001b[0m in \u001b[0;36mstart\u001b[0;34m(self)\u001b[0m\n\u001b[1;32m   1125\u001b[0m                 \u001b[0;34m\"server ({0}:{1})\"\u001b[0m\u001b[0;34m.\u001b[0m\u001b[0mformat\u001b[0m\u001b[0;34m(\u001b[0m\u001b[0mself\u001b[0m\u001b[0;34m.\u001b[0m\u001b[0maddress\u001b[0m\u001b[0;34m,\u001b[0m \u001b[0mself\u001b[0m\u001b[0;34m.\u001b[0m\u001b[0mport\u001b[0m\u001b[0;34m)\u001b[0m\u001b[0;34m\u001b[0m\u001b[0;34m\u001b[0m\u001b[0m\n\u001b[1;32m   1126\u001b[0m             \u001b[0mlogger\u001b[0m\u001b[0;34m.\u001b[0m\u001b[0mexception\u001b[0m\u001b[0;34m(\u001b[0m\u001b[0mmsg\u001b[0m\u001b[0;34m)\u001b[0m\u001b[0;34m\u001b[0m\u001b[0;34m\u001b[0m\u001b[0m\n\u001b[0;32m-> 1127\u001b[0;31m             \u001b[0;32mraise\u001b[0m \u001b[0mPy4JNetworkError\u001b[0m\u001b[0;34m(\u001b[0m\u001b[0mmsg\u001b[0m\u001b[0;34m,\u001b[0m \u001b[0me\u001b[0m\u001b[0;34m)\u001b[0m\u001b[0;34m\u001b[0m\u001b[0;34m\u001b[0m\u001b[0m\n\u001b[0m\u001b[1;32m   1128\u001b[0m \u001b[0;34m\u001b[0m\u001b[0m\n\u001b[1;32m   1129\u001b[0m     \u001b[0;32mdef\u001b[0m \u001b[0m_authenticate_connection\u001b[0m\u001b[0;34m(\u001b[0m\u001b[0mself\u001b[0m\u001b[0;34m)\u001b[0m\u001b[0;34m:\u001b[0m\u001b[0;34m\u001b[0m\u001b[0;34m\u001b[0m\u001b[0m\n",
      "\u001b[0;31mPy4JNetworkError\u001b[0m: An error occurred while trying to connect to the Java server (127.0.0.1:35561)"
     ]
    }
   ],
   "source": [
    "pd_df=lc_df.toPandas()"
   ]
  },
  {
   "cell_type": "code",
   "execution_count": 138,
   "metadata": {},
   "outputs": [],
   "source": [
    "# Fix above error"
   ]
  },
  {
   "cell_type": "code",
   "execution_count": null,
   "metadata": {},
   "outputs": [],
   "source": [
    "import matplotlib.pyplot as plt\n",
    "import seaborn as sns\n",
    "plt.clf()\n",
    "sns.distplot(pd_df.loc[pd_df['dti'].notnull() & (pd_df['dti']<50), 'dti'])\n",
    "plt.xlabel('dti')\n",
    "plt.ylabel('count')\n",
    "display()"
   ]
  },
  {
   "cell_type": "code",
   "execution_count": null,
   "metadata": {},
   "outputs": [],
   "source": [
    "import matplotlib.pyplot as plt\n",
    "import seaborn as sns\n",
    "import numpy as np\n",
    "plt.clf()\n",
    "sns.countplot(pd_df.loc[pd_df['total_acc']<120,'total_acc'],order=sorted(pd_df['total_acc'].unique()), saturation=1)\n",
    "_, _ = plt.xticks(np.arange(0, 120, 10), np.arange(0, 120, 10))\n",
    "plt.xlabel('total_acc')\n",
    "plt.ylabel('count')\n",
    "display()"
   ]
  },
  {
   "cell_type": "code",
   "execution_count": null,
   "metadata": {},
   "outputs": [],
   "source": []
  },
  {
   "cell_type": "code",
   "execution_count": null,
   "metadata": {},
   "outputs": [],
   "source": [
    "##################### Kaggle Kernel"
   ]
  },
  {
   "cell_type": "code",
   "execution_count": null,
   "metadata": {},
   "outputs": [],
   "source": []
  },
  {
   "cell_type": "code",
   "execution_count": null,
   "metadata": {},
   "outputs": [],
   "source": []
  },
  {
   "cell_type": "code",
   "execution_count": null,
   "metadata": {},
   "outputs": [],
   "source": []
  },
  {
   "cell_type": "code",
   "execution_count": null,
   "metadata": {},
   "outputs": [],
   "source": []
  },
  {
   "cell_type": "code",
   "execution_count": null,
   "metadata": {},
   "outputs": [],
   "source": []
  },
  {
   "cell_type": "code",
   "execution_count": null,
   "metadata": {},
   "outputs": [],
   "source": []
  }
 ],
 "metadata": {
  "kernelspec": {
   "display_name": "Python 3",
   "language": "python",
   "name": "python3"
  },
  "language_info": {
   "codemirror_mode": {
    "name": "ipython",
    "version": 3
   },
   "file_extension": ".py",
   "mimetype": "text/x-python",
   "name": "python",
   "nbconvert_exporter": "python",
   "pygments_lexer": "ipython3",
   "version": "3.7.4"
  }
 },
 "nbformat": 4,
 "nbformat_minor": 4
}
